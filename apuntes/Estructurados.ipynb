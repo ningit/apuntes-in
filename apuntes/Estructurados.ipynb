{
 "cells": [
  {
   "cell_type": "markdown",
   "id": "28870fc6-dbfc-45a0-9c55-27e74f10a301",
   "metadata": {},
   "source": [
    "# Tipos estructurados, clases y objetos"
   ]
  },
  {
   "cell_type": "markdown",
   "id": "51b69d1f-ef8d-4ed2-b735-50d48251d868",
   "metadata": {},
   "source": [
    "Hemos utilizado en nuestros programas datos de tipos muy diversos como `918`, `3.1416`, `'hola'`, `True`, `(1, 2)`, `[3, 2, 1, 0]`, `{93: 'Barcelona', 958: 'Granada'}`, `{6.7, 8.9}` o incluso `open('mi_archivo.txt')` y seguramente nos hayamos referido a todos ellos con el nombre genérico de *objetos*. Es posible que incluso hayamos dicho que *todo es un objeto en Python*. Sin embargo, ¿qué es un objeto? *Objeto* es simplemente la denominación abstracta con la que nos referimos a cualquier dato que podemos manipular en el lenguaje. Todos ellos tienen unas características comunes:\n",
    "\n",
    "1. un tipo\n",
    "2. una representación interna\n",
    "3. un conjunto de métodos para interactuar con él"
   ]
  },
  {
   "cell_type": "markdown",
   "id": "25378de1-9531-42d1-a81e-211590e174d6",
   "metadata": {},
   "source": [
    "Por ejemplo, el **tipo** de los objetos anteriores es respectivamente `int`, `float`, `str`, `bool`, `tuple`, `list`, `dict`, `set` y `_io.TextIOWrapper`<footnote text=\"Que el nombre del tipo `_io.TextIOWrapper` empiece por un barra baja (`_`) indica que es tipo de datos interno de la implementación de Python y que su nombre no debe ser utilizado por el usuario.\"/>. Se dice que cada uno de estos objetos es una *instancia* de su respectivo tipo. El tipo de un objeto se puede obtener con la función `type` que ya ha aparecido anteriormente:"
   ]
  },
  {
   "cell_type": "code",
   "execution_count": 1,
   "id": "a2a17eb8-e359-43ef-b8f6-bde3237dabaa",
   "metadata": {
    "tags": []
   },
   "outputs": [
    {
     "data": {
      "text/plain": [
       "list"
      ]
     },
     "execution_count": 1,
     "metadata": {},
     "output_type": "execute_result"
    }
   ],
   "source": [
    "hoy = [27, 2, 2023]\n",
    "type(hoy)"
   ]
  },
  {
   "cell_type": "markdown",
   "id": "a3eb269f-2d94-405d-9839-8f16deba65d9",
   "metadata": {},
   "source": [
    "El objeto `hoy` es pues una lista, es decir, una instancia del tipo `list`. Además Python tiene un predicado `isinstance` para comprobar si un objeto es instancia de cierto tipo."
   ]
  },
  {
   "cell_type": "code",
   "execution_count": 2,
   "id": "8055b9f3-f0a3-43c8-9953-31e0955c72b9",
   "metadata": {
    "tags": []
   },
   "outputs": [
    {
     "data": {
      "text/plain": [
       "(True, False)"
      ]
     },
     "execution_count": 2,
     "metadata": {},
     "output_type": "execute_result"
    }
   ],
   "source": [
    "isinstance(hoy, list), isinstance(hoy, str)"
   ]
  },
  {
   "cell_type": "markdown",
   "id": "4b446f94-c677-42ed-a3ea-aada2d4ccea5",
   "metadata": {},
   "source": [
    "Por curiosidad, los tipos como `list` también son objetos y tienen tipo."
   ]
  },
  {
   "cell_type": "code",
   "execution_count": 3,
   "id": "2ae10e93-b259-4dfd-9e3d-81fb0ce211ec",
   "metadata": {
    "tags": []
   },
   "outputs": [
    {
     "data": {
      "text/plain": [
       "type"
      ]
     },
     "execution_count": 3,
     "metadata": {},
     "output_type": "execute_result"
    }
   ],
   "source": [
    "type(list)"
   ]
  },
  {
   "cell_type": "markdown",
   "id": "676eef5c-0c60-4b27-8a0b-ada408897287",
   "metadata": {},
   "source": [
    "Cada objeto tiene una **representación interna** en la memoria del ordenador que le identifica y almacena la información bajo su responsabilidad. Al más bajo nivel de abstracción, cada objeto ocupa una cierta cantidad de *bytes* en la memoria de la máquina mientras se ejecuta el programa, que seguramente contenga referencias a otros objetos asociados. Como mera curiosidad, podemos conocer cuánto ocupa un objeto en la memoria con la función `getsizeof` del paquete `sys`."
   ]
  },
  {
   "cell_type": "code",
   "execution_count": 4,
   "id": "9772f664",
   "metadata": {},
   "outputs": [
    {
     "data": {
      "text/plain": [
       "88"
      ]
     },
     "execution_count": 4,
     "metadata": {},
     "output_type": "execute_result"
    }
   ],
   "source": [
    "import sys\n",
    "sys.getsizeof(hoy)"
   ]
  },
  {
   "cell_type": "markdown",
   "id": "6c219a8f",
   "metadata": {},
   "source": [
    "Los objetos asociados no contribuyen a esa cuenta (por ejemplo, el número anterior no incluye el tamaño de los propios elementos de la lista) porque se pueden compartir con otros objetos como vimos en el tema de mutabilidad y compartición. Sin embargo, el significado de esos 88 bytes nos resulta indiferente, pues el punto de vista del programador es más abstracto. Simplemente podemos considerar que hay ciertos tipos primitivos, algunos simples como los números o los caracteres y otros compuestos como las listas y las tuplas, que podemos combinar para representar los datos que queramos. Por ejemplo, hemos construido matrices al principio del cuatrimestre combinando listas de listas, o colores como listas de 3 números.\n",
    "\n",
    "La representación de un objeto no es del todo irrelevante al usuario, pues afecta entre otras cosas a la eficiencia de las operaciones. Por ejemplo, las listas de Python almacenan el tamaño de la secuencia y los enlaces a cada uno de los elementos que la componen uno tras otro en la memoria. Eso hace que el acceso al índice *k*-ésimo sea rápido, pero otras operaciones como `append` puedan ser en ocasiones lentas (si no hay espacio a continuación para ensanchar la secuencia, hay que recolocarla en la memoria).\n",
    "\n",
    "Si bien la representación interna de un objeto puede ser más o menos desconocida, su **repertorio de operaciones** define la forma en la que los usuarios pueden interactuar con él, su *interfaz* con el mundo exterior. Siguiendo con el ejemplo, el repertorio de operaciones que ofrecen las listas está definido en su documentación, que se puede consultar escribiendo `help(list)` en el intérprete de Python."
   ]
  },
  {
   "cell_type": "code",
   "execution_count": 5,
   "id": "48be2b28-8c55-4f60-a1a4-7942988103f5",
   "metadata": {
    "tags": []
   },
   "outputs": [],
   "source": [
    "# help(list)"
   ]
  },
  {
   "cell_type": "markdown",
   "id": "7ab7ca25-47ac-42e6-8286-b664cb306b95",
   "metadata": {
    "tags": []
   },
   "source": [
    "Como curiosidad, también podemos utilizar la función `dir` para obtener una lista con los nombres de las operaciones definidas."
   ]
  },
  {
   "cell_type": "code",
   "execution_count": 6,
   "id": "7c2a8cef-ec9d-4b8c-b396-04d6ed0c3b3f",
   "metadata": {
    "tags": []
   },
   "outputs": [
    {
     "data": {
      "text/plain": [
       "['insert', 'pop', 'remove', 'reverse', 'sort']"
      ]
     },
     "execution_count": 6,
     "metadata": {},
     "output_type": "execute_result"
    }
   ],
   "source": [
    "dir(hoy)[-5:]  # solo mostramos 5 para abreviar"
   ]
  },
  {
   "cell_type": "markdown",
   "id": "76ec2708-6129-401e-887c-b699c8ae1ea0",
   "metadata": {
    "tags": []
   },
   "source": [
    "Las operaciones están asociadas más que a un objeto concreto a su tipo, pues se pueden aplicar generalmente a todas las posibles instancias. Como hemos visto a lo largo del curso, las operaciones que enumeran los comandos anteriores se aplican sobre un objeto con la notación `<objeto>.<operación>` y ahora reciben el nombre de *métodos*."
   ]
  },
  {
   "cell_type": "code",
   "execution_count": 7,
   "id": "a20401e5-3cdf-4715-9d1e-6db0296ce198",
   "metadata": {
    "tags": []
   },
   "outputs": [
    {
     "data": {
      "text/plain": [
       "1"
      ]
     },
     "execution_count": 7,
     "metadata": {},
     "output_type": "execute_result"
    }
   ],
   "source": [
    "hoy.index(2)"
   ]
  },
  {
   "cell_type": "markdown",
   "id": "3602c6d2",
   "metadata": {},
   "source": [
    "En realidad, un método no es más que una función corriente encerrada en el ámbito o espacio de nombres del tipo, que se aplica sobre el objeto al lado izquierdo del punto. Por ejemplo, la celda anterior es equivalente a"
   ]
  },
  {
   "cell_type": "code",
   "execution_count": 8,
   "id": "c9aa3482",
   "metadata": {},
   "outputs": [
    {
     "data": {
      "text/plain": [
       "1"
      ]
     },
     "execution_count": 8,
     "metadata": {},
     "output_type": "execute_result"
    }
   ],
   "source": [
    "list.index(hoy, 2)"
   ]
  },
  {
   "cell_type": "markdown",
   "id": "27f4fb30",
   "metadata": {},
   "source": [
    "donde `list.index` es a los efectos una función de dos argumentos. Sin embargo, esto no se hace en la práctica a menos que resulte especialmente conveniente, por ejemplo cuando uno necesita una función para pasarla como argumento."
   ]
  },
  {
   "cell_type": "code",
   "execution_count": 9,
   "id": "fb8e5b8e-8e07-40d0-a691-210ba3fa6ca7",
   "metadata": {
    "tags": []
   },
   "outputs": [
    {
     "data": {
      "text/plain": [
       "['HOLA', 'RAIMUNDO']"
      ]
     },
     "execution_count": 9,
     "metadata": {},
     "output_type": "execute_result"
    }
   ],
   "source": [
    "list(map(str.upper, ('Hola', 'Raimundo')))"
   ]
  },
  {
   "cell_type": "code",
   "execution_count": 10,
   "id": "31344504-0a14-4a2d-b06c-87c229e9035c",
   "metadata": {
    "tags": []
   },
   "outputs": [
    {
     "data": {
      "text/plain": [
       "['HOLA', 'RAIMUNDO']"
      ]
     },
     "execution_count": 10,
     "metadata": {},
     "output_type": "execute_result"
    }
   ],
   "source": [
    "[x.upper() for x in ('Hola', 'Raimundo')]  # lo mismo que antes, sin map"
   ]
  },
  {
   "cell_type": "markdown",
   "id": "55d4a890",
   "metadata": {},
   "source": [
    "No todas las operaciones que se pueden aplicar sobre un tipo son necesariamente métodos, es decir, están agrupadas bajo el nombre del tipo y se pueden llamar con la notación del punto. Por ejemplo, `(100).log()` no es válido en Python pero sí"
   ]
  },
  {
   "cell_type": "code",
   "execution_count": 11,
   "id": "24cf9953",
   "metadata": {},
   "outputs": [
    {
     "data": {
      "text/plain": [
       "4.605170185988092"
      ]
     },
     "execution_count": 11,
     "metadata": {},
     "output_type": "execute_result"
    }
   ],
   "source": [
    "import math\n",
    "math.log(100)"
   ]
  },
  {
   "cell_type": "markdown",
   "id": "a58cc84e",
   "metadata": {},
   "source": [
    "Curiosamente, la suma y otras operaciones aritméticas que se escriben con los operadores habituales como `1 + 2` sí están representadas como métodos en Python con unos nombres especiales que los vinculan al operador."
   ]
  },
  {
   "cell_type": "code",
   "execution_count": 12,
   "id": "44ad8ca3",
   "metadata": {},
   "outputs": [
    {
     "data": {
      "text/plain": [
       "3"
      ]
     },
     "execution_count": 12,
     "metadata": {},
     "output_type": "execute_result"
    }
   ],
   "source": [
    "(1).__add__(2)  # lo mismo que 1 + 2"
   ]
  },
  {
   "cell_type": "markdown",
   "id": "7840d5ee",
   "metadata": {},
   "source": [
    "Incluso podríamos escribir"
   ]
  },
  {
   "cell_type": "code",
   "execution_count": 13,
   "id": "874d0368",
   "metadata": {},
   "outputs": [
    {
     "data": {
      "text/plain": [
       "3"
      ]
     },
     "execution_count": 13,
     "metadata": {},
     "output_type": "execute_result"
    }
   ],
   "source": [
    "int.__add__(1, 2)"
   ]
  },
  {
   "cell_type": "markdown",
   "id": "a2a2fa5f",
   "metadata": {},
   "source": [
    "Veremos más sobre estos nombres especiales cuando definamos nuestros propios tipos."
   ]
  },
  {
   "cell_type": "markdown",
   "id": "a6259e7d-12c7-413a-8d88-1a17f08e61f9",
   "metadata": {},
   "source": [
    "## Cómo utilizar objetos desde el punto de vista del usuario\n",
    "\n",
    "Utilizar los objetos es sencillo y lo hemos venido haciendo toda la asignatura con números, tuplas, listas, diccionarios, archivos y demás. Los objetos tienen un *tiempo de vida*, se crean, se modifican y se destruyen. Por ejemplo, al escribir `hoy = [27, 2, 2023]` anteriormente creamos un nuevo objeto. Una forma general de crear un objeto es utilizar su nombre como si fuera una función."
   ]
  },
  {
   "cell_type": "code",
   "execution_count": 14,
   "id": "3cd1d674",
   "metadata": {},
   "outputs": [
    {
     "data": {
      "text/plain": [
       "(0, 0.0, (), [], [1, 2], {}, set())"
      ]
     },
     "execution_count": 14,
     "metadata": {},
     "output_type": "execute_result"
    }
   ],
   "source": [
    "int(), float(), tuple(), list(), list((1, 2)), dict(), set()"
   ]
  },
  {
   "cell_type": "markdown",
   "id": "573f364a",
   "metadata": {},
   "source": [
    "El objeto que se genera y los argumentos que puede recibir dependen del tipo determinado. Si ejecutamos el método `append` sobre el objeto asignado a `hoy`"
   ]
  },
  {
   "cell_type": "code",
   "execution_count": 15,
   "id": "f64c919f-0e62-418e-85be-2ae7c7217599",
   "metadata": {
    "tags": []
   },
   "outputs": [
    {
     "data": {
      "text/plain": [
       "[27, 2, 2023, 'DC']"
      ]
     },
     "execution_count": 15,
     "metadata": {},
     "output_type": "execute_result"
    }
   ],
   "source": [
    "hoy.append('DC')\n",
    "hoy"
   ]
  },
  {
   "cell_type": "markdown",
   "id": "814d31cd-6294-4f82-bac9-7136d1ed11d5",
   "metadata": {},
   "source": [
    "lo modificamos. Y si asignamos la variable `hoy` a otro objeto"
   ]
  },
  {
   "cell_type": "code",
   "execution_count": 16,
   "id": "98fe0ad8-0427-461e-b910-d4842877ad3a",
   "metadata": {
    "tags": []
   },
   "outputs": [
    {
     "name": "stdout",
     "output_type": "stream",
     "text": [
      "139754922294080\n"
     ]
    }
   ],
   "source": [
    "print(id(hoy))  # el objeto con este id desaparecerá\n",
    "hoy = '27/2/2023'"
   ]
  },
  {
   "cell_type": "markdown",
   "id": "10ebca6e-1989-48c5-8969-fd4e0e962f98",
   "metadata": {},
   "source": [
    "la lista antes asignada a la variable `hoy` se destruirá (más tarde o más temprano) porque ya no queda ninguna referencia a ella. Se encarga de esta labor automáticamente el *recolector de basura* de Python, aunque en otros lenguajes hay que destruir los objetos explícitamente cuando ya no hacen falta. La instrucción `del` que ya hemos utilizado para eliminar elementos de listas o diccionarios también sirve para eliminar variables."
   ]
  },
  {
   "cell_type": "code",
   "execution_count": 17,
   "id": "12f1b030-8136-4436-a744-cb75b182d30a",
   "metadata": {
    "tags": []
   },
   "outputs": [
    {
     "ename": "NameError",
     "evalue": "name 'hoy' is not defined",
     "output_type": "error",
     "traceback": [
      "\u001b[0;31m---------------------------------------------------------------------------\u001b[0m",
      "\u001b[0;31mNameError\u001b[0m                                 Traceback (most recent call last)",
      "Cell \u001b[0;32mIn[17], line 3\u001b[0m\n\u001b[1;32m      1\u001b[0m lunes \u001b[38;5;241m=\u001b[39m hoy\n\u001b[1;32m      2\u001b[0m \u001b[38;5;28;01mdel\u001b[39;00m hoy\n\u001b[0;32m----> 3\u001b[0m \u001b[43mhoy\u001b[49m\n",
      "\u001b[0;31mNameError\u001b[0m: name 'hoy' is not defined"
     ]
    }
   ],
   "source": [
    "lunes = hoy\n",
    "del hoy\n",
    "hoy"
   ]
  },
  {
   "cell_type": "markdown",
   "id": "f6459441",
   "metadata": {},
   "source": [
    "Sin embargo, el objeto no se destruye en este caso, ya que sigue habiendo una referencia a él a través de la variables `lunes`."
   ]
  },
  {
   "cell_type": "code",
   "execution_count": 18,
   "id": "2532aa29",
   "metadata": {},
   "outputs": [
    {
     "data": {
      "text/plain": [
       "'27/2/2023'"
      ]
     },
     "execution_count": 18,
     "metadata": {},
     "output_type": "execute_result"
    }
   ],
   "source": [
    "lunes"
   ]
  },
  {
   "cell_type": "markdown",
   "id": "a42290ff-794b-41df-8109-aaa5fa1d6ca0",
   "metadata": {},
   "source": [
    "## Cómo definir nuestros propios tipos de datos\n",
    "\n",
    "Nosotros también podemos definir nuestros tipos de datos con sus operaciones asociadas y su representación interna que combine otros tipos de datos existentes en Python. La sintaxis para hacer esto es\n",
    "```python\n",
    "class NombreTipo:\n",
    "    \"\"\"Documentación recomendable\"\"\"\n",
    "    \n",
    "    def __init__(self, arg):\n",
    "        # constructor de objetos del tipo\n",
    "        self.dato1 = # expresión\n",
    "        self.dato2 = # expresión\n",
    "    \n",
    "    def operación1(self, arg1, arg2, arg3):\n",
    "        # código de la operación\n",
    "    \n",
    "    def operación2(self):\n",
    "        # código de la operación\n",
    "```\n",
    "La definición de un tipo empieza por la palabra clave `class` seguida del nombre que queramos darle. Se abre a continuación un bloque sangrado (como el de los `while`, `def`, etc) en el que podemos definir las operaciones del tipo como funciones normales. Sin embargo, el primer argumento de estas funciones es siempre un objeto del tipo que se está definiendo, que se suele denominar `self` por convenio<footnote text=\"En otros lenguajes de programación, el objeto se pasa a sus métodos como una variable implícita, sin formar parte de la lista de parámetros. En ocasiones se llama `this` (C++, Java), `self` (Ruby, Swift), o incluso `Me` (Visual Basic).\"/>. Estas funciones definidas dentro del tipo son las que hemos llamado antes y seguiremos llamando *métodos*.\n",
    "\n",
    "Hay un método con un nombre especial `__init__` que llamamos *constructor* porque sirve para crear objetos del tipo. En este constructor se suelen definir los *atributos* de datos del tipo con `self.<nombre> = <valor inicial>`. La representación interna de la clase son precisamente estos atributos.\n",
    "\n",
    "<noindent/>**Ejemplo 1 (saludador).** Definamos una clase `Saludador` que imprima un mensaje de saludo personalizado con el nombre del destinatario."
   ]
  },
  {
   "cell_type": "code",
   "execution_count": 19,
   "id": "462da1ef-030f-4090-9f57-f80e1dd7e553",
   "metadata": {
    "tags": []
   },
   "outputs": [],
   "source": [
    "class Saludador:\n",
    "    \"\"\"Saludador personalizable\"\"\"\n",
    "    \n",
    "    def __init__(self, nombre):\n",
    "        self.nombre = nombre\n",
    "\n",
    "    def saluda(self):\n",
    "        print(f'¡Hola {self.nombre}!')\n",
    "\n",
    "# Creamos un objeto del tipo\n",
    "objeto_de_tipo_Saludador = Saludador('Raimundo')"
   ]
  },
  {
   "cell_type": "markdown",
   "id": "e9dee371-e7f6-43e8-8177-d84ef5576b6b",
   "metadata": {},
   "source": [
    "Los objetos se construyen con el nombre del tipo seguido de sus argumentos como si fuera una función. Por supuesto, `objeto_de_tipo_Saludador` es de tipo `Saludador`."
   ]
  },
  {
   "cell_type": "code",
   "execution_count": 20,
   "id": "276b753c",
   "metadata": {},
   "outputs": [
    {
     "data": {
      "text/plain": [
       "__main__.Saludador"
      ]
     },
     "execution_count": 20,
     "metadata": {},
     "output_type": "execute_result"
    }
   ],
   "source": [
    "type(objeto_de_tipo_Saludador)  # el __main__ es el ámbito principal"
   ]
  },
  {
   "cell_type": "markdown",
   "id": "f51ea0c4",
   "metadata": {},
   "source": [
    " Ahora podemos llamar al método `saluda` sobre `objeto_de_tipo_Saludador` usando la notación del punto. Observa que en el método `saluda` se ha utilizado `self.nombre` para acceder al atributo `nombre`."
   ]
  },
  {
   "cell_type": "code",
   "execution_count": 21,
   "id": "79fb5e67-606c-4a84-aec4-b8af6adad053",
   "metadata": {
    "tags": []
   },
   "outputs": [
    {
     "name": "stdout",
     "output_type": "stream",
     "text": [
      "¡Hola Raimundo!\n"
     ]
    }
   ],
   "source": [
    "objeto_de_tipo_Saludador.saluda()"
   ]
  },
  {
   "cell_type": "markdown",
   "id": "886abc9d-f382-484a-a59a-93484146c6e5",
   "metadata": {},
   "source": [
    "Como se ha dicho al principio del tema, `saluda` no es más que una función normal que recibe el objeto como primer argumento cuando se llama con el punto. Sin embargo, desde la perspectiva de la programación orientada a objetos, los métodos tiene entidad propia y se ven más como mensajes que se envían al objeto que como funciones que se le aplican."
   ]
  },
  {
   "cell_type": "code",
   "execution_count": 22,
   "id": "890c5f5f-eeb1-4583-96fe-36c91b1ded09",
   "metadata": {
    "tags": []
   },
   "outputs": [
    {
     "name": "stdout",
     "output_type": "stream",
     "text": [
      "¡Hola Raimundo!\n"
     ]
    }
   ],
   "source": [
    "Saludador.saluda(objeto_de_tipo_Saludador)"
   ]
  },
  {
   "cell_type": "markdown",
   "id": "7ee1ad02",
   "metadata": {},
   "source": [
    "*Observación 1*: para definir un nuevo atributo de la clase basta escribir `self.atributo` y asignarle un valor. Lo recomendable es definirlos todos en el constructor con valores iniciales apropiados, pero también es posible añadir atributos al objeto en cualquier momento e incluso fuera de la clase, aunque no sea una buena práctica de programación."
   ]
  },
  {
   "cell_type": "code",
   "execution_count": 23,
   "id": "72008869",
   "metadata": {},
   "outputs": [
    {
     "data": {
      "text/plain": [
       "'García'"
      ]
     },
     "execution_count": 23,
     "metadata": {},
     "output_type": "execute_result"
    }
   ],
   "source": [
    "objeto_de_tipo_Saludador.apellido = 'García'\n",
    "objeto_de_tipo_Saludador.apellido"
   ]
  },
  {
   "cell_type": "markdown",
   "id": "6194dcfb",
   "metadata": {},
   "source": [
    "Esta flexibilidad de Python, que no es trasladable por lo general a otros lenguajes, se basa en que internamente los objetos son esencialmente diccionarios y la notación del punto es azúcar sintáctico que busca el atributo indicado en ellos. Como anécdota, el atributo `__dict__` da acceso a ese diccionario:"
   ]
  },
  {
   "cell_type": "code",
   "execution_count": 24,
   "id": "7a86138c",
   "metadata": {},
   "outputs": [
    {
     "data": {
      "text/plain": [
       "{'nombre': 'Raimundo', 'apellido': 'García'}"
      ]
     },
     "execution_count": 24,
     "metadata": {},
     "output_type": "execute_result"
    }
   ],
   "source": [
    "objeto_de_tipo_Saludador.__dict__"
   ]
  },
  {
   "cell_type": "markdown",
   "id": "855c529f",
   "metadata": {},
   "source": [
    "Esta laxitud puede resultar práctica en ocasiones, pero también facilita cometer errores (por ejemplo, escribir `self.nombreee = 'Raimundo'` no daría un error) y tiene cierto coste en tiempo y memoria. Como alternativa, Python permite indicar una variable `__slots__` en la clase con la secuencia de los nombres de todos los atributos. Se producirá un error si se intenta acceder o asignar un atributo con un nombre que no esté en la secuencia."
   ]
  },
  {
   "cell_type": "code",
   "execution_count": 25,
   "id": "d5d3b6c5",
   "metadata": {},
   "outputs": [
    {
     "ename": "AttributeError",
     "evalue": "'Saludador' object has no attribute 'nombreee'",
     "output_type": "error",
     "traceback": [
      "\u001b[0;31m---------------------------------------------------------------------------\u001b[0m",
      "\u001b[0;31mAttributeError\u001b[0m                            Traceback (most recent call last)",
      "Cell \u001b[0;32mIn[25], line 8\u001b[0m\n\u001b[1;32m      5\u001b[0m         \u001b[38;5;28mself\u001b[39m\u001b[38;5;241m.\u001b[39mnombre \u001b[38;5;241m=\u001b[39m nombre\n\u001b[1;32m      7\u001b[0m saludador \u001b[38;5;241m=\u001b[39m Saludador(\u001b[38;5;124m'\u001b[39m\u001b[38;5;124mRaimundo\u001b[39m\u001b[38;5;124m'\u001b[39m)\n\u001b[0;32m----> 8\u001b[0m \u001b[43msaludador\u001b[49m\u001b[38;5;241;43m.\u001b[39;49m\u001b[43mnombreee\u001b[49m \u001b[38;5;241m=\u001b[39m \u001b[38;5;124m'\u001b[39m\u001b[38;5;124mGregoria\u001b[39m\u001b[38;5;124m'\u001b[39m\n",
      "\u001b[0;31mAttributeError\u001b[0m: 'Saludador' object has no attribute 'nombreee'"
     ]
    }
   ],
   "source": [
    "class Saludador:\n",
    "    __slots__ = ('nombre',)\n",
    "\n",
    "    def __init__(self, nombre):\n",
    "        self.nombre = nombre\n",
    "\n",
    "saludador = Saludador('Raimundo')\n",
    "saludador.nombreee = 'Gregoria'"
   ]
  },
  {
   "cell_type": "markdown",
   "id": "c63b2244",
   "metadata": {},
   "source": [
    "*Observación 2*: si imprimimos el objeto `Saludador` con `print` o dejamos que lo muestre la consola de Python veremos un texto poco esclarecedor."
   ]
  },
  {
   "cell_type": "code",
   "execution_count": 26,
   "id": "59f5e8e6",
   "metadata": {},
   "outputs": [
    {
     "data": {
      "text/plain": [
       "<__main__.Saludador at 0x7f1b384c86d0>"
      ]
     },
     "execution_count": 26,
     "metadata": {},
     "output_type": "execute_result"
    }
   ],
   "source": [
    "objeto_de_tipo_Saludador"
   ]
  },
  {
   "cell_type": "markdown",
   "id": "c47b3e7f",
   "metadata": {},
   "source": [
    "Para depurar nuestros programas es útil que la representación que aparece del objeto sea algo más representativa. Para ello se puede definir un método con nombre especial  `__repr__` que ha de devolver la cadena que se mostrará en estos casos (como veremos en el próximo ejemplo). En principio, la cadena devuelta por `__repr__` ha de ser tal que el objeto se pueda reconstruir evaluándola, aunque para nuestro uso interno podemos saltarnos esa restricción. Otra posibilidad es definir `__str__` que se llama cuando el objeto se convierte a cadena, sea explícitamente `str(obj)` o al usar `print`, pero no cuando se muestra en el intérprete. El valor por defecto de `__str__` es el de `__repr__`, aunque pueden tomar valores distintos.<bigskip/>"
   ]
  },
  {
   "cell_type": "markdown",
   "id": "c7aa2f8f-378e-480f-b077-320c508c6a59",
   "metadata": {},
   "source": [
    "**Ejemplo 2 (vectores).** En temas anteriores hemos utilizado vectores como listas de números y definido sus operaciones como funciones aparte."
   ]
  },
  {
   "cell_type": "code",
   "execution_count": 27,
   "id": "c1c9fd23-6e59-4339-aa04-7b90d5fe690e",
   "metadata": {
    "tags": []
   },
   "outputs": [],
   "source": [
    "def suma_vector(uno, otro):\n",
    "    # Por simplicidad, asumimos aquí que tiene la misma longitud\n",
    "    return [uno[i] + otro[i] for i in range(len(uno))]"
   ]
  },
  {
   "cell_type": "markdown",
   "id": "4d9b860e-4dc7-4771-9336-5f99f6c6a0a1",
   "metadata": {},
   "source": [
    "Ahora podemos definir un tipo de datos para los vectores e incorporar en él todas las operaciones. En primer lugar, antes de definir un tipo vector de cualquier dimensión, vamos a definir un tipo específico para los vectores tridimensionales."
   ]
  },
  {
   "cell_type": "code",
   "execution_count": 28,
   "id": "72be1112-fcf8-49e5-a183-b25f0827913b",
   "metadata": {
    "tags": []
   },
   "outputs": [],
   "source": [
    "class Vector3d:\n",
    "    \"\"\"Vector tridimensional\"\"\"\n",
    "    \n",
    "    # Un atributo por cada coordenada\n",
    "    __slots__ = ('x', 'y', 'z')\n",
    "    \n",
    "    def __init__(self, x, y, z):  # constructor\n",
    "        self.x, self.y, self.z = x, y, z\n",
    "\n",
    "    def __repr__(self):  # lo que se muestra\n",
    "        return f'Vector3d({self.x}, {self.y}, {self.z})'\n",
    "    \n",
    "    def suma(self, otro):\n",
    "        return Vector3d(self.x + otro.x,\n",
    "                        self.y + otro.y,\n",
    "                        self.z + otro.z)\n",
    "\n",
    "    def suma_insitu(self, otro):\n",
    "        self.x += otro.x\n",
    "        self.y += otro.y\n",
    "        self.z += otro.z\n",
    "\n",
    "    def producto_vectorial(self, otro):\n",
    "        return Vector3d(self.y * otro.z - self.z * otro.y,\n",
    "                        self.z * otro.x - self.z * otro.z,\n",
    "                        self.x * otro.y - self.y * otro.z)\n",
    "    \n",
    "    def producto_escalar(self, otro):\n",
    "        return self.x * otro.x + self.y * otro.y + self.z * otro.z\n",
    "    \n",
    "    def norma(self):\n",
    "        return self.producto_escalar(self) ** 0.5"
   ]
  },
  {
   "cell_type": "code",
   "execution_count": 29,
   "id": "62880b53-8a72-4536-95d6-f9ccf6472aa1",
   "metadata": {
    "tags": []
   },
   "outputs": [
    {
     "data": {
      "text/plain": [
       "(Vector3d(6, 7, 7), 27, 6.48074069840786)"
      ]
     },
     "execution_count": 29,
     "metadata": {},
     "output_type": "execute_result"
    }
   ],
   "source": [
    "v, w = Vector3d(1, 4, 5), Vector3d(5, 3, 2)\n",
    "v.suma(w), v.producto_escalar(w), v.norma()"
   ]
  },
  {
   "cell_type": "code",
   "execution_count": 30,
   "id": "5bc251b0-06df-41df-9667-a25ced1fe6d2",
   "metadata": {
    "tags": []
   },
   "outputs": [
    {
     "data": {
      "text/plain": [
       "Vector3d(6, 7, 7)"
      ]
     },
     "execution_count": 30,
     "metadata": {},
     "output_type": "execute_result"
    }
   ],
   "source": [
    "v.suma_insitu(w)  # modifica v in situ\n",
    "v"
   ]
  },
  {
   "cell_type": "markdown",
   "id": "34766697-b92d-47f7-8d54-4bbb505a3748",
   "metadata": {},
   "source": [
    "### Métodos especiales en Python"
   ]
  },
  {
   "cell_type": "markdown",
   "id": "e506c9c7-4625-4ea8-951e-259b3e218765",
   "metadata": {},
   "source": [
    "Como ya hemos visto con `__init__` y `__repr__`, las clases de Python pueden definir métodos con nombres especiales que conectan con ciertas funcionalidades del lenguaje. En particular, es posible *sobrecargar* los operadores aritméticos declarando métodos con nombres como `__add__`, `__mul__` o `__sub__`. Si hubiéramos nombrado el método `suma` de `Vector3d` como `__add__` podríamos usar el operador `+` para sumar vectores."
   ]
  },
  {
   "cell_type": "code",
   "execution_count": 31,
   "id": "91773713-4841-4f32-8df6-7637faa63bb0",
   "metadata": {
    "tags": []
   },
   "outputs": [],
   "source": [
    "# Define sinónimos para suma y producto_escalar\n",
    "Vector3d.__add__ = Vector3d.suma  # +\n",
    "Vector3d.__mul__ = Vector3d.producto_escalar  # *"
   ]
  },
  {
   "cell_type": "markdown",
   "id": "4596b462-4c3f-44da-b893-ce886123a286",
   "metadata": {},
   "source": [
    "En [§3.3.8 «Emulando tipos numéricos»](https://docs.python.org/es/3/reference/datamodel.html#emulating-numeric-types) del manual de referencia de Python se enumeran todos los nombres (siempre rodeados de dos barras bajas) que permiten sobrecargar los operadores aritméticos y de otro tipo."
   ]
  },
  {
   "cell_type": "code",
   "execution_count": 32,
   "id": "320441a5-4a9c-49ae-b855-296c4635a717",
   "metadata": {
    "tags": []
   },
   "outputs": [
    {
     "data": {
      "text/plain": [
       "(Vector3d(11, 10, 9), 103)"
      ]
     },
     "execution_count": 32,
     "metadata": {},
     "output_type": "execute_result"
    }
   ],
   "source": [
    "v + w, (v + w) * w"
   ]
  },
  {
   "cell_type": "markdown",
   "id": "d66de216-cc19-4488-98c0-84c60903b84d",
   "metadata": {
    "tags": []
   },
   "source": [
    "La expresión anterior es (casi) equivalente a la siguiente, pero bastante más legible."
   ]
  },
  {
   "cell_type": "code",
   "execution_count": 33,
   "id": "f99a9c7a-2638-4fb8-b6cb-4eac72109d16",
   "metadata": {
    "tags": []
   },
   "outputs": [
    {
     "data": {
      "text/plain": [
       "(Vector3d(11, 10, 9), 103)"
      ]
     },
     "execution_count": 33,
     "metadata": {},
     "output_type": "execute_result"
    }
   ],
   "source": [
    "v.__add__(w), v.__add__(w).__mul__(w)"
   ]
  },
  {
   "cell_type": "markdown",
   "id": "fc7eecb2-e210-47ba-af39-762da5f28f20",
   "metadata": {},
   "source": [
    "Numerosas bibliotecas matemáticas en Python como [NumPy](https://numpy.org/) o [SageMath](https://www.sagemath.org/) explotan esta posibilidad al definir sus propios tipos como matrices, polinomios, grupos específicos, etc."
   ]
  },
  {
   "cell_type": "markdown",
   "id": "ddf41c0b-3a0b-4eb2-ab0f-e15ad0a8bfd0",
   "metadata": {
    "tags": []
   },
   "source": [
    "### Atributos y métodos de uso interno"
   ]
  },
  {
   "cell_type": "markdown",
   "id": "2edbb153-ac13-44f9-a0c3-e633b04e2a00",
   "metadata": {
    "tags": []
   },
   "source": [
    "Los objetos abstraen y ocultan la representación interna. En algunos lenguajes es posible definir atributos *privados* que el lenguaje asegura que no se pueden modificar sino desde dentro de la clase. En Python esa restricción no existe, pero es habitual denominar a los atributos o métodos de uso interno con una barra baja al inicio como indicación para los usuarios de la clase. Además, el diseñador del tipo ha de proporcionar métodos para consultar y modificar los atributos de forma que se mantenga la consistencia interna. A los métodos de consulta se les suele conocer como *getters* y los de modificación como *setters*.\n",
    "\n",
    "Hemos visto un ejemplo de ello con el tipo `Matriz` y el acceso a sus elementos sin permitir (salvo para el que se empeñe en ello) cambios en las estructura de filas."
   ]
  },
  {
   "cell_type": "markdown",
   "id": "6f509e1e-68b5-45a2-81f1-095706f7eed3",
   "metadata": {},
   "source": [
    "### Atributos y métodos estáticos\n",
    "\n",
    "Los métodos de una clase se aplican sobre objetos concretos y los atributos también toman valores propios en cada objeto. Sin embargo, en ocasiones puede ser conveniente declarar atributos comunes a todas las instancias de la clase o métodos que no se apliquen a un objeto de la clase pero que interese agrupar con ella. Estos se conocen como *atributos estáticos* y *métodos estáticos* en contraposición a los atributos y métodos normales, que se llaman *de instancia*.\n",
    "\n",
    "Un atributo estático es simplemente una variable definida en el ámbito (dentro de la región sangrada) de la clase o añadida posteriormente con el operador punto sobre el nombre de la clase. Por ejemplo, podríamos definir `Vector3d.CERO = Vector3d(0, 0, 0)` para luego poder utilizar `Vector3d.CERO` en el programa en lugar de la expresión que la define.\n",
    "\n",
    "Para definir un método estático en una clase se utiliza la misma sintaxis que para definir un método de instancia (es decir, una función con sangrado) pero empleando el decorador `@staticmethod`. Por ejemplo, podemos crear un método estático `constante` en la clase `Vector3d` para construir un vector con las tres coordenadas iguales.\n",
    "```python\n",
    "class Vector3d:\n",
    "    # [...]\n",
    "    \n",
    "    @staticmethod\n",
    "    def constante(valor):\n",
    "        return Vector3d(valor, valor, valor)\n",
    "```\n",
    "Este método claramente no se aplica a ningún objeto de la clase, pues sirve precisamente para construir uno desde cero, por lo que ha de ser un método estático. En los métodos estáticos no hay parámetro `self` porque no hay objeto sobre el que aplicarlos. Para llamar a un método estático se utiliza la sintaxis `<nombre de la clase>.<método>(<argumentos>)`. En el ejemplo anterior, `Vector3d.constante(0)`."
   ]
  },
  {
   "cell_type": "markdown",
   "id": "a6cb03c7-9d97-4b64-860e-9308d1e6644b",
   "metadata": {},
   "source": [
    "## Programación orientada a objetos\n",
    "\n",
    "La programación orientada a objetos y los conceptos de objeto, clase, herencia, subclase y vinculación dinámica se introdujeron en el lenguaje Simula 67 en 1967. Desde entonces, muchos lenguajes, entre ellos Python, han incorporado esos conceptos y prácticamente todos los lenguajes modernos soportan este paradigma de una forma u otra.\n",
    "\n",
    "En la programación orientada a objetos, los datos se encapsulan en paquetes junto con las operaciones que trabajan sobre ellos a través de interfaces bien definidas. Esto facilita que los programas se construyan de forma modular, con componentes que se encargan de pequeñas tareas determinadas y que combinan para resolver tareas más complejas. En general, se considera que la programación orientada a objetos se basa en cuatro principios:\n",
    "* Abstracción (ocultación de los detalles de implementación)\n",
    "* Encapsulamiento (protección de los datos bajo responsabilidad de la clase)\n",
    "* Herencia (representación de entidades a distinto nivel de abstracción que comparten datos y operaciones)\n",
    "* Polimorfismo (posibilidad de manejar uniformemente objetos de distintos tipos aprovechando de sus características comunes)\n",
    "\n",
    "El usuario de un objeto abstrae los detalles de implementación de ese objeto y solo lo utiliza a través de sus operaciones. Por ejemplo, en el tema anterior hemos aprendido a utilizar diccionarios describiendo sus operaciones y hemos visto que permiten acceder eficientemente a un valor dada una clave, pero no hemos necesitado saber qué permite que eso sea así. Si la implementación de los diccionarios cambiase podríamos seguir usándolos de la misma forma y no tendríamos que adaptar el código anterior.\n",
    "\n",
    "Por otro lado, los objetos encapsulan los datos bajo su responsabilidad, asegurando que mantienen su coherencia cuando se modifican controladamente a través de las operaciones. Por ejemplo, una hipotética clase `Fracción` puede almacenar un numerador y un denominador como atributos, de forma que siempre estén en forma irreducible. El diseñador de la clase puede asegurar que el constructor y las operaciones de la clase (suma, producto, etc) mantienen esta propiedad. Si el usuario quisiera modificar el numerador o el denominador no debería hacerlo modificando los atributos, sino a través de operaciones específicas diseñadas para ello por el autor de la clase. Por ejemplo, se podrían establecer métodos *getter* y *setter* para el numerador (e igualmente para el denominador):\n",
    "```python\n",
    "class Fracción:\n",
    "    def __init__(self, numerador, denominador=1):\n",
    "        self._numerador = numerador\n",
    "        self._denominador = denominador\n",
    "        # [...] divide ambos entre el mcd\n",
    "    \n",
    "    def get_numerador(self):\n",
    "        # el _ disuade al usuario de acceder\n",
    "        # directamente al atributo\n",
    "        return self._numerador  \n",
    "\n",
    "    def set_numerador(self, numerador):\n",
    "        self._numerador = numerador\n",
    "        # [...] divide ambos entre el mcd\n",
    "```"
   ]
  },
  {
   "cell_type": "markdown",
   "id": "d1240ad6-45df-4a86-bfa2-c755a0e49d7a",
   "metadata": {
    "tags": []
   },
   "source": [
    "### Herencia\n",
    "\n",
    "Las clases pueden representar entidades a distinto nivel de abstracción. Esa relación se puede formalizar por medio del mecanismo de la programación orientada a objetos conocido como *herencia*."
   ]
  },
  {
   "cell_type": "code",
   "execution_count": 34,
   "id": "80d56a7d-7bda-4b57-b9ef-e1e8b0a3cd8b",
   "metadata": {
    "tags": []
   },
   "outputs": [],
   "source": [
    "class Animal:\n",
    "    def __init__(self, edad):\n",
    "        self.edad = edad\n",
    "    \n",
    "    def gruñe(self):\n",
    "        print('¿?')\n",
    "\n",
    "class Humano(Animal):\n",
    "    def __init__(self, nombre, edad):\n",
    "        super().__init__(edad)\n",
    "        self.nombre = nombre\n",
    "    \n",
    "    def piensa(self):\n",
    "        print('Cogito ergo sum')\n",
    "\n",
    "class Gato(Animal):\n",
    "    def gruñe(self):\n",
    "        print('Miau')\n",
    "        \n",
    "class Matemático(Humano):\n",
    "    def gruñe(self):\n",
    "        print('e^(i * π) + 1 = 0')"
   ]
  },
  {
   "cell_type": "markdown",
   "id": "eaf4484c-2b95-47db-a417-dc13b15c4cf2",
   "metadata": {},
   "source": [
    "Como se ve en los ejemplos anteriores, se indica que una clase `B` es una subclase de otra clase `A` definiéndola como `class B(A)`. Una clase puede ser subclase directa de más de una clase con `class B(A1, ..., An):` en lo que se conoce como *herencia múltiple*, que hemos visto en la clase `Moneda` del ejemplo de la jerarquía de clases de un juego. Python proporciona un predicado `issubclass` para comprobar si una clase es subclase de otra."
   ]
  },
  {
   "cell_type": "code",
   "execution_count": 35,
   "id": "f7559552-4e6e-4642-b0fa-129a6df6fca5",
   "metadata": {
    "tags": []
   },
   "outputs": [
    {
     "data": {
      "text/plain": [
       "(True, True, False)"
      ]
     },
     "execution_count": 35,
     "metadata": {},
     "output_type": "execute_result"
    }
   ],
   "source": [
    "issubclass(Humano, Animal), issubclass(Matemático, Animal), \\\n",
    "                            issubclass(Gato, Humano)"
   ]
  },
  {
   "cell_type": "markdown",
   "id": "f6a57fc4-7edb-4d0c-820d-f6db378bd2d7",
   "metadata": {},
   "source": [
    "Ser subclase implica en particular heredar automáticamente todos los atributos y operaciones de la clase madre, aunque estos pueden ser redefinidos, como en `Gato` con el método `gruñe`."
   ]
  },
  {
   "cell_type": "code",
   "execution_count": 36,
   "id": "7c893e74-e05b-40d3-b4c4-89b14edfc78b",
   "metadata": {
    "tags": []
   },
   "outputs": [
    {
     "name": "stdout",
     "output_type": "stream",
     "text": [
      "Miau\n"
     ]
    },
    {
     "data": {
      "text/plain": [
       "3"
      ]
     },
     "execution_count": 36,
     "metadata": {},
     "output_type": "execute_result"
    }
   ],
   "source": [
    "g = Gato(3)\n",
    "g.gruñe()\n",
    "g.edad"
   ]
  },
  {
   "cell_type": "code",
   "execution_count": 37,
   "id": "b3e1681e-5a1b-402f-9672-099714892944",
   "metadata": {
    "tags": []
   },
   "outputs": [
    {
     "name": "stdout",
     "output_type": "stream",
     "text": [
      "Cogito ergo sum\n",
      "e^(i * π) + 1 = 0\n"
     ]
    },
    {
     "data": {
      "text/plain": [
       "'Euler'"
      ]
     },
     "execution_count": 37,
     "metadata": {},
     "output_type": "execute_result"
    }
   ],
   "source": [
    "m = Matemático('Euler', 76)\n",
    "m.piensa()\n",
    "m.gruñe()\n",
    "m.nombre"
   ]
  },
  {
   "cell_type": "markdown",
   "id": "dd0f1c35-c1f3-4aef-a72b-de80f21097b5",
   "metadata": {},
   "source": [
    "Un objeto es una instancia del tipo concreto con el que se ha construido pero también de todos los supertipos de aquel. Es decir, la relación `isinstance` que ya conocemos cumple la siguiente propiedad $\\forall o, t_1, t_2 \\quad \\mathrm{isinstance}(o, t_1) \\wedge \\mathrm{issubclass}(t_1, t_2) \\Rightarrow \\mathrm{isinstance}(o, t_2)$."
   ]
  },
  {
   "cell_type": "code",
   "execution_count": 38,
   "id": "c4e7b628-7f08-4f34-8420-3e89a7c34e96",
   "metadata": {
    "tags": []
   },
   "outputs": [
    {
     "data": {
      "text/plain": [
       "(True, True, True)"
      ]
     },
     "execution_count": 38,
     "metadata": {},
     "output_type": "execute_result"
    }
   ],
   "source": [
    "isinstance(g, Animal), isinstance(m, Humano), isinstance(m, Animal)"
   ]
  },
  {
   "cell_type": "markdown",
   "id": "be83fb85-1382-4f22-8bef-516c32c1366a",
   "metadata": {
    "tags": []
   },
   "source": [
    "Además, el conjunto ordenado de tipos tiene un máximo, pues todos los objetos de Python heredan de una clase universal `object`."
   ]
  },
  {
   "cell_type": "code",
   "execution_count": 39,
   "id": "a3f9b963-8354-468c-99a5-a97de8b01ab4",
   "metadata": {
    "tags": []
   },
   "outputs": [
    {
     "data": {
      "text/plain": [
       "True"
      ]
     },
     "execution_count": 39,
     "metadata": {},
     "output_type": "execute_result"
    }
   ],
   "source": [
    "all(issubclass(t, object) for t in (int, float, bool, str, Gato))"
   ]
  },
  {
   "cell_type": "markdown",
   "id": "b19f027b-a885-4052-a243-4ac5d0267056",
   "metadata": {},
   "source": [
    "La relación de subclase ha de cumplir el *principio de substitución* (de Liskov), es decir, que todo objeto de la clase puede reemplazarse por un objeto de la subclase sin alterar el programa. Intuitivamente, `Humano` hereda de `Animal` porque todo humano es un animal y puede ser tratado como tal (aunque así dicho no suene muy bien).\n",
    "\n",
    "En el constructor de `Humano` hemos escrito `super().__init__(edad)` para llamar al constructor de la clase madre `Animal`. En general, `super().<método>(<args>)` sirve para llamar al método correspondiente de la clase madre. Por lo general, este método se puede llamar directamente como `self.<método>`, salvo que el método o constructor se haya redefinido en la clase hija. Por ejemplo, podríamos haber escrito lo siguiente para gruñir a la vez como gato y como animal genérico.\n",
    "```python\n",
    "class Gato(Animal):\n",
    "    def gruñe(self):\n",
    "        super().gruñe()\n",
    "        print('Miau')\n",
    "```"
   ]
  },
  {
   "cell_type": "markdown",
   "id": "75930c99-1713-4b5b-b62f-2536cec8dfd7",
   "metadata": {
    "tags": []
   },
   "source": [
    "**Ejemplo 2 bis (vectores de nuevo).** La clase `Vector3d` que hemos programado antes solo funciona para vectores tridimensionales, pero es sencillo generalizarla para vectores de cualquier dimensión. Salvo por el producto vectorial, la dimensión es irrelevante. Programemos ahora una clase `Vector` de dimensión arbitraria."
   ]
  },
  {
   "cell_type": "code",
   "execution_count": 40,
   "id": "d82777f6-8bd7-4948-871b-d8173fef54a5",
   "metadata": {
    "tags": []
   },
   "outputs": [],
   "source": [
    "class Vector:\n",
    "    \"\"\"Vector de cualquier dimensión\"\"\"\n",
    "\n",
    "    def __init__(self, elems):  # constructor\n",
    "        self.elems = list(elems)\n",
    "        \n",
    "    def __repr__(self):\n",
    "        return f'Vector({self.elems})'\n",
    "    \n",
    "    def _comprueba_dimensión(self, otro):  # de uso interno\n",
    "        if len(self.elems) != len(otro.elems):\n",
    "            raise ValueError('vectores incompatibles')\n",
    "    \n",
    "    def __add__(self, otro):  # suma\n",
    "        self._comprueba_dimensión(otro)\n",
    "        return Vector(self.elems[i] + otro.elems[i]\n",
    "                      for i in range(len(self.elems)))\n",
    "    \n",
    "    def __iadd__(self, otro):  # suma in situ\n",
    "        self._comprueba_dimensión(otro)\n",
    "        for i in range(len(self.elems)):\n",
    "            self.elems[i] += otro.elems[i]\n",
    "        return self\n",
    "    \n",
    "    def __mul__(self, otro):  # producto escalar\n",
    "        self._comprueba_dimensión(otro)\n",
    "        return sum(x * y for x, y in zip(self.elems, otro.elems))\n",
    "    \n",
    "    def norma(self):\n",
    "        return (self * self) ** 0.5"
   ]
  },
  {
   "cell_type": "markdown",
   "id": "3a382181-a5a6-4a8c-90bc-b90ac63eb916",
   "metadata": {},
   "source": [
    "Sin embargo, queremos seguir teniendo un tipo para el vector tridimensional, sobre el que se pueda calcular el producto vectorial. Utilizando el mecanismo de la herencia es sencillo extender la clase `Vector` con un nuevo método `producto_vectorial` manteniendo la representación interna y las operaciones de `Vector`."
   ]
  },
  {
   "cell_type": "code",
   "execution_count": 41,
   "id": "8bd5efd8-5cfc-459b-bc74-e2661f57988d",
   "metadata": {
    "tags": []
   },
   "outputs": [],
   "source": [
    "class Vector3d(Vector):\n",
    "    \"\"\"Vector tridimensional\"\"\"\n",
    "    \n",
    "    def __init__(self, x, y, z):\n",
    "        super().__init__((x, y, z))\n",
    "        \n",
    "    def __repr__(self):\n",
    "        return f'Vector3d({self.elems})'\n",
    "    \n",
    "    def producto_vectorial(self, otro):\n",
    "        x, y, z = self.elems\n",
    "        u, v, w = otro.elems\n",
    "        \n",
    "        return Vector3d(y * w - z * v,\n",
    "                        z * u - x * w,\n",
    "                        x * v - y * u)"
   ]
  },
  {
   "cell_type": "markdown",
   "id": "14419c77-cfca-4180-a4c2-251c136e29f2",
   "metadata": {
    "tags": []
   },
   "source": [
    "Observa que podemos cambiar el anterior `Vector3d` por el actual sin problemas."
   ]
  },
  {
   "cell_type": "code",
   "execution_count": 42,
   "id": "7d354b24-00c6-4e3e-ab87-a50691291eed",
   "metadata": {
    "tags": []
   },
   "outputs": [
    {
     "data": {
      "text/plain": [
       "Vector3d([7, 3, 7])"
      ]
     },
     "execution_count": 42,
     "metadata": {},
     "output_type": "execute_result"
    }
   ],
   "source": [
    "v = Vector3d(1, 2, 3)\n",
    "v += Vector3d(6, 1, 4)\n",
    "v"
   ]
  },
  {
   "cell_type": "code",
   "execution_count": 43,
   "id": "9d1d0dd8-469c-4f63-99be-dae214a29d98",
   "metadata": {
    "tags": []
   },
   "outputs": [
    {
     "data": {
      "text/plain": [
       "Vector3d([0, 7, -3])"
      ]
     },
     "execution_count": 43,
     "metadata": {},
     "output_type": "execute_result"
    }
   ],
   "source": [
    "v.producto_vectorial(Vector3d(1, 0, 0))"
   ]
  },
  {
   "cell_type": "markdown",
   "id": "098b07df-d1bf-4bf1-9b9e-dade68153c9f",
   "metadata": {},
   "source": [
    "No obstante, puede que sea necesario adaptar algunos métodos más, porque la suma de dos vectores tridimensionales produce un vector corriente, sobre el que ya no se podrá aplicar `producto_vectorial`."
   ]
  },
  {
   "cell_type": "code",
   "execution_count": 44,
   "id": "894ae09a-e847-40bb-b4c4-c387b61b6888",
   "metadata": {
    "tags": []
   },
   "outputs": [
    {
     "data": {
      "text/plain": [
       "Vector([14, 6, 14])"
      ]
     },
     "execution_count": 44,
     "metadata": {},
     "output_type": "execute_result"
    }
   ],
   "source": [
    "v + v"
   ]
  },
  {
   "cell_type": "markdown",
   "id": "432bdd8b-df20-4f68-9ad0-5879e40a94fc",
   "metadata": {},
   "source": [
    "### Polimorfismo y vinculación dinámica\n",
    "\n",
    "El polimorfismo es la posibilidad de tratar a objetos distintos de manera uniforme atendiendo a su interfaz común. En la programación orientada a objetos el polimorfismo se deriva de la herencia, pues se puede tratar uniformemente a todos los objetos de un tipo a través de sus operaciones comunes, aunque pertenezcan a subtipos distintos y sin conocer a cuál de ellos pertenece cada objeto. Por ejemplo,"
   ]
  },
  {
   "cell_type": "code",
   "execution_count": 45,
   "id": "97ea494c-dbed-4c55-a9d8-ae04e6dba33d",
   "metadata": {
    "tags": []
   },
   "outputs": [
    {
     "name": "stdout",
     "output_type": "stream",
     "text": [
      "5.477225575051661\n",
      "3.7416573867739413\n"
     ]
    }
   ],
   "source": [
    "def imprime_norma(v: Vector):\n",
    "    print(v.norma())\n",
    "\n",
    "imprime_norma(Vector([1, 2, 3, 4]))\n",
    "imprime_norma(Vector3d(1, 2, 3))"
   ]
  },
  {
   "cell_type": "markdown",
   "id": "fcaeba6a-5213-4528-a398-d120bf329ef8",
   "metadata": {},
   "source": [
    "El sistema de tipos de Python hace que en realidad cualquier objeto se pueda tratar independientemente de su tipo concreto, atendiendo solo a las operaciones que se utilizan. Esto se conoce como *duck typing* («si tiene pinta de pato, anda como un pato y grazna como un pato, es que es un pato»). Por ejemplo, se puede ejecutar"
   ]
  },
  {
   "cell_type": "code",
   "execution_count": 46,
   "id": "1b5b44c8-c0e8-4442-9e1d-bcedda883751",
   "metadata": {
    "tags": []
   },
   "outputs": [
    {
     "data": {
      "text/plain": [
       "(3, 3, 3)"
      ]
     },
     "execution_count": 46,
     "metadata": {},
     "output_type": "execute_result"
    }
   ],
   "source": [
    "len([1, 2, 3]), len((1, 2, 3)), len('123')"
   ]
  },
  {
   "cell_type": "markdown",
   "id": "91a03373-05b8-48d8-b269-5ab26212a710",
   "metadata": {},
   "source": [
    "a pesar de que `list`, `tuple` y `str` no son tipos relacionados.\n",
    "\n",
    "Por otro lado, la vinculación dinámica es el mecanismo por el cual un método aplicado sobre un objeto asocia en ejecución a la definición de su propio tipo. Por ejemplo,"
   ]
  },
  {
   "cell_type": "code",
   "execution_count": 47,
   "id": "7bf6ecea-888e-415c-8910-189c6228616d",
   "metadata": {
    "tags": []
   },
   "outputs": [],
   "source": [
    "class A:\n",
    "    def saluda(self):\n",
    "        print('Soy A')\n",
    "\n",
    "class B:\n",
    "    def saluda(self):\n",
    "        print('Soy B')\n",
    "\n",
    "def ser_amable(x):\n",
    "    x.saluda()"
   ]
  },
  {
   "cell_type": "markdown",
   "id": "1548f3f9-3671-411d-bc5b-e5461bff7589",
   "metadata": {},
   "source": [
    "A priori, no sé sabe si el método `saluda` de la función `ser_amable` se refiere a `A.saluda` o a `B.saluda`, y no se sabrá hasta que la función se llame con un objeto concreto."
   ]
  },
  {
   "cell_type": "code",
   "execution_count": 48,
   "id": "e9ca2982-917a-4dc8-9178-f19fc8342ee7",
   "metadata": {
    "tags": []
   },
   "outputs": [
    {
     "name": "stdout",
     "output_type": "stream",
     "text": [
      "Soy A\n",
      "Soy B\n"
     ]
    }
   ],
   "source": [
    "ser_amable(A())\n",
    "ser_amable(B())"
   ]
  },
  {
   "cell_type": "markdown",
   "id": "ae917e19-0655-4f68-9924-c376602ee3c1",
   "metadata": {},
   "source": [
    "En otros lenguajes con orientación a objetos, esta vinculación dinámica solo se da entre objetos de tipos relacionados por la herencia, pero en Python también se da entre clases no relacionadas como `A` y `B` por el ya mencionado *duck typing*."
   ]
  },
  {
   "cell_type": "markdown",
   "id": "0706106c-2542-483d-8385-308639059241",
   "metadata": {
    "tags": []
   },
   "source": [
    "## [Extra] Excepciones\n",
    "\n",
    "Al programar en Python es probable que te hayas encontrado ocasionalmente con mensajes de error como este, al intentar hacer una operación no válida, intentar abrir un archivo que no encuentra, etc."
   ]
  },
  {
   "cell_type": "code",
   "execution_count": 49,
   "id": "69813f36-3ae6-485f-be5d-cb5edd8a9145",
   "metadata": {
    "tags": []
   },
   "outputs": [
    {
     "ename": "TypeError",
     "evalue": "unsupported operand type(s) for +: 'int' and 'str'",
     "output_type": "error",
     "traceback": [
      "\u001b[0;31m---------------------------------------------------------------------------\u001b[0m",
      "\u001b[0;31mTypeError\u001b[0m                                 Traceback (most recent call last)",
      "Cell \u001b[0;32mIn[49], line 1\u001b[0m\n\u001b[0;32m----> 1\u001b[0m \u001b[38;5;241;43m1\u001b[39;49m\u001b[43m \u001b[49m\u001b[38;5;241;43m+\u001b[39;49m\u001b[43m \u001b[49m\u001b[38;5;124;43m'\u001b[39;49m\u001b[38;5;124;43mdos\u001b[39;49m\u001b[38;5;124;43m'\u001b[39;49m\n",
      "\u001b[0;31mTypeError\u001b[0m: unsupported operand type(s) for +: 'int' and 'str'"
     ]
    }
   ],
   "source": [
    "1 + 'dos'"
   ]
  },
  {
   "cell_type": "markdown",
   "id": "59af2516-b345-4a8f-a214-65ea1cfd4092",
   "metadata": {},
   "source": [
    "Cuando Python o alguno de los paquetes de su biblioteca encuentran un error fatal emiten estos errores o *excepciones* que se muestran en el terminal. Los usuarios también pueden lanzar su propios errores e incluso definir sus propios tipos de error. Para lanzar un error se utiliza la función `raise` seguida de una expresión que designe un error."
   ]
  },
  {
   "cell_type": "code",
   "execution_count": 50,
   "id": "b9d20722-6cb2-48ae-a09a-be38fc35836e",
   "metadata": {
    "tags": []
   },
   "outputs": [
    {
     "ename": "ValueError",
     "evalue": "no ha pasado nada malo, esto es solo un ejemplo",
     "output_type": "error",
     "traceback": [
      "\u001b[0;31m---------------------------------------------------------------------------\u001b[0m",
      "\u001b[0;31mValueError\u001b[0m                                Traceback (most recent call last)",
      "Cell \u001b[0;32mIn[50], line 1\u001b[0m\n\u001b[0;32m----> 1\u001b[0m \u001b[38;5;28;01mraise\u001b[39;00m \u001b[38;5;167;01mValueError\u001b[39;00m(\u001b[38;5;124m'\u001b[39m\u001b[38;5;124mno ha pasado nada malo, esto es solo un ejemplo\u001b[39m\u001b[38;5;124m'\u001b[39m)\n",
      "\u001b[0;31mValueError\u001b[0m: no ha pasado nada malo, esto es solo un ejemplo"
     ]
    }
   ],
   "source": [
    "raise ValueError('no ha pasado nada malo, esto es solo un ejemplo')"
   ]
  },
  {
   "cell_type": "markdown",
   "id": "f838195e-89a2-42ac-a4f2-8cf0889b7e0d",
   "metadata": {},
   "source": [
    "`ValueError` es el nombre de una clase y aquí se está construyendo una instancia suya. Los tipos de error más habituales que lanzaría un usuario son `TypeError` (los tipos de los argumentos de una operación no son los adecuados) o `ValueError` (el valor de los argumentos no es el esperado).\n",
    "\n",
    "El mensaje de error incluye la pila de funciones que se han llamado y todavía no han terminado en el momento en que se produce el error para que se pueda localizar más fácilmente."
   ]
  },
  {
   "cell_type": "code",
   "execution_count": 51,
   "id": "42ad2a92-3da9-47d8-9159-1f1dc533ad13",
   "metadata": {
    "tags": []
   },
   "outputs": [
    {
     "ename": "ValueError",
     "evalue": "ahora fallo",
     "output_type": "error",
     "traceback": [
      "\u001b[0;31m---------------------------------------------------------------------------\u001b[0m",
      "\u001b[0;31mValueError\u001b[0m                                Traceback (most recent call last)",
      "Cell \u001b[0;32mIn[51], line 7\u001b[0m\n\u001b[1;32m      4\u001b[0m     \u001b[38;5;28;01melse\u001b[39;00m:\n\u001b[1;32m      5\u001b[0m         falla_en(n \u001b[38;5;241m-\u001b[39m \u001b[38;5;241m1\u001b[39m)\n\u001b[0;32m----> 7\u001b[0m \u001b[43mfalla_en\u001b[49m\u001b[43m(\u001b[49m\u001b[38;5;241;43m1\u001b[39;49m\u001b[43m)\u001b[49m\n",
      "Cell \u001b[0;32mIn[51], line 5\u001b[0m, in \u001b[0;36mfalla_en\u001b[0;34m(n)\u001b[0m\n\u001b[1;32m      3\u001b[0m     \u001b[38;5;28;01mraise\u001b[39;00m \u001b[38;5;167;01mValueError\u001b[39;00m(\u001b[38;5;124m'\u001b[39m\u001b[38;5;124mahora fallo\u001b[39m\u001b[38;5;124m'\u001b[39m)\n\u001b[1;32m      4\u001b[0m \u001b[38;5;28;01melse\u001b[39;00m:\n\u001b[0;32m----> 5\u001b[0m     \u001b[43mfalla_en\u001b[49m\u001b[43m(\u001b[49m\u001b[43mn\u001b[49m\u001b[43m \u001b[49m\u001b[38;5;241;43m-\u001b[39;49m\u001b[43m \u001b[49m\u001b[38;5;241;43m1\u001b[39;49m\u001b[43m)\u001b[49m\n",
      "Cell \u001b[0;32mIn[51], line 3\u001b[0m, in \u001b[0;36mfalla_en\u001b[0;34m(n)\u001b[0m\n\u001b[1;32m      1\u001b[0m \u001b[38;5;28;01mdef\u001b[39;00m \u001b[38;5;21mfalla_en\u001b[39m(n):\n\u001b[1;32m      2\u001b[0m     \u001b[38;5;28;01mif\u001b[39;00m n \u001b[38;5;241m<\u001b[39m\u001b[38;5;241m=\u001b[39m \u001b[38;5;241m0\u001b[39m:\n\u001b[0;32m----> 3\u001b[0m         \u001b[38;5;28;01mraise\u001b[39;00m \u001b[38;5;167;01mValueError\u001b[39;00m(\u001b[38;5;124m'\u001b[39m\u001b[38;5;124mahora fallo\u001b[39m\u001b[38;5;124m'\u001b[39m)\n\u001b[1;32m      4\u001b[0m     \u001b[38;5;28;01melse\u001b[39;00m:\n\u001b[1;32m      5\u001b[0m         falla_en(n \u001b[38;5;241m-\u001b[39m \u001b[38;5;241m1\u001b[39m)\n",
      "\u001b[0;31mValueError\u001b[0m: ahora fallo"
     ]
    }
   ],
   "source": [
    "def falla_en(n):\n",
    "    if n <= 0:\n",
    "        raise ValueError('ahora fallo')\n",
    "    else:\n",
    "        falla_en(n - 1)\n",
    "\n",
    "falla_en(1)"
   ]
  },
  {
   "cell_type": "markdown",
   "id": "18219b19-d2c8-42b2-aa94-8f3547008221",
   "metadata": {
    "tags": []
   },
   "source": [
    "### Capturar excepciones"
   ]
  },
  {
   "cell_type": "markdown",
   "id": "926ce559-6a34-4c61-87f2-d3b09d66e1b8",
   "metadata": {},
   "source": [
    "Las excepciones se pueden *capturar* para evitar que interrumpan la ejecución del programa, si este sabe cómo responder al error que se ha producido. Esto se hace con el bloque `try`/`except`.\n",
    "```python\n",
    "try:\n",
    "    # código que puede fallar\n",
    "except NombreExcepcion as variable:\n",
    "    # código que responde al error\n",
    "```"
   ]
  },
  {
   "cell_type": "code",
   "execution_count": 52,
   "id": "d981175b-19be-4b4e-b470-9a8b4dd728f7",
   "metadata": {
    "tags": []
   },
   "outputs": [
    {
     "name": "stdout",
     "output_type": "stream",
     "text": [
      "El número no está en la lista: 5 is not in list\n"
     ]
    }
   ],
   "source": [
    "try:\n",
    "    índice = [1, 2, 3].index(5)\n",
    "\n",
    "except ValueError as ve:\n",
    "    print('El número no está en la lista:', ve)\n",
    "    índice = -1"
   ]
  },
  {
   "cell_type": "markdown",
   "id": "0248abd2-432d-4b71-ac37-cc28c7a800ce",
   "metadata": {},
   "source": [
    "La sintaxis del bloque `try`/`except` es más general, pero no insistiremos en ello. El lector interesado puede consultar la [sección 8.3](https://docs.python.org/es/3/tutorial/errors.html#handling-exceptions) del tutorial de Python."
   ]
  },
  {
   "cell_type": "markdown",
   "id": "ce7fede0-2908-4b62-b4b8-e33520061590",
   "metadata": {},
   "source": [
    "### Definir nuestras propias excepciones\n",
    "\n",
    "Una excepción es cualquier instancia de una subclase de la clase predefinida [`Exception`](https://docs.python.org/es/3/library/exceptions.html#Exception). Usando el mecanismo de la herencia visto anteriormente, definir una nueva excepción es trivial."
   ]
  },
  {
   "cell_type": "code",
   "execution_count": 53,
   "id": "f58c7d9c-5d5c-455d-aa3d-8639edd98a3a",
   "metadata": {
    "tags": []
   },
   "outputs": [
    {
     "ename": "MiError",
     "evalue": "errare humanum est",
     "output_type": "error",
     "traceback": [
      "\u001b[0;31m---------------------------------------------------------------------------\u001b[0m",
      "\u001b[0;31mMiError\u001b[0m                                   Traceback (most recent call last)",
      "Cell \u001b[0;32mIn[53], line 5\u001b[0m\n\u001b[1;32m      2\u001b[0m     \u001b[38;5;28;01mdef\u001b[39;00m \u001b[38;5;21m__str__\u001b[39m(\u001b[38;5;28mself\u001b[39m):\n\u001b[1;32m      3\u001b[0m         \u001b[38;5;28;01mreturn\u001b[39;00m \u001b[38;5;124m'\u001b[39m\u001b[38;5;124merrare humanum est\u001b[39m\u001b[38;5;124m'\u001b[39m\n\u001b[0;32m----> 5\u001b[0m \u001b[38;5;28;01mraise\u001b[39;00m MiError()\n",
      "\u001b[0;31mMiError\u001b[0m: errare humanum est"
     ]
    }
   ],
   "source": [
    "class MiError(Exception):\n",
    "    def __str__(self):\n",
    "        return 'errare humanum est'\n",
    "    \n",
    "raise MiError()"
   ]
  },
  {
   "cell_type": "markdown",
   "id": "aad43719-70d7-4477-b381-e71b4b0238eb",
   "metadata": {},
   "source": [
    "Introducir nuevos tipos de error puede ser útil cuando se desea incluir en sus atributos información adicional que quien lo capture deba conocer. Puesto que la instrucción `except` filtra los errores por su tipo, también puede ser asegurarse de capturar solo los errores que hayamos lanzado nosotros y no otros."
   ]
  },
  {
   "cell_type": "markdown",
   "id": "88e33aee-f52d-4bd7-9a19-882236633f97",
   "metadata": {
    "notoc": true,
    "pretex": "\\small",
    "tags": []
   },
   "source": [
    "## Referencias\n",
    "\n",
    "* [§9 «Clases»](https://docs.python.org/es/3/tutorial/classes.html) del tutorial de Python.\n",
    "* §10 «Classes and object-oriented programming» del [libro de Guttag](https://ucm.on.worldcat.org/oclc/1347116367) (§8 en la [edición de 2013](https://ucm.on.worldcat.org/oclc/1025935018)).\n",
    "* [§8 «Errores y excepciones»](https://docs.python.org/es/3/tutorial/errors.html) del tutorial de Python.\n",
    "* [Implementación de las listas en CPython](https://github.com/python/cpython/blob/3.11/Include/cpython/listobject.h#L5-L22) (es código C, únicamente se cita como referencia de la afirmación sobre la representación interna de las listas)."
   ]
  }
 ],
 "metadata": {
  "authors": [
   {
    "name": "Rubén Rubio"
   }
  ],
  "kernelspec": {
   "display_name": "Python 3 (ipykernel)",
   "language": "python",
   "name": "python3"
  },
  "language_info": {
   "codemirror_mode": {
    "name": "ipython",
    "version": 3
   },
   "file_extension": ".py",
   "mimetype": "text/x-python",
   "name": "python",
   "nbconvert_exporter": "python",
   "pygments_lexer": "ipython3",
   "version": "3.11.3"
  }
 },
 "nbformat": 4,
 "nbformat_minor": 5
}
