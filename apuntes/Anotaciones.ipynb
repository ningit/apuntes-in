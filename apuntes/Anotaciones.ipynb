{
 "cells": [
  {
   "cell_type": "markdown",
   "id": "93a8fb7a-17d3-46d6-af25-de23e85d0960",
   "metadata": {},
   "source": [
    "# Anotaciones de tipo"
   ]
  },
  {
   "cell_type": "markdown",
   "id": "050a0b33-e80c-4ee2-b664-5b27474230fe",
   "metadata": {},
   "source": [
    "Python es un lenguaje con tipado dinámico, es decir, el tipo de variables y argumentos no se indica en el código ni se comprueba antes de ejecutar. En ejecución, son los objetos a los que se refieren esas variables los que toman un tipo concreto dinámicamente (como se puede ver con la función `type`). Si se intenta realizar una operación que no soporta el tipo asignado se mostrará un error mientras se ejecuta.\n",
    "\n",
    "Es más, la filosofía de Python es el *duck typing*, que se resume en «si camina como un pato y grazna como un pato, tiene que ser un pato». Es decir, no se considera importante vincular una variable a un tipo concreto sino que soporte las operaciones que se le van a aplicar.\n",
    "\n",
    "No obstante, las versiones recientes de Python admiten anotaciones de tipo en los argumentos de las funciones y otros lugares señalados, que pueden ser útiles como documentación o para detectar errores utilizando comprobadores de tipos externos."
   ]
  },
  {
   "cell_type": "code",
   "execution_count": 1,
   "id": "939061f9-116d-472f-be6a-f6e7c004f7aa",
   "metadata": {},
   "outputs": [],
   "source": [
    "def suma(n: int, m: int) -> int:\n",
    "    \"\"\"Suma dos números enteros\"\"\"\n",
    "    return n + m"
   ]
  },
  {
   "cell_type": "markdown",
   "id": "9f859227-a9c7-406c-bc8b-62d364c3deb8",
   "metadata": {},
   "source": [
    "El tipo de un argumento se especifica añadiendo tras su nombre dos puntos (`:`) seguidos de un objeto que represente un tipo. El tipo de retorno de una función se indica tras una flecha `->` como se ve arriba.\n",
    "\n",
    "Python no comprueba en ningún momento las anotaciones de tipo (más allá de que el tipo sea una expresión válida). A pesar de haber indicado que los argumentos de la función son enteros, podemos llamarla sin problema con `float`s."
   ]
  },
  {
   "cell_type": "code",
   "execution_count": 2,
   "id": "1878536a-1c2e-48e4-9116-6a3afe119c6e",
   "metadata": {},
   "outputs": [
    {
     "data": {
      "text/plain": [
       "11.2"
      ]
     },
     "execution_count": 2,
     "metadata": {},
     "output_type": "execute_result"
    }
   ],
   "source": [
    "suma(4.5, 6.7)"
   ]
  },
  {
   "cell_type": "markdown",
   "id": "8f6ca143-81ba-457b-8427-d8ae1f71f91c",
   "metadata": {},
   "source": [
    "Las variables también se pueden anotar con un tipo de forma análoga."
   ]
  },
  {
   "cell_type": "code",
   "execution_count": 3,
   "id": "8d26d035-fbe9-4b6b-9651-d467230adbd7",
   "metadata": {},
   "outputs": [],
   "source": [
    "lista: list[int] = []"
   ]
  },
  {
   "cell_type": "markdown",
   "id": "0e161013-67d2-469e-9480-f68e9003036e",
   "metadata": {},
   "source": [
    "En la declaración anterior, el tipo `list[int]` indica no solo que `lista` pretende ser una lista, sino que además sus elementos serán números enteros. Podríamos haber escrito solo `list` como anotación de tipo, pero esto es más específico.\n",
    "\n",
    "La notación de los corchetes también funciona con tuplas `tuple[int, int, float]` y diccionarios `dict[str, list[int]]`. Estos tipos compuestos son expresiones de Python como cualquier otra y se pueden asignar a una variable por conveniencia."
   ]
  },
  {
   "cell_type": "code",
   "execution_count": 4,
   "id": "eb673051-da2d-46c7-9553-beba918bb4fe",
   "metadata": {},
   "outputs": [],
   "source": [
    "matriz = list[list[int]]"
   ]
  },
  {
   "cell_type": "markdown",
   "id": "58e3c4d4-d1a3-4ff9-98d6-cdec99d877bc",
   "metadata": {},
   "source": [
    "El soporte de Python para la anotación de tipos está todavía en evolución y hay características que solo están disponibles en las versiones más recientes del lenguaje."
   ]
  },
  {
   "cell_type": "markdown",
   "id": "d1812617-5cd5-412f-8e8c-7d3102129178",
   "metadata": {},
   "source": [
    "## Tipos básicos abstractos\n",
    "\n",
    "En numerosas ocasiones, como en la función `suma` anterior, el tipo concreto de número que se utiliza es indiferente. O para una función que vaya a iterar sobre un conjunto de datos es indiferente si estos son tuplas, listas o asimilables."
   ]
  },
  {
   "cell_type": "code",
   "execution_count": 5,
   "id": "e76ce2d8-0046-4bd4-90f6-14c0b0cbb5ba",
   "metadata": {},
   "outputs": [],
   "source": [
    "from numbers import Number\n",
    "\n",
    "def suma(n: Number, m: Number) -> Number:\n",
    "    \"\"\"Suma dos números\"\"\"\n",
    "    return n + m"
   ]
  },
  {
   "cell_type": "markdown",
   "id": "883babfb-ae3f-4c4e-829e-dd9d137e2f02",
   "metadata": {},
   "source": [
    "Por ejemplo, aquí el tipo genérico abstracto `Number` indica que `suma` recibe dos números y devuelve otro número, que pueden ser de tipo `int`, `float`, `complex` u otros. No se está diciendo que el tipo concreto de `n` y `m` haya de ser el mismo, ni que el tipo que se devuelva coincida con ninguno de ellos, para lo que harían falta anotaciones más sofisticadas.\n",
    "\n",
    "Otros tipos genéricos interesantes, en el paquete [`collections.abc`](https://docs.python.org/3/library/collections.abc.html) (*abstract base classes*), son `Sequence` (`list`, `tuple`, `str`, `range`, etc) e `Iterable` (los anteriores y más), que también pueden recibir parámetros."
   ]
  },
  {
   "cell_type": "markdown",
   "id": "61c47fcb-4cea-46c2-9f95-bfd162161780",
   "metadata": {},
   "source": [
    "## Comprobación de tipos\n",
    "\n",
    "Spyder no comprueba las anotaciones de tipo, pero sí lo hacen otros entornos de desarrollo como [VS Code](https://code.visualstudio.com/) (con la extensión de Python, que usa [Pyright](https://github.com/microsoft/pyright)) y [PyCharm](https://www.jetbrains.com/pycharm/) (instalado en los laboratorios de la facultad, pero solo en Windows).\n",
    "\n",
    "La herramienta [Mypy](https://mypy-lang.org/) es un comprobador estático de tipos en Python para la línea de comandos. Está instalado en los Linux del laboratorio y para instalarlo en Windows (o en Linux si no estuviera) basta escribir `pip install mypy` en la consola de Anaconda (o en el terminal). Para ejecutarlo, basta escribir\n",
    "```console\n",
    "$ mypy nombre_archivo.py\n",
    "```\n",
    "y aparecerán los errores que encuentre o un mensaje de que todo está bien. El soporte para clases abstractas básicas no es del todo completo."
   ]
  },
  {
   "cell_type": "markdown",
   "id": "97e8bbd5-e519-46cd-9fcd-84ce01a95c38",
   "metadata": {
    "notoc": true,
    "pretex": "\\small",
    "tags": []
   },
   "source": [
    "## Referencias\n",
    "\n",
    "* [§4.8.8 «Anotación de funciones»](https://docs.python.org/es/3/tutorial/controlflow.html#function-annotations) del tutorial de Python.\n",
    "* [PEP 483](https://peps.python.org/pep-0483/) con la descripción del sistema de anotaciones de tipo."
   ]
  }
 ],
 "metadata": {
  "authors": [
   {
    "name": "Rubén Rubio"
   }
  ],
  "kernelspec": {
   "display_name": "Python 3 (ipykernel)",
   "language": "python",
   "name": "python3"
  },
  "language_info": {
   "codemirror_mode": {
    "name": "ipython",
    "version": 3
   },
   "file_extension": ".py",
   "mimetype": "text/x-python",
   "name": "python",
   "nbconvert_exporter": "python",
   "pygments_lexer": "ipython3",
   "version": "3.11.3"
  }
 },
 "nbformat": 4,
 "nbformat_minor": 5
}
