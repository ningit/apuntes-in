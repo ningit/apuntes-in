{
 "cells": [
  {
   "cell_type": "markdown",
   "id": "8830f41a-d6e6-469a-82de-8abdd99410a5",
   "metadata": {},
   "source": [
    "# Recursión"
   ]
  },
  {
   "cell_type": "markdown",
   "id": "e3cdf8db-1b12-4cb8-8756-1b253b2b6695",
   "metadata": {},
   "source": [
    "Tanto en informática como en matemáticas es habitual resolver problemas reduciéndolos a instancias más sencillas de los mismos, hasta encontrar ejemplares que sabemos resolver de forma trivial. Este es el fundamento de la inducción en matemáticas: se prueba una propiedad de forma directa para uno o más *casos base* y para el resto de casos (llamados *inductivos*) se deduce asumiendo que la propiedad es cierta para instancias más pequeñas. Por ejemplo, $\\sum_{k=1}^n k = n (n + 1) / 2$ porque $0 = 0$ para $n=0$ (caso base) y $\\sum_{k=1}^n k = \\sum_{k=1}^{n-1} k + n = (n - 1) n / 2 + n = (n^2 - n + 2n) / 2 = n (n + 1) / 2$ (caso inductivo).\n",
    "\n",
    "En programación, la *recursión* consiste en definir funciones que se llaman a sí mismas sobre instancias más pequeñas del problema que pretenden resolver. Igualmente habrá casos base donde la función se resuelva directamente, mientras que el resto de casos se resolverán combinando los resultados de una o más llamadas recursivas sobre instancias más sencillas del problema."
   ]
  },
  {
   "cell_type": "markdown",
   "id": "221d0064-a9c8-45ce-bff5-34793f048745",
   "metadata": {
    "pretex": "\\medskip\n",
    "tags": []
   },
   "source": [
    "**Ejemplo 1 (sucesiones):** la recursión se puede aplicar trivialmente al cálculo del término $n$-ésimo de una sucesión definida en función de los términos anteriores. Por ejemplo, el factorial, $x_0 = 1$, $x_n = n \\cdot x_{n-1}$."
   ]
  },
  {
   "cell_type": "code",
   "execution_count": 1,
   "id": "3c960a94-2a45-4f6d-968c-864cfbf15b1b",
   "metadata": {},
   "outputs": [],
   "source": [
    "def factorial(n: int) -> int:\n",
    "    if n == 0:  # caso base\n",
    "        return 1\n",
    "    else:  # caso recursivo\n",
    "        return n * factorial(n - 1)"
   ]
  },
  {
   "cell_type": "code",
   "execution_count": 2,
   "id": "3868d158-d530-412f-8ed5-aa4c4e54b434",
   "metadata": {},
   "outputs": [
    {
     "data": {
      "text/plain": [
       "720"
      ]
     },
     "execution_count": 2,
     "metadata": {},
     "output_type": "execute_result"
    }
   ],
   "source": [
    "factorial(6)"
   ]
  },
  {
   "cell_type": "markdown",
   "id": "a2d67101-94ea-466a-88f0-1aec1267f884",
   "metadata": {},
   "source": [
    "*Observación 1*: ¿qué pasa si ejecutamos `factorial(-1)`? Se ejecutará el bloque `else` porque $n \\neq 0$ y se llamará a `factorial(-2)`, luego a `factorial(-3)` y así sucesivamente sin fin. Como con los bucles `while`, es posible que una función recursiva no termine si está mal diseñada o si se llama con unos argumentos inesperados. Si hubiéramos definido el caso base como `n <= 0` la ejecución infinita desaparecería, o incluso podríamos comprobar si el número es no negativo y lanzar una excepción en caso contrario. Sin embargo, es razonable que la función garantice un resultado válido solo cuando los parámetros de entrada cumplen una *precondición* (aquí $n \\geq 0$) y en caso contrario no asegure absolutamente nada. <bigskip/>"
   ]
  },
  {
   "cell_type": "markdown",
   "id": "8b887e9d-31b8-4adc-a062-821faba9a10c",
   "metadata": {},
   "source": [
    "**Ejemplo 1 bis:** la sucesión de Fibonacci, $f_0 = 0$, $f_1 = 1$, $f_n = f_{n-1} + f_{n-2}$."
   ]
  },
  {
   "cell_type": "code",
   "execution_count": 3,
   "id": "df268ddc-3578-4f14-8985-5be3d9afe207",
   "metadata": {
    "tags": []
   },
   "outputs": [],
   "source": [
    "def fibonacci(n: int) -> int:\n",
    "    if n == 0 or n == 1:  # caso base\n",
    "        return n\n",
    "    else:  # caso inductivo\n",
    "        return fibonacci(n - 1) + fibonacci(n - 2)"
   ]
  },
  {
   "cell_type": "code",
   "execution_count": 4,
   "id": "328e4988-af2c-4b20-b7e8-fb2cd3588267",
   "metadata": {
    "tags": []
   },
   "outputs": [
    {
     "data": {
      "text/plain": [
       "8"
      ]
     },
     "execution_count": 4,
     "metadata": {},
     "output_type": "execute_result"
    }
   ],
   "source": [
    "fibonacci(6)"
   ]
  },
  {
   "cell_type": "markdown",
   "id": "bc469ae7-9842-4e36-aa32-0a3672772123",
   "metadata": {},
   "source": [
    "Los problemas recursivos se pueden resolver también mediante programas *iterativos*, es decir, con bucles y las instrucciones que se han visto anteriormente. De hecho, estas funciones ya se implementaron con bucles en el primer cuatrimestre."
   ]
  },
  {
   "cell_type": "code",
   "execution_count": 5,
   "id": "0a228ac1-fadb-4a26-a499-179000101a4d",
   "metadata": {
    "tags": []
   },
   "outputs": [],
   "source": [
    "def fibonacci_iter(n: int) -> int:\n",
    "    fib_nm1, fib_n = 0, 1\n",
    "    \n",
    "    for k in range(2, n + 1):\n",
    "        fib_nm1, fib_n = fib_n, fib_nm1 + fib_n\n",
    "        \n",
    "    return fib_n"
   ]
  },
  {
   "cell_type": "code",
   "execution_count": 6,
   "id": "b6a5cf5e-fb94-4c54-8878-57c6e9bc4ae3",
   "metadata": {},
   "outputs": [
    {
     "name": "stdout",
     "output_type": "stream",
     "text": [
      "226 ms ± 10 ms per loop (mean ± std. dev. of 7 runs, 1 loop each)\n"
     ]
    }
   ],
   "source": [
    "%timeit fibonacci(30)"
   ]
  },
  {
   "cell_type": "code",
   "execution_count": 7,
   "id": "7d2ca982-810b-40a6-bbe4-c2cab4b0d896",
   "metadata": {},
   "outputs": [
    {
     "name": "stdout",
     "output_type": "stream",
     "text": [
      "1.15 µs ± 25.3 ns per loop (mean ± std. dev. of 7 runs, 1,000,000 loops each)\n"
     ]
    }
   ],
   "source": [
    "%timeit fibonacci_iter(30)"
   ]
  },
  {
   "cell_type": "markdown",
   "id": "cdc49693-919d-40e0-9285-33e7f68bf54f",
   "metadata": {},
   "source": [
    "Los programas recursivos suelen ser más abstractos, simples y comprensibles que los programas iterativos, pero también es habitual que sean menos eficientes. El caso de la sucesión de Fibonacci es particularmente atroz, porque sus dos llamadas recursivas provocan una cantidad exponencial de trabajo duplicado (como probaremos al final del tema).\n",
    "\n",
    "Generalizando la función `fibonacci` para que devuelva tanto $f_n$ como $f_{n-1}$, se obtiene una implementación recursiva de Fibonacci de una eficiencia comparable a la iterativa."
   ]
  },
  {
   "cell_type": "code",
   "execution_count": 8,
   "id": "c8da943c-3a47-4d01-a38e-6d517e540562",
   "metadata": {
    "tags": []
   },
   "outputs": [],
   "source": [
    "def fibonacci_mejor(n: int) -> tuple[int, int]:\n",
    "    if n == 0:  # caso base\n",
    "        return 0, None\n",
    "    elif n == 1:  # caso base\n",
    "        return 1, 0\n",
    "    else:  # caso inductivo\n",
    "        fibnm1, fibnm2 = fibonacci_mejor(n - 1)\n",
    "        # La función recursiva devuelve también el anterior\n",
    "        return fibnm1 + fibnm2, fibnm1"
   ]
  },
  {
   "cell_type": "code",
   "execution_count": 9,
   "id": "a76d0116-fd45-4c11-899d-a7a32c6df8ea",
   "metadata": {
    "tags": []
   },
   "outputs": [
    {
     "data": {
      "text/plain": [
       "(8, 5)"
      ]
     },
     "execution_count": 9,
     "metadata": {},
     "output_type": "execute_result"
    }
   ],
   "source": [
    "fibonacci_mejor(6)"
   ]
  },
  {
   "cell_type": "code",
   "execution_count": 10,
   "id": "4495344b-756b-41e8-85e0-483bf05d77ae",
   "metadata": {},
   "outputs": [
    {
     "name": "stdout",
     "output_type": "stream",
     "text": [
      "3.85 µs ± 90.7 ns per loop (mean ± std. dev. of 7 runs, 100,000 loops each)\n"
     ]
    }
   ],
   "source": [
    "%timeit fibonacci_mejor(30)"
   ]
  },
  {
   "cell_type": "markdown",
   "id": "68d66ab7-ed52-4230-8970-b8b31fdb9a78",
   "metadata": {},
   "source": [
    "No obstante, la implementación recursiva sigue siendo más lenta, debido al coste de apilar los sucesivos entornos de la pila de llamadas. <bigskip/>"
   ]
  },
  {
   "cell_type": "markdown",
   "id": "45d9917e-423c-4c0b-af1f-810f313c48b1",
   "metadata": {},
   "source": [
    "**Ejemplo 2 (palíndromos):** la recursión no solo se puede aplicar a números naturales. Por ejemplo, podemos programar una función recursiva que compruebe si una cadena de texto es un palíndromo. $a_1 a_2 \\cdots a_{n-1} a_n$ será palíndromo si $a_1 = a_n$ y $a_2 \\cdots a_{n-1}$ es palíndromo. Observa cómo hemos reducido el problema a una instancia más pequeña del mismo. La cadena vacía es también un palíndromo y será el caso base. Esto lo podemos escribir de forma esquemática como\n",
    "$$\\begin{array}{rcl}\n",
    "    \\mathrm{palíndromo}() &=& \\mathit{cierto} \\\\ \n",
    "    \\mathrm{palíndromo}(a_1 a_2 \\cdots a_{n-1} a_n) &=& a_1 = a_n \\;\\wedge\\; \\mathrm{palíndromo}(a_2 \\cdots a_{n-1})\n",
    "\\end{array}\n",
    "$$\n",
    "y en Python como la siguiente función:"
   ]
  },
  {
   "cell_type": "code",
   "execution_count": 11,
   "id": "00f042cd-3c89-4a7b-8a0f-862e283a3fec",
   "metadata": {
    "tags": []
   },
   "outputs": [],
   "source": [
    "def es_palíndromo(texto: str) -> bool: \n",
    "    if texto == '':  # caso base\n",
    "        return True\n",
    "    else:            # caso inductivo\n",
    "        return texto[0] == texto[-1] and es_palíndromo(texto[1:-1])"
   ]
  },
  {
   "cell_type": "code",
   "execution_count": 12,
   "id": "5c340f41-3f5a-4b00-82ea-4fe15c050147",
   "metadata": {
    "tags": []
   },
   "outputs": [
    {
     "data": {
      "text/plain": [
       "True"
      ]
     },
     "execution_count": 12,
     "metadata": {},
     "output_type": "execute_result"
    }
   ],
   "source": [
    "es_palíndromo('dabale arroz a la zorra el abad'.replace(' ', ''))"
   ]
  },
  {
   "cell_type": "code",
   "execution_count": 13,
   "id": "ed77c721-302d-45f9-a30c-c337a37ea6f7",
   "metadata": {
    "tags": []
   },
   "outputs": [
    {
     "data": {
      "text/plain": [
       "False"
      ]
     },
     "execution_count": 13,
     "metadata": {},
     "output_type": "execute_result"
    }
   ],
   "source": [
    "es_palíndromo('palindromo')"
   ]
  },
  {
   "cell_type": "markdown",
   "id": "cacd5acc-e31d-4c55-b184-556e6d14b360",
   "metadata": {},
   "source": [
    "**Ejemplo 3 (búsqueda binaria):** en el primer cuatrimestre se vio el método de la bisección para encontrar soluciones aproximadas a problemas numéricos. Esa idea también se puede aplicar a la búsqueda eficiente dentro de una lista ordenada."
   ]
  },
  {
   "cell_type": "code",
   "execution_count": 14,
   "id": "6a97bbce-719b-42cc-95dc-740709189dcf",
   "metadata": {},
   "outputs": [],
   "source": [
    "def busca_binaria(v: list, elem) -> tuple[bool, int]:\n",
    "    \"\"\"Busca elem en v\"\"\"\n",
    "    \n",
    "    # Lista vacía\n",
    "    if not v:\n",
    "        return False, 0\n",
    "    \n",
    "    # Comprueba el elemento en la mitad de la lista\n",
    "    mitad = len(v) // 2\n",
    "    \n",
    "    if v[mitad] == elem:  # lo hemos encontrado\n",
    "        return True, mitad\n",
    "    \n",
    "    elif elem < v[mitad]:  # el elemento está a la izquierda\n",
    "        return busca_binaria(v[:mitad], elem)\n",
    "    \n",
    "    else:  # el elemento está en la mitad derecha\n",
    "        encontrado, donde = busca_binaria(v[mitad + 1:], elem)\n",
    "        return encontrado, mitad + 1 + donde"
   ]
  },
  {
   "cell_type": "code",
   "execution_count": 15,
   "id": "2b005e7c-cfa9-4715-b229-76e2cd7b6c5e",
   "metadata": {},
   "outputs": [
    {
     "data": {
      "text/plain": [
       "(True, 1)"
      ]
     },
     "execution_count": 15,
     "metadata": {},
     "output_type": "execute_result"
    }
   ],
   "source": [
    "busca_binaria([1, 3, 7, 9], 3)"
   ]
  },
  {
   "cell_type": "code",
   "execution_count": 16,
   "id": "fb7209b0-7740-4705-91b1-8a956e420c3b",
   "metadata": {},
   "outputs": [
    {
     "data": {
      "text/plain": [
       "(False, 2)"
      ]
     },
     "execution_count": 16,
     "metadata": {},
     "output_type": "execute_result"
    }
   ],
   "source": [
    "busca_binaria([1, 3, 7, 9], 5)"
   ]
  },
  {
   "cell_type": "markdown",
   "id": "ec8fc373-52ef-40a2-8aaa-4a08efecf536",
   "metadata": {},
   "source": [
    "## Ejecución de un programa recursivo\n",
    "\n",
    "Expresar un algoritmo recursivamente permite preocuparse únicamente de la reducción local de un problema a sus subproblemas, sin necesidad de contemplar el cálculo completo. Cuando escribimos $\\mathrm{factorial}(0) = 1$ y $\\mathrm{factorial}(n) = n \\cdot \\mathrm{factorial}(n-1)$ (o la función equivalente en Python) es suficiente ver que son identidades válidas para saber que el algoritmo es correcto y que el subproblema de la derecha es más pequeño ($n - 1 < n$) para asegurar que el cálculo termina. No es preciso deducir que se acabarán multiplicando todos los números del $1$ al $n$ y en qué orden para entender que el programa funcionará correctamente. \n",
    "\n",
    "Sin embargo, no deja de ser relevante conocer cómo se ejecuta un programa recursivo y sus implicaciones. En realidad, no hay nada novedoso en ello, una llamada recursiva es una llamada normal a función como las que llevamos haciendo desde el primer cuatrimestre. Como hemos observado al ejecutar los programas, una llamada interrumpe la ejecución de la función que se está ejecutando, cuyo estado completo queda pendiente en una estructura conocida como *pila de llamadas*. Esa estructura es una *pila* como las que vimos en la hoja de problemas sobre clases y objetos, es decir, solo permite apilar una nueva llamada sobre las demás, acceder a la información de la llamada actual o desapilarla (como una pila de platos en un fregadero estrecho). Ahí se guardan para cada llamada sus variables y el punto del programa al que habrá que *retornar* cuando la función termine. En más detalle, cuando se llama a una función $f(e_1, ..., e_n)$ se ejecutan aproximadamente los siguientes pasos:\n",
    "1. se evalúan las expresiones $e_k$ que ocupan sus argumentos,\n",
    "2. se apila un nuevo contexto en la pila de llamadas con las variables $x_k$ correspondientes a los argumentos (las que aparecen tras el `def`) asignadas al valor de su correspondiente $e_k$. También se guardarán allí las otras variables de la nueva función. Esto implica que cada llamada tiene una copia distinta de sus variables, que aunque tengan el mismo nombre son completamente independientes. Como se ha dicho, se guarda además el punto del programa donde se quedó pendiente la ejecución de la función llamante, para retomarlo en ese punto cuando la función llamada termine.\n",
    "3. se ejecuta el código de la función $f$ utilizando estas variables locales a su llamada,\n",
    "4. cuando la llamada a $f$ termina (porque llega al final o al ejecutar un `return`), se desapila su contexto de la pila de llamadas, se recuperan por tanto las variables de la función llamante y se vuelve al punto donde se quedó. En la expresión que incluía la llamada ahora se usa el valor devuelto por `return` (o `None` si no hay `return`).\n",
    "\n",
    "Veamos como ejemplo la evaluación detallada de `factorial(1)`. En primer lugar, se evalúa el argumento `1` cuyo valor es 1, se apila un contexto para `factorial` con la variable $n=1$ y se empieza a ejecutar la definición de la función `factorial`. En ella se toma la segunda rama ($n \\geq 1$), que ha de evaluar `n * factorial(n - 1)`. Por tanto, se hace la llamada recursiva `factorial(n - 1)`, donde primero se evalúa `n - 1` a 0, se apila un nuevo contexto con la variable $n=0$ y se ejecuta la definición de `factorial`. Esta vez se toma la primera rama porque `n == 0` es cierto y se devuelve el valor 1 con `return`. En ese momento, se desapila el contexto de `factorial(0)` y se continúa evaluando la expresión `n * factorial(n - 1)` en `factorial(1)`, que ahora vale `1 * factorial(0)`, luego `1 * 1`, luego 1. Este segundo `return` vuelve a desapilar el contexto de `factorial(1)` y se termina la ejecución devolviendo el valor 1. <bigskip/>"
   ]
  },
  {
   "cell_type": "markdown",
   "id": "5466a55b-ebe9-40f2-821c-8a5f677aa438",
   "metadata": {},
   "source": [
    "*Observación 2*: la pila de llamadas ocupa memoria y manipularla lleva cierto tiempo, así que las funciones recursivas son en general más lentas que sus equivalentes iterativas (es decir, con bucles). Además, en Python también hay una limitación explícita del número de llamadas anidadas que se pueden hacer, esto es, de la longitud de esa pila de llamadas."
   ]
  },
  {
   "cell_type": "code",
   "execution_count": 17,
   "id": "378f9d2c-9df7-4f83-8af3-96b689982f66",
   "metadata": {
    "tags": []
   },
   "outputs": [
    {
     "data": {
      "text/plain": [
       "3000"
      ]
     },
     "execution_count": 17,
     "metadata": {},
     "output_type": "execute_result"
    }
   ],
   "source": [
    "import sys\n",
    "sys.getrecursionlimit()"
   ]
  },
  {
   "cell_type": "code",
   "execution_count": 18,
   "id": "325acfcb-4dcf-4581-8377-8a6767a34ea7",
   "metadata": {
    "tags": []
   },
   "outputs": [
    {
     "ename": "RecursionError",
     "evalue": "maximum recursion depth exceeded",
     "output_type": "error",
     "traceback": [
      "\u001b[0;31m---------------------------------------------------------------------------\u001b[0m",
      "\u001b[0;31mRecursionError\u001b[0m                            Traceback (most recent call last)",
      "Cell \u001b[0;32mIn[18], line 1\u001b[0m\n\u001b[0;32m----> 1\u001b[0m \u001b[43mfibonacci_mejor\u001b[49m\u001b[43m(\u001b[49m\u001b[38;5;241;43m3001\u001b[39;49m\u001b[43m)\u001b[49m\n",
      "Cell \u001b[0;32mIn[8], line 7\u001b[0m, in \u001b[0;36mfibonacci_mejor\u001b[0;34m(n)\u001b[0m\n\u001b[1;32m      5\u001b[0m     \u001b[38;5;28;01mreturn\u001b[39;00m \u001b[38;5;241m1\u001b[39m, \u001b[38;5;241m0\u001b[39m\n\u001b[1;32m      6\u001b[0m \u001b[38;5;28;01melse\u001b[39;00m:  \u001b[38;5;66;03m# caso inductivo\u001b[39;00m\n\u001b[0;32m----> 7\u001b[0m     fibnm1, fibnm2 \u001b[38;5;241m=\u001b[39m \u001b[43mfibonacci_mejor\u001b[49m\u001b[43m(\u001b[49m\u001b[43mn\u001b[49m\u001b[43m \u001b[49m\u001b[38;5;241;43m-\u001b[39;49m\u001b[43m \u001b[49m\u001b[38;5;241;43m1\u001b[39;49m\u001b[43m)\u001b[49m\n\u001b[1;32m      8\u001b[0m     \u001b[38;5;66;03m# La función recursiva devuelve también el anterior\u001b[39;00m\n\u001b[1;32m      9\u001b[0m     \u001b[38;5;28;01mreturn\u001b[39;00m fibnm1 \u001b[38;5;241m+\u001b[39m fibnm2, fibnm1\n",
      "Cell \u001b[0;32mIn[8], line 7\u001b[0m, in \u001b[0;36mfibonacci_mejor\u001b[0;34m(n)\u001b[0m\n\u001b[1;32m      5\u001b[0m     \u001b[38;5;28;01mreturn\u001b[39;00m \u001b[38;5;241m1\u001b[39m, \u001b[38;5;241m0\u001b[39m\n\u001b[1;32m      6\u001b[0m \u001b[38;5;28;01melse\u001b[39;00m:  \u001b[38;5;66;03m# caso inductivo\u001b[39;00m\n\u001b[0;32m----> 7\u001b[0m     fibnm1, fibnm2 \u001b[38;5;241m=\u001b[39m \u001b[43mfibonacci_mejor\u001b[49m\u001b[43m(\u001b[49m\u001b[43mn\u001b[49m\u001b[43m \u001b[49m\u001b[38;5;241;43m-\u001b[39;49m\u001b[43m \u001b[49m\u001b[38;5;241;43m1\u001b[39;49m\u001b[43m)\u001b[49m\n\u001b[1;32m      8\u001b[0m     \u001b[38;5;66;03m# La función recursiva devuelve también el anterior\u001b[39;00m\n\u001b[1;32m      9\u001b[0m     \u001b[38;5;28;01mreturn\u001b[39;00m fibnm1 \u001b[38;5;241m+\u001b[39m fibnm2, fibnm1\n",
      "    \u001b[0;31m[... skipping similar frames: fibonacci_mejor at line 7 (2971 times)]\u001b[0m\n",
      "Cell \u001b[0;32mIn[8], line 7\u001b[0m, in \u001b[0;36mfibonacci_mejor\u001b[0;34m(n)\u001b[0m\n\u001b[1;32m      5\u001b[0m     \u001b[38;5;28;01mreturn\u001b[39;00m \u001b[38;5;241m1\u001b[39m, \u001b[38;5;241m0\u001b[39m\n\u001b[1;32m      6\u001b[0m \u001b[38;5;28;01melse\u001b[39;00m:  \u001b[38;5;66;03m# caso inductivo\u001b[39;00m\n\u001b[0;32m----> 7\u001b[0m     fibnm1, fibnm2 \u001b[38;5;241m=\u001b[39m \u001b[43mfibonacci_mejor\u001b[49m\u001b[43m(\u001b[49m\u001b[43mn\u001b[49m\u001b[43m \u001b[49m\u001b[38;5;241;43m-\u001b[39;49m\u001b[43m \u001b[49m\u001b[38;5;241;43m1\u001b[39;49m\u001b[43m)\u001b[49m\n\u001b[1;32m      8\u001b[0m     \u001b[38;5;66;03m# La función recursiva devuelve también el anterior\u001b[39;00m\n\u001b[1;32m      9\u001b[0m     \u001b[38;5;28;01mreturn\u001b[39;00m fibnm1 \u001b[38;5;241m+\u001b[39m fibnm2, fibnm1\n",
      "\u001b[0;31mRecursionError\u001b[0m: maximum recursion depth exceeded"
     ]
    }
   ],
   "source": [
    "fibonacci_mejor(3001)"
   ]
  },
  {
   "cell_type": "code",
   "execution_count": 19,
   "id": "455eeb22-f662-4fbe-90ff-3f7ee8bfe6ef",
   "metadata": {
    "tags": []
   },
   "outputs": [
    {
     "data": {
      "text/plain": [
       "98001"
      ]
     },
     "execution_count": 19,
     "metadata": {},
     "output_type": "execute_result"
    }
   ],
   "source": [
    "fibonacci_iter(3001) % 100000"
   ]
  },
  {
   "cell_type": "markdown",
   "id": "1a1e5689-ca20-4d73-b4e9-146bcd043c28",
   "metadata": {},
   "source": [
    "En ocasiones puede ser necesario extender ese límite para que la llamada recursiva funcione. El límite por defecto en Python es 1.000, pero en IPython (es decir, en Jupyter y en la consola de Spyder) se sube por defecto a 3.000. Esto se puede hacer con la siguiente función."
   ]
  },
  {
   "cell_type": "code",
   "execution_count": 20,
   "id": "6c021b67-c31a-4638-825d-42b967788a7a",
   "metadata": {
    "tags": []
   },
   "outputs": [
    {
     "data": {
      "text/plain": [
       "98001"
      ]
     },
     "execution_count": 20,
     "metadata": {},
     "output_type": "execute_result"
    }
   ],
   "source": [
    "sys.setrecursionlimit(4000)\n",
    "fibonacci_mejor(3001)[0] % 100000"
   ]
  },
  {
   "cell_type": "markdown",
   "id": "45972eee-2080-43ed-aaab-5fe4a469f53e",
   "metadata": {},
   "source": [
    "## Generalización del problema"
   ]
  },
  {
   "cell_type": "markdown",
   "id": "c57e836b-984e-4fb0-9217-389ba6f88f27",
   "metadata": {
    "tags": []
   },
   "source": [
    "La búsqueda binaria del ejemplo anterior es innecesariamente ineficiente, pues las búsquedas recursivas se hacen sobre una copia parcial `v[mitad:]` o `v[:mitad]` de la lista original. Estas copias se pueden evitar generalizando el problema de «buscar `elem` en `v`» (`busca_binaria(v, elem)`) a «buscar `elem` en `v`entre las posiciones `m` y `n`» (`busca_binaria(v, elem, m, n)`)."
   ]
  },
  {
   "cell_type": "code",
   "execution_count": 21,
   "id": "8f56c01e-5a91-47fc-96b7-1872c609b9ea",
   "metadata": {
    "tags": []
   },
   "outputs": [],
   "source": [
    "def busca_binaria2_aux(v: list, elem, m: int, n: int) -> tuple[bool, int]:\n",
    "    \"\"\"Busca elem en v entre m y n\"\"\"\n",
    "    \n",
    "    # Lista vacía\n",
    "    if n <= m:\n",
    "        return False, n\n",
    "    \n",
    "    # Comprueba el elemento en la mitad de la lista\n",
    "    mitad = (m + n) // 2\n",
    "    \n",
    "    if v[mitad] == elem:\n",
    "        return True, mitad\n",
    "    \n",
    "    elif elem < v[mitad]:\n",
    "        return busca_binaria2_aux(v, elem, m, mitad)\n",
    "    \n",
    "    else:\n",
    "        return busca_binaria2_aux(v, elem, mitad, n)\n",
    "\n",
    "def busca_binaria2(v: list, elem) -> tuple[bool, int]:  # llamada inicial\n",
    "    \"\"\"Busca elem en v entre m y n\"\"\"\n",
    "    return busca_binaria2_aux(v, elem, 0, len(v))  # fija los valores iniciales"
   ]
  },
  {
   "cell_type": "code",
   "execution_count": 22,
   "id": "b9e43c92-7951-4b92-9d07-223265957e74",
   "metadata": {},
   "outputs": [
    {
     "data": {
      "text/plain": [
       "(True, 1)"
      ]
     },
     "execution_count": 22,
     "metadata": {},
     "output_type": "execute_result"
    }
   ],
   "source": [
    "busca_binaria2([1, 3, 7, 9], 3)"
   ]
  },
  {
   "cell_type": "code",
   "execution_count": 23,
   "id": "4695208d-9cc3-400f-b831-46b36e696f18",
   "metadata": {},
   "outputs": [
    {
     "name": "stdout",
     "output_type": "stream",
     "text": [
      "14.5 µs ± 347 ns per loop (mean ± std. dev. of 7 runs, 100,000 loops each)\n"
     ]
    }
   ],
   "source": [
    "%timeit busca_binaria(list(range(0, 1000)), 501)"
   ]
  },
  {
   "cell_type": "code",
   "execution_count": 24,
   "id": "aaef032e-8bbf-4471-a35c-7a7359c57d8a",
   "metadata": {},
   "outputs": [
    {
     "name": "stdout",
     "output_type": "stream",
     "text": [
      "12.4 µs ± 521 ns per loop (mean ± std. dev. of 7 runs, 100,000 loops each)\n"
     ]
    }
   ],
   "source": [
    "%timeit busca_binaria2(list(range(0, 1000)), 501)"
   ]
  },
  {
   "cell_type": "markdown",
   "id": "1d831957-0070-4806-acea-d800e0108168",
   "metadata": {},
   "source": [
    "La generalización de los parámetros de una función recursiva puede resultar conveniente e incluso imprescindible en diversas situaciones."
   ]
  },
  {
   "cell_type": "markdown",
   "id": "74a4b5b4-0a59-4a65-b493-a0dbc3e3a00a",
   "metadata": {},
   "source": [
    "## [Extra] Memorización para evitar cálculos repetidos\n",
    "\n",
    "Cuando se hacen múltiples llamadas recursivas, como en la función `fibonacci` del ejemplo 1 bis, es posible que sus subproblemas no sean completamente disjuntos y se repitan cálculos. Veamos que esa repetición puede ser considerable con el siguiente ejemplo.\n",
    "\n",
    "<noindent/>**Ejemplo 4 (números combinatorios):** el número combinatorio o coeficiente binomial $C^m_n$ representa el número de subconjuntos distintos de tamaño $k$ en un conjunto de tamaño $n$. Sabemos que $C^m_0 = C^m_m = 1$ y que $C^m_n = C^{m-1}_n + C^{m-1}_{n-1}$ en otro caso. Esta recurrencia se puede programar fácilmente como una función recursiva."
   ]
  },
  {
   "cell_type": "code",
   "execution_count": 25,
   "id": "21ba1338-e4b9-4c3e-9080-98671346baa7",
   "metadata": {
    "tags": []
   },
   "outputs": [],
   "source": [
    "veces = {}  # veces que se llama a la función con cada argumento\n",
    "\n",
    "def comb(m, n):\n",
    "    \"\"\"Número combinatorio m sobre n\"\"\"\n",
    "    \n",
    "    # Cuenta las veces que se llama\n",
    "    veces[(m, n)] = veces.get((m, n), 0) + 1\n",
    "    \n",
    "    if n == 0 or n == m:  # caso base\n",
    "        return 1\n",
    "    else:  # caso recursivo\n",
    "        return comb(m - 1, n) + comb(m - 1, n - 1)"
   ]
  },
  {
   "cell_type": "markdown",
   "id": "d9bdb45e-a37d-486a-a1ad-f33d29788631",
   "metadata": {},
   "source": [
    "Con ayuda del diccionario `veces`, vamos a contar cuántas veces se llama a la función `comb` con cada posible par de argumentos. "
   ]
  },
  {
   "cell_type": "code",
   "execution_count": 26,
   "id": "c1de4033-649c-4b3a-8996-d8121ed1ebfa",
   "metadata": {
    "tags": []
   },
   "outputs": [
    {
     "data": {
      "text/plain": [
       "9657700"
      ]
     },
     "execution_count": 26,
     "metadata": {},
     "output_type": "execute_result"
    }
   ],
   "source": [
    "comb(26, 14)"
   ]
  },
  {
   "cell_type": "markdown",
   "id": "88b7d5f8-3de7-497d-a445-69a7422b30dc",
   "metadata": {},
   "source": [
    "En el diccionario ahora podemos ver que muchas llamadas se repiten muchas veces, incluso más de un millón para unos números relativamente pequeños."
   ]
  },
  {
   "cell_type": "code",
   "execution_count": 27,
   "id": "24c2d092-a155-43c8-b894-05635db36ba8",
   "metadata": {
    "tags": []
   },
   "outputs": [
    {
     "data": {
      "text/plain": [
       "{(3, 2): 1352078,\n",
       " (2, 2): 1352078,\n",
       " (2, 1): 2496144,\n",
       " (1, 1): 2496144,\n",
       " (1, 0): 2496144,\n",
       " (3, 1): 1144066,\n",
       " (2, 0): 1144066}"
      ]
     },
     "execution_count": 27,
     "metadata": {},
     "output_type": "execute_result"
    }
   ],
   "source": [
    "{args: cuenta for args, cuenta in veces.items() if cuenta > 1e6}"
   ]
  },
  {
   "cell_type": "markdown",
   "id": "83291824-21fd-4b5b-b0ff-674524219970",
   "metadata": {},
   "source": [
    "Obviamente, eso hace que cálculo se haga extraordinariamente lento."
   ]
  },
  {
   "cell_type": "code",
   "execution_count": 28,
   "id": "0fbc7d87-3c83-499b-beaa-ddaa04caa91d",
   "metadata": {
    "tags": []
   },
   "outputs": [],
   "source": [
    "def comb(m, n):\n",
    "    \"\"\"Número combinatorio m sobre n\"\"\"  # lo mismo sin usar veces\n",
    "    \n",
    "    if n == 0 or n == m:  # caso base\n",
    "        return 1\n",
    "    else:  # caso recursivo\n",
    "        return comb(m - 1, n) + comb(m - 1, n - 1)"
   ]
  },
  {
   "cell_type": "code",
   "execution_count": 29,
   "id": "54da5c88-7920-4b89-9236-94c4588e4012",
   "metadata": {
    "tags": []
   },
   "outputs": [
    {
     "name": "stdout",
     "output_type": "stream",
     "text": [
      "2.02 s ± 27 ms per loop (mean ± std. dev. of 7 runs, 1 loop each)\n"
     ]
    }
   ],
   "source": [
    "%timeit comb(26, 14)"
   ]
  },
  {
   "cell_type": "markdown",
   "id": "413a7ed2-f0ec-41f8-b538-1c08702ffcce",
   "metadata": {},
   "source": [
    "Es posible evitar cálculos repetidos a costa de la memoria. Igual que hemos usado el diccionario para contar el número de llamadas por cada argumento, podemos utilizarlo para guardar el resultado de la función para cada entrada y así reutilizarlo en futuras llamadas reincidentes sin repetir los cálculos."
   ]
  },
  {
   "cell_type": "code",
   "execution_count": 30,
   "id": "502949e5-c608-4cba-a280-980e764ce5f5",
   "metadata": {
    "tags": []
   },
   "outputs": [],
   "source": [
    "resultados = {}\n",
    "\n",
    "def comb(m, n):\n",
    "    \"\"\"Número combinatorio m sobre n\"\"\"\n",
    "    \n",
    "    if n == 0 or n == m:  # caso base (no hace falta memorizarlo)\n",
    "        return 1\n",
    "    else:  # caso recursivo\n",
    "        if (m, n) in resultados:  # si ya está calculado\n",
    "            comb_mn = resultados[(m, n)]\n",
    "        else:\n",
    "            comb_mn = comb(m - 1, n) + comb(m - 1, n - 1)  # lo calculamos por primera vez\n",
    "            resultados[(m, n)] = comb_mn  # lo guardamos para la próxima\n",
    "\n",
    "        return comb_mn"
   ]
  },
  {
   "cell_type": "markdown",
   "id": "0097e9f1-8f7d-4ee9-8c48-b4930bbc88aa",
   "metadata": {},
   "source": [
    "En el caso recursivo (podríamos haberlo hecho también para los casos base) se comprueba si $C^m_n$ ya se había calculado y se hacen las llamadas recursivas solo si no es así. Usando `%timeit` podemos comprobar que el cálculo ahora es mucho más rápido."
   ]
  },
  {
   "cell_type": "code",
   "execution_count": 31,
   "id": "d603301e-9bdc-46ce-b547-d2729082fe92",
   "metadata": {
    "tags": []
   },
   "outputs": [
    {
     "name": "stdout",
     "output_type": "stream",
     "text": [
      "79.7 µs ± 1.03 µs per loop (mean ± std. dev. of 7 runs, 10,000 loops each)\n"
     ]
    }
   ],
   "source": [
    "%%timeit\n",
    "resultados.clear()  # borramos el diccionario\n",
    "comb(26, 14)"
   ]
  },
  {
   "cell_type": "markdown",
   "id": "42d61661-dc93-4ba9-a143-ab004aaa0fcf",
   "metadata": {},
   "source": [
    "Hemos usado la variante `%%timeit` (con dos porcentajes) para poder limpiar el diccionario con `resultados.clear()` entre cada dos ejecuciones que realiza este comando para medir los tiempos. En otro caso, tras la primera llamada a `comb(26, 14)`, el resto serían meras consultas al diccionario ya poblado en la anterior ejecución."
   ]
  },
  {
   "cell_type": "code",
   "execution_count": 32,
   "id": "a330971e-5a6c-488e-8000-313d83f41036",
   "metadata": {
    "tags": []
   },
   "outputs": [
    {
     "name": "stdout",
     "output_type": "stream",
     "text": [
      "219 ns ± 1.28 ns per loop (mean ± std. dev. of 7 runs, 1,000,000 loops each)\n"
     ]
    }
   ],
   "source": [
    "%timeit comb(26, 14)  # va aún más rápido, solo consulta el diccionario"
   ]
  },
  {
   "cell_type": "markdown",
   "id": "4719b4e4-0e02-48e0-952c-d291d7e62535",
   "metadata": {},
   "source": [
    "Esta ganancia en velocidad se consigue a costa de dedicar memoria a almacenar los resultados de los cálculos intermedios, pero en muchas ocasiones merece la pena."
   ]
  },
  {
   "cell_type": "code",
   "execution_count": 33,
   "id": "195d5167-b891-48ec-8cc1-863eac5d7aed",
   "metadata": {
    "tags": []
   },
   "outputs": [
    {
     "data": {
      "text/plain": [
       "168"
      ]
     },
     "execution_count": 33,
     "metadata": {},
     "output_type": "execute_result"
    }
   ],
   "source": [
    "len(resultados)  # hay 168 entradas en el diccionario"
   ]
  },
  {
   "cell_type": "markdown",
   "id": "1c646aa1-ae11-4fba-b727-1a1a0cbff3ea",
   "metadata": {},
   "source": [
    "La recursión con almacenamiento de los resultados intermedios cuando hay solapamiento forma parte de una técnica algorítmica muy utilizada conocida como *programación dinámica*. Como alternativa a guardar todos esos resultados intermedios, también se consideran otras formas de abordar el problema para evitar que esto sea necesario o reducir la cantidad de información que hay que almacenar, como hicimos con `fibonacci_mejor`.\n",
    "\n",
    "En Python no es necesario añadir el diccionario manualmente a nuestras funciones si queremos memorizar los resultados, porque cuenta con un decorador `cache`  en el paquete `functools` que hace esa transformación por nosotros."
   ]
  },
  {
   "cell_type": "code",
   "execution_count": 34,
   "id": "28af2bf5-087f-44bb-aa85-41b9e788b0b5",
   "metadata": {
    "tags": []
   },
   "outputs": [],
   "source": [
    "from functools import cache"
   ]
  },
  {
   "cell_type": "markdown",
   "id": "8116693d-acf5-4f65-a391-3501023bdad6",
   "metadata": {},
   "source": [
    "Por ejemplo, la función `fibonacci` del ejemplo 1 bis se puede *decorar* con `@cache` para que memorice sus resultados intermedios. Los decoradores (como el `@staticmethod` que vimos en el tema anterior) se escriben sobre la definición de una función para transformarla según interese."
   ]
  },
  {
   "cell_type": "code",
   "execution_count": 35,
   "id": "0b8509a9-077b-4916-963f-895e7da6d2c0",
   "metadata": {
    "tags": []
   },
   "outputs": [],
   "source": [
    "@cache\n",
    "def fibonacci(n: int) -> int:\n",
    "    if n == 0 or n == 1:  # caso base\n",
    "        return n\n",
    "    else:  # caso inductivo\n",
    "        return fibonacci(n - 1) + fibonacci(n - 2)"
   ]
  },
  {
   "cell_type": "markdown",
   "id": "50f18796-77f7-4cde-824e-ec0b1d6edb31",
   "metadata": {},
   "source": [
    "Como hicimos con `comb`, para medir el tiempo de forma justa, hemos de borrar el diccionario entre cada par de ejecuciones. En este caso utilizamos el método `cache_clear` de la función decorada."
   ]
  },
  {
   "cell_type": "code",
   "execution_count": 36,
   "id": "2f44de82-6bee-4051-a286-2b17982bb038",
   "metadata": {
    "tags": []
   },
   "outputs": [
    {
     "name": "stdout",
     "output_type": "stream",
     "text": [
      "7.28 µs ± 120 ns per loop (mean ± std. dev. of 7 runs, 100,000 loops each)\n"
     ]
    }
   ],
   "source": [
    "%%timeit\n",
    "fibonacci.cache_clear()  # limpia la cache de la ejecución anterior\n",
    "fibonacci(30)"
   ]
  },
  {
   "cell_type": "markdown",
   "id": "f30eb20f-e9f9-4dd0-99fd-8f271acccd41",
   "metadata": {},
   "source": [
    "Esta versión de `fibonacci` es bastante más rápida que la anterior (la misma sin `@cache`), pero no es significativamente más rápida o más lenta que `fibonacci_mejor` y es más lenta que la versión iterativa. La función decorada también tiene un método `cache_info` que informa de cuántas veces ha sido útil el diccionario, su tamaño actual, etc."
   ]
  },
  {
   "cell_type": "code",
   "execution_count": 37,
   "id": "e788c7f1-d158-48ca-8c58-88239739a78c",
   "metadata": {
    "tags": []
   },
   "outputs": [
    {
     "data": {
      "text/plain": [
       "CacheInfo(hits=28, misses=31, maxsize=None, currsize=31)"
      ]
     },
     "execution_count": 37,
     "metadata": {},
     "output_type": "execute_result"
    }
   ],
   "source": [
    "fibonacci.cache_info()"
   ]
  },
  {
   "cell_type": "markdown",
   "id": "25b7270e-a77c-4ef4-906e-8c664c2a6d39",
   "metadata": {},
   "source": [
    "## [Extra] Razonar sobre los algoritmos\n",
    "\n",
    "El mayor nivel de abstracción de los algoritmos recursivos facilita razonar sobre ellos, especialmente por inducción. Por ejemplo, mirando la definición de la función `fibonacci` del ejemplo 1 bis, es fácil deducir que el número de sumas $s_n$ que se ejecutan al evaluar `fibonacci(n)` es $s_0 = 0$, $s_1 = 0$ y $s_n = 1 + s_{n-1} + s_{n-2}$. A partir de esta recurrencia, podemos probar que el número de sumas que se ejecutan es exponencial.\n",
    "\n",
    "<noindent/>**Ejemplo 4 (proposición):** *el número de sumas que ejecuta `fibonacci(n)` es mayor o igual que $\\varphi^{n - 2}$ para todo $n \\geq 2$, donde $\\varphi = (1 + \\sqrt{5})/2$ es el número áureo.*\n",
    "\n",
    "En definitiva, hay que probar que $s_n \\geq \\varphi^{n-2}$ para todo $n \\geq 2$. Los casos base son $n = 2$ y $n = 3$ (la propiedad no es cierta para $n$ menor).\n",
    "\n",
    "* Si $n = 2$, $c_2 = 1$ y $\\varphi^{2-2} = \\varphi^0 = 1$, luego $1 \\geq 1$.\n",
    "* Si $n = 3$, $c_3 = 2$ y $\\varphi^{3-2} = \\varphi \\geq 1,618$, luego $2 \\geq \\varphi$.\n",
    "* Si $n \\geq 4$, $$s_n = 1 + s_{n-1} + s_{n-2} \\geq s_{n-1} + s_{n-2} \\geq_{(HI)} \\varphi^{n-3} + \\varphi^{n-4} = \\varphi^{n-4}(\\varphi + 1) = \\varphi^{n-4} \\cdot \\varphi^2 = \\varphi^{n-2}$$\n",
    "donde $\\varphi + 1 = \\varphi^2$ se puede comprobar fácilmente. Entonces $s_n \\geq \\varphi^{n-2}$ como queríamos.\n",
    "\n",
    "La cota es demasiado burda, vale incluso para la sucesión de Fibonacci, pero es suficiente para ver que el número de sumas crece exponencialmente. Por curiosidad, una fórmula exacta es $s_n = ( \\varphi^{n+1} - (1 - \\varphi)^{n+1} - \\sqrt{5}) / \\sqrt{5}$."
   ]
  },
  {
   "cell_type": "markdown",
   "id": "061bdfed-8dc8-4ad6-99d5-cdedf3506d99",
   "metadata": {
    "notoc": true,
    "pretex": "\\small",
    "tags": []
   },
   "source": [
    "## Referencias\n",
    "\n",
    "* §6 «Recursion» del [libro de Guttag](https://ucm.on.worldcat.org/oclc/1347116367) (§4.3 en la [edición de 2013](https://ucm.on.worldcat.org/oclc/1025935018))."
   ]
  }
 ],
 "metadata": {
  "authors": [
   {
    "name": "Rubén Rubio"
   }
  ],
  "kernelspec": {
   "display_name": "Python 3 (ipykernel)",
   "language": "python",
   "name": "python3"
  },
  "language_info": {
   "codemirror_mode": {
    "name": "ipython",
    "version": 3
   },
   "file_extension": ".py",
   "mimetype": "text/x-python",
   "name": "python",
   "nbconvert_exporter": "python",
   "pygments_lexer": "ipython3",
   "version": "3.11.3"
  }
 },
 "nbformat": 4,
 "nbformat_minor": 5
}
