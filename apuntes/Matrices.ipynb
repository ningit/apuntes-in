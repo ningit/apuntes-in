{
 "cells": [
  {
   "cell_type": "markdown",
   "id": "230a921f-8fca-4a27-83cd-dd5c87be469e",
   "metadata": {
    "tags": []
   },
   "source": [
    "# Más sobre listas y matrices\n",
    "\n",
    "En el primer cuatrimestre se han visto distintas estructuras de datos como booleanos, enteros, reales (números en coma flotante), cadenas de texto, tuplas y listas. De todos ellos, las listas tienen una característica particular, que son *mutables*."
   ]
  },
  {
   "cell_type": "markdown",
   "id": "e7e9ae04-2814-4016-b112-39a7d60fa38e",
   "metadata": {},
   "source": [
    "## Mutabilidad\n",
    "\n",
    "En Python, la relación entre nombres y objetos que designan no es necesariamente inyectiva, como en la vida misma. Por ejemplo, las frases «Pedro Almodóvar», «el director de *Todo sobre mi madre*» y «el ganador del Óscar a mejor película de habla no inglesa en 1999» designan a la misma persona. Con objetos inmutables esto no es problemático, porque el referente nunca cambia de valor, pero es posible cometer errores si no se tiene suficiente cuidado cuando hay mutabilidad."
   ]
  },
  {
   "cell_type": "code",
   "execution_count": 1,
   "id": "4cf7dfb0-5e6b-4780-bc2b-5318df307bcf",
   "metadata": {},
   "outputs": [],
   "source": [
    "mi_lista = [[1, 2], 3]\n",
    "mi_otra_lista = mi_lista"
   ]
  },
  {
   "cell_type": "code",
   "execution_count": 2,
   "id": "5c8f4ef1-6d63-46b4-b64b-3912b080b5f9",
   "metadata": {},
   "outputs": [
    {
     "data": {
      "text/plain": [
       "[[1, 2], 4]"
      ]
     },
     "execution_count": 2,
     "metadata": {},
     "output_type": "execute_result"
    }
   ],
   "source": [
    "mi_otra_lista[1] = 4\n",
    "mi_lista"
   ]
  },
  {
   "cell_type": "markdown",
   "id": "67173bf1-3e0f-4c61-9e79-0c6601c82047",
   "metadata": {
    "tags": []
   },
   "source": [
    "Tanto `mi_lista` como `mi_otra_lista` apuntan al mismo objeto en memoria. Esto se puede comprobar con la función `id` que devuelve un identificador único (típicamente su ubicación en la memoria del ordenador) para cada objeto."
   ]
  },
  {
   "cell_type": "code",
   "execution_count": 3,
   "id": "756fa6af-2cb1-4b05-b044-85545fc4f95a",
   "metadata": {},
   "outputs": [
    {
     "data": {
      "text/plain": [
       "(139818655106368, 139818655106368)"
      ]
     },
     "execution_count": 3,
     "metadata": {},
     "output_type": "execute_result"
    }
   ],
   "source": [
    "id(mi_lista), id(mi_otra_lista)"
   ]
  },
  {
   "cell_type": "markdown",
   "id": "e2ae96f6-0796-4658-90e8-9becf9b4d997",
   "metadata": {},
   "source": [
    "Si verdaderamente queremos que `mi_otra_lista` sea otra lista independiente, hemos de copiar explícitamente el objeto."
   ]
  },
  {
   "cell_type": "code",
   "execution_count": 4,
   "id": "fd74e149-72e8-42ed-be53-6edf4df4ee94",
   "metadata": {},
   "outputs": [
    {
     "data": {
      "text/plain": [
       "(139818655106368, 139818655112384)"
      ]
     },
     "execution_count": 4,
     "metadata": {},
     "output_type": "execute_result"
    }
   ],
   "source": [
    "mi_otra_lista = mi_lista.copy()  # o mi_lista[:]\n",
    "id(mi_lista), id(mi_otra_lista)"
   ]
  },
  {
   "cell_type": "code",
   "execution_count": 5,
   "id": "4c4c4ced-ab70-45fb-a77f-307e5a2d5a35",
   "metadata": {},
   "outputs": [
    {
     "data": {
      "text/plain": [
       "[[1, 2], 4]"
      ]
     },
     "execution_count": 5,
     "metadata": {},
     "output_type": "execute_result"
    }
   ],
   "source": [
    "mi_otra_lista.append(5)\n",
    "mi_lista"
   ]
  },
  {
   "cell_type": "markdown",
   "id": "6ba4dab2-397f-440f-8393-7b9fca398857",
   "metadata": {},
   "source": [
    "Sin embargo, esto no es suficiente en presencia de objetos mutables anidados, como en este caso. La copia de `mi_lista.copy()` es superficial y no copia a su vez los elementos de la lista."
   ]
  },
  {
   "cell_type": "code",
   "execution_count": 6,
   "id": "e8d16bce-1676-4eaf-bef3-08f8935e9816",
   "metadata": {},
   "outputs": [
    {
     "data": {
      "text/plain": [
       "[[1, 2, 3], 4]"
      ]
     },
     "execution_count": 6,
     "metadata": {},
     "output_type": "execute_result"
    }
   ],
   "source": [
    "mi_otra_lista[0].append(3)\n",
    "mi_lista"
   ]
  },
  {
   "cell_type": "markdown",
   "id": "8a3b0a38-1c64-47a3-bb3e-198e225360bd",
   "metadata": {},
   "source": [
    "Cuando sea necesario, para hacer copias profundas de los objetos, podemos utilizar la función `deepcopy` del paquete estándar `copy` de Python."
   ]
  },
  {
   "cell_type": "code",
   "execution_count": 7,
   "id": "e2cba9ca-7726-49e7-930b-fa8a91899a2a",
   "metadata": {},
   "outputs": [
    {
     "data": {
      "text/plain": [
       "[[1, 2], 3]"
      ]
     },
     "execution_count": 7,
     "metadata": {},
     "output_type": "execute_result"
    }
   ],
   "source": [
    "import copy\n",
    "\n",
    "mi_lista = [[1, 2], 3]\n",
    "mi_otra_lista = copy.deepcopy(mi_lista)\n",
    "mi_otra_lista[0].append(4)\n",
    "\n",
    "mi_lista"
   ]
  },
  {
   "cell_type": "code",
   "execution_count": 8,
   "id": "486857be-1a6d-47b4-b5a6-2002d1d8c748",
   "metadata": {},
   "outputs": [
    {
     "data": {
      "text/plain": [
       "(139818655105216, 139818655114176)"
      ]
     },
     "execution_count": 8,
     "metadata": {},
     "output_type": "execute_result"
    }
   ],
   "source": [
    "id(mi_lista[0]), id(mi_otra_lista[0])"
   ]
  },
  {
   "cell_type": "code",
   "execution_count": 9,
   "id": "34d21884-67ab-44f7-a0e8-3b2305b012b7",
   "metadata": {},
   "outputs": [
    {
     "data": {
      "text/plain": [
       "True"
      ]
     },
     "execution_count": 9,
     "metadata": {},
     "output_type": "execute_result"
    }
   ],
   "source": [
    "id(mi_lista[1]) == id(mi_otra_lista[1])  # los literales no los copia porque son inmutables (curiosidad)"
   ]
  },
  {
   "cell_type": "markdown",
   "id": "95fe50ff-3d38-4aba-9845-dcdfd213412c",
   "metadata": {},
   "source": [
    "En este cuatrimestre veremos más objetos mutables además de las listas."
   ]
  },
  {
   "cell_type": "markdown",
   "id": "0e758991-43ac-4055-893a-6ad1527b7d50",
   "metadata": {
    "tags": []
   },
   "source": [
    "## Listas intensionales"
   ]
  },
  {
   "cell_type": "markdown",
   "id": "811878f9-eb27-41e1-9e0f-5ad37c0c00b3",
   "metadata": {},
   "source": [
    "En matemáticas es muy frecuente definir conjuntos de forma *intensional* o *por compresión*, es decir, proporcionando una fórmula que describe o genera sus elementos. Por ejemplo, los números naturales entre 0 y 100 como $\\{ n \\in \\mathbb{N} : 0 \\leq n \\leq 100 \\}$ o el grafo de una parábola como $\\{(x, x^2) : x \\in \\mathbb{R} \\}$.\n",
    "\n",
    "Python dispone de una notación específica `[expresión for variable in valores]` para definir así listas y otros tipos de datos básicos. La expresión anterior es equivalente a `lista` tras esta operación\n",
    "```python\n",
    "lista = []\n",
    "\n",
    "for variable in valores:\n",
    "    lista.append(expresión)\n",
    "```\n",
    "pero en forma más breve y concisa. Esta construcción es *azúcar sintáctico*, no permite hacer nada nuevo, solo hacerlo más cómodamente."
   ]
  },
  {
   "cell_type": "code",
   "execution_count": 10,
   "id": "de321e3d-751b-4563-bf39-f39135082fa2",
   "metadata": {},
   "outputs": [
    {
     "data": {
      "text/plain": [
       "[(-3, 9), (-2, 4), (-1, 1), (0, 0), (1, 1), (2, 4), (3, 9)]"
      ]
     },
     "execution_count": 10,
     "metadata": {},
     "output_type": "execute_result"
    }
   ],
   "source": [
    "[(x, x ** 2) for x in range(-3, 4)]  # parábola anterior entre -3 y 3"
   ]
  },
  {
   "cell_type": "markdown",
   "id": "cb179e84-27e5-4c30-ac1b-a00444f44386",
   "metadata": {},
   "source": [
    "La definición intensional también puede incluir una condición."
   ]
  },
  {
   "cell_type": "code",
   "execution_count": 11,
   "id": "37a3fef5-bded-471c-9358-7014ab0eb40b",
   "metadata": {},
   "outputs": [
    {
     "data": {
      "text/plain": [
       "[0, 3, 6, 9]"
      ]
     },
     "execution_count": 11,
     "metadata": {},
     "output_type": "execute_result"
    }
   ],
   "source": [
    "[x for x in range(12) if x % 3 == 0]  # múltiplos de 3 menores que 12"
   ]
  },
  {
   "cell_type": "markdown",
   "id": "01c10ea5-0e5f-43d4-93d6-abc7f9bf8002",
   "metadata": {},
   "source": [
    "Incluso es posible recorrer varias variables. La lista siguiente describe el conjunto $\\{(x, y) \\in \\mathbb{Z}^2 : 1 \\leq x \\leq 3 \\wedge 0 \\leq y < x  \\}$."
   ]
  },
  {
   "cell_type": "code",
   "execution_count": 12,
   "id": "ae2c4651-2ed2-410e-ba32-3559cb58ae2f",
   "metadata": {},
   "outputs": [
    {
     "data": {
      "text/plain": [
       "[(1, 0), (2, 0), (2, 1), (3, 0), (3, 1), (3, 2)]"
      ]
     },
     "execution_count": 12,
     "metadata": {},
     "output_type": "execute_result"
    }
   ],
   "source": [
    "[(x, y) for x in (1, 2, 3) for y in range(0, x)]"
   ]
  },
  {
   "cell_type": "markdown",
   "id": "aadaa5cf-0e21-4771-a947-1c44ca073ad4",
   "metadata": {},
   "source": [
    "Veremos una generalización de esto al final de este tema."
   ]
  },
  {
   "cell_type": "markdown",
   "id": "98894c05-5075-495b-8472-a9595193c117",
   "metadata": {},
   "source": [
    "## Matrices\n",
    "\n",
    "Las matrices se representan en Python simplemente como listas de listas. Por ejemplo, la matriz\n",
    "\n",
    "$$A = \\begin{pmatrix} 1 & 2 & 3 \\\\ 4 & 5 & 6 \\\\ 7 & 8 & 9 \\end{pmatrix}$$\n",
    "\n",
    "se representa por columnas como"
   ]
  },
  {
   "cell_type": "code",
   "execution_count": 13,
   "id": "ced48d10-60ed-4a89-a98c-f909daeebb81",
   "metadata": {},
   "outputs": [],
   "source": [
    "A = [[1, 2, 3],\n",
    "     [4, 5, 6],\n",
    "     [7, 8, 9]]"
   ]
  },
  {
   "cell_type": "markdown",
   "id": "62fb6492-5944-4c55-b084-ad3a2b9aa74c",
   "metadata": {},
   "source": [
    "La ventaja de esta representación es que `A[i][j]` permite obtener el elemento $a_{ij}$ en la notación habitual del álgebra lineal. La mayor parte de programas de álgebra matricial (por ejemplo, Matlab, que veréis seguramente en la asignatura Métodos Numéricos) utilizan este convenio de índices, al margen de que la representación interna sea distinta.\n",
    "\n",
    "Por supuesto, no hay problema en representar las matrices como listas de columnas o incluso como listas planas acompañadas de información sobre su orden."
   ]
  },
  {
   "cell_type": "code",
   "execution_count": 14,
   "id": "2287952b-d3cc-49c9-8bac-f7397d9042c7",
   "metadata": {},
   "outputs": [
    {
     "data": {
      "text/plain": [
       "6"
      ]
     },
     "execution_count": 14,
     "metadata": {},
     "output_type": "execute_result"
    }
   ],
   "source": [
    "B = ([1, 2, 3, 4, 5, 6, 7, 8, 9], 3) # 3 columnas\n",
    "B[0][1 * B[1] + 2]  # b_12 -- B[1] es el número de columnas (que hay que saltar)"
   ]
  },
  {
   "cell_type": "markdown",
   "id": "5384e6bb-a4d1-49a3-aec6-d334b0d26a52",
   "metadata": {},
   "source": [
    "Se puede ver `B` como una matriz simplemente cambiando de fila mentalmente cada 3 elementos. Esta representación hace un uso más eficiente de la memoria y es la habitualmente utilizada internamente por los sistemas de álgebra matricial. Es el caso de [NumPy](https://numpy.org/), una célebre biblioteca para trabajar de forma eficiente con matrices en Python, que no usaremos en este curso."
   ]
  },
  {
   "cell_type": "markdown",
   "id": "1cd742e6-c4d6-4cca-8804-80e259f243be",
   "metadata": {},
   "source": [
    "Con la representación que utilizaremos en la asignatura, el orden de una matriz (es decir, su número de filas y columnas) se puede calcular así:"
   ]
  },
  {
   "cell_type": "code",
   "execution_count": 15,
   "id": "998135a0-a670-4f05-8368-52bfee10da59",
   "metadata": {},
   "outputs": [],
   "source": [
    "def orden(A):\n",
    "    \"\"\"Orden de una matriz\"\"\"\n",
    "    return len(A), len(A[0])"
   ]
  },
  {
   "cell_type": "markdown",
   "id": "ba977400-290b-4cf7-988e-fb8a1cc479c5",
   "metadata": {},
   "source": [
    "**Ejemplo 1 (suma de matrices):** podemos programar fácilmente la suma de matrices construyendo la matriz suma $s_{ij} = a_{ij} + b_{ij}$ de arriba a bajo y de izquierda a derecha:"
   ]
  },
  {
   "cell_type": "code",
   "execution_count": 16,
   "id": "5ea9a6a3-8c43-4450-8269-e86d3455e561",
   "metadata": {},
   "outputs": [],
   "source": [
    "def suma_matrices(A, B):\n",
    "    if orden(A) != orden(B):\n",
    "        return None  # error, no se puede hacer la suma\n",
    "    \n",
    "    alto, ancho = orden(A)\n",
    "    suma = []  # futura matriz donde iremos añadiendo filas\n",
    "    \n",
    "    for i in range(alto):\n",
    "        fila = []  # futura fila i de la suma\n",
    "\n",
    "        for j in range(ancho):\n",
    "            fila.append(A[i][j] + B[i][j])  # s_ij\n",
    "\n",
    "        suma.append(fila)\n",
    "    \n",
    "    return suma"
   ]
  },
  {
   "cell_type": "code",
   "execution_count": 17,
   "id": "f2f13dc2-e48f-49e6-acf7-2f5e1b910b31",
   "metadata": {},
   "outputs": [
    {
     "data": {
      "text/plain": [
       "[[2, 4, 6], [8, 10, 12], [14, 16, 18]]"
      ]
     },
     "execution_count": 17,
     "metadata": {},
     "output_type": "execute_result"
    }
   ],
   "source": [
    "suma_matrices(A, A)"
   ]
  },
  {
   "cell_type": "markdown",
   "id": "3d3793ba-3cbe-4c70-9137-5ad780180ac3",
   "metadata": {},
   "source": [
    "Pero también podemos programar la suma de forma más compacta usando las listas intensionales que acabamos de ver."
   ]
  },
  {
   "cell_type": "code",
   "execution_count": 18,
   "id": "0337e8ff-c9b7-4193-a6aa-474e7784a18f",
   "metadata": {},
   "outputs": [],
   "source": [
    "def suma_matrices2(A, B):\n",
    "    if orden(A) != orden(B):\n",
    "        return None  # error, no se puede hacer la suma\n",
    "    \n",
    "    ancho, alto = orden(A)\n",
    "    return [[A[i][j] + B[i][j] for j in range(ancho)] for i in range(alto)]"
   ]
  },
  {
   "cell_type": "code",
   "execution_count": 19,
   "id": "fffe3275-018b-43c6-b4aa-24db5ae963eb",
   "metadata": {},
   "outputs": [
    {
     "data": {
      "text/plain": [
       "[[2, 4, 6], [8, 10, 12], [14, 16, 18]]"
      ]
     },
     "execution_count": 19,
     "metadata": {},
     "output_type": "execute_result"
    }
   ],
   "source": [
    "suma_matrices2(A, A)"
   ]
  },
  {
   "cell_type": "code",
   "execution_count": 20,
   "id": "2c742950-63b9-48e6-ba6b-701c9de82c64",
   "metadata": {},
   "outputs": [
    {
     "data": {
      "text/plain": [
       "[[2, 3, 4], [5, 6, 7], [8, 9, 10]]"
      ]
     },
     "execution_count": 20,
     "metadata": {},
     "output_type": "execute_result"
    }
   ],
   "source": [
    "suma_matrices2(A, [[1] * 3] * 3)"
   ]
  },
  {
   "cell_type": "markdown",
   "id": "b7c2133e-f144-4876-8d2c-6fb6c0a7a6c2",
   "metadata": {},
   "source": [
    "*Observación:* la matriz `[[1] * 3] * 3` no está bien definida, no permite cambiar independientemente cualquiera de sus elementos por la compartición de memoria vista al principio del tema."
   ]
  },
  {
   "cell_type": "code",
   "execution_count": 21,
   "id": "88f89aeb-39b0-4fd8-9e83-f3d00beb8f43",
   "metadata": {},
   "outputs": [
    {
     "data": {
      "text/plain": [
       "[[1, 1, 1], [1, 1, 1], [1, 1, 1]]"
      ]
     },
     "execution_count": 21,
     "metadata": {},
     "output_type": "execute_result"
    }
   ],
   "source": [
    "B = [[1] * 3] * 3  # pone tres copias seguidas de la misma fila de unos\n",
    "B"
   ]
  },
  {
   "cell_type": "code",
   "execution_count": 22,
   "id": "f04c87e2-7067-40b8-8f94-65a447bf9aa2",
   "metadata": {},
   "outputs": [
    {
     "data": {
      "text/plain": [
       "[[2, 1, 1], [2, 1, 1], [2, 1, 1]]"
      ]
     },
     "execution_count": 22,
     "metadata": {},
     "output_type": "execute_result"
    }
   ],
   "source": [
    "B[0][0] = 2  # al modificar la primera fila cambian las demás\n",
    "B"
   ]
  },
  {
   "cell_type": "markdown",
   "id": "9129741c-d751-4225-a478-ca9499aab632",
   "metadata": {},
   "source": [
    "**Ejemplo 2 (imágenes):** las imágenes son matrices de números que indican la intensidad de los distintos colores en cada posición. Ciertas operaciones sobre imágenes son simples operaciones sobre matrices como las que sabemos hacer. Lo que no sabemos es cómo pasar de un archivo de imagen a una matriz de números, pero para ello utilizaremos como una caja negra la interesante biblioteca [Matplotlib](https://matplotlib.org/)."
   ]
  },
  {
   "cell_type": "code",
   "execution_count": 23,
   "id": "d85bbffc-ebc3-4ce8-8da8-0377a0f975fa",
   "metadata": {},
   "outputs": [],
   "source": [
    "import matplotlib.pyplot as plt  # paquete para representación gráfica"
   ]
  },
  {
   "cell_type": "markdown",
   "id": "b06fe7a5-3d6d-4149-8eea-f8b9d8a67243",
   "metadata": {},
   "source": [
    "El siguiente código devuelve en `img` una matriz a partir del archivo de imagen cuya dirección hemos indicado (es una fotografía de [Alan Turing](https://es.wikipedia.org/wiki/Alan_Turing), 1912-1954, matemático inglés pionero de la informática moderna)."
   ]
  },
  {
   "cell_type": "code",
   "execution_count": 24,
   "id": "4f481d13-54d1-4095-804f-a84a90ea813e",
   "metadata": {
    "tags": []
   },
   "outputs": [],
   "source": [
    "img = plt.imread('img/turing.jpg').tolist()  # lee la imagen como una lista"
   ]
  },
  {
   "cell_type": "code",
   "execution_count": 25,
   "id": "66b7b51f-a97a-49fd-a9fc-24895bb52b18",
   "metadata": {},
   "outputs": [
    {
     "data": {
      "text/plain": [
       "(328, 340)"
      ]
     },
     "execution_count": 25,
     "metadata": {},
     "output_type": "execute_result"
    }
   ],
   "source": [
    "orden(img)  # es una imagen de este tamaño"
   ]
  },
  {
   "cell_type": "markdown",
   "id": "7bddd696-e1c9-4b95-ac69-28fc9ad97cd6",
   "metadata": {},
   "source": [
    "En las imágenes en *escala de grises*, cada píxel es un valor numérico que indica la intensidad de la luz en ese pequeño rectángulo, entre un valor mínimo 0 (negro) y un valor máximo $M$ (blanco). Si se utiliza un byte para almacenar la intensidad de cada píxel, como en la imagen que acabamos de cargar, los valores de la matriz serán números del 0 al 255 ($2^8 - 1$, 8 bits)."
   ]
  },
  {
   "cell_type": "code",
   "execution_count": 26,
   "id": "6a624427-7b15-4061-b987-33fd111f80fe",
   "metadata": {},
   "outputs": [
    {
     "data": {
      "text/plain": [
       "(0, 255)"
      ]
     },
     "execution_count": 26,
     "metadata": {},
     "output_type": "execute_result"
    }
   ],
   "source": [
    "# mínimo y máximo de todos los valores\n",
    "min([min(fila) for fila in img]), max([max(fila) for fila in img])"
   ]
  },
  {
   "cell_type": "code",
   "execution_count": 27,
   "id": "42b97193-ee30-49b5-9c16-71ccff44cbf1",
   "metadata": {},
   "outputs": [
    {
     "data": {
      "text/plain": [
       "<matplotlib.image.AxesImage at 0x7f29f198ac80>"
      ]
     },
     "execution_count": 27,
     "metadata": {},
     "output_type": "execute_result"
    },
    {
     "data": {
      "image/png": "[encoded data removed]",
      "text/plain": [
       "<Figure size 640x480 with 1 Axes>"
      ]
     },
     "metadata": {},
     "output_type": "display_data"
    }
   ],
   "source": [
    "plt.imshow(img, cmap='gray')  # muestra la imagen"
   ]
  },
  {
   "cell_type": "markdown",
   "id": "d402bfa3-3abe-4ee1-b947-c52b6e4c988a",
   "metadata": {},
   "source": [
    "Queremos pixelar la imagen para que el archivo ocupe menos memoria o para ocultar algunos detalles. Lo podemos conseguir dividiendo la imagen en cuadrantes y produciendo una matriz nueva donde el valor de cada píxel sea la media del respectivo cuadrante. Primero veamos como calcular la media, que en el caso de un vector es muy sencilla."
   ]
  },
  {
   "cell_type": "code",
   "execution_count": 28,
   "id": "121356d5-2f48-45a0-bc07-350a8158a944",
   "metadata": {},
   "outputs": [],
   "source": [
    "def media_vector(vector):\n",
    "    \"\"\"Media de un vector\"\"\"\n",
    "    \n",
    "    suma = 0\n",
    "    \n",
    "    for elem in vector:\n",
    "        suma += elem\n",
    "        \n",
    "    return suma // len(vector)"
   ]
  },
  {
   "cell_type": "markdown",
   "id": "fe8938c1-bdcc-48aa-9688-e0476c730578",
   "metadata": {},
   "source": [
    "La media de un rectángulo dentro de una matriz no es más compleja, solo hay que recorrer los elementos de ese rectángulo."
   ]
  },
  {
   "cell_type": "code",
   "execution_count": 29,
   "id": "2995d49d-a67e-4fcf-a088-d8668caeec05",
   "metadata": {},
   "outputs": [],
   "source": [
    "def media(matriz, y0, y, x0, x):\n",
    "    \"\"\"Media de la matriz en el rectángulo [x0, x) × [y0, y)\"\"\"\n",
    "    \n",
    "    suma = 0\n",
    "    \n",
    "    for i in range(y0, y):  # filas\n",
    "        for j in range(x0, x):  # columnas\n",
    "            suma += matriz[i][j]\n",
    "    \n",
    "    return suma // ((x - x0) * (y - y0))"
   ]
  },
  {
   "cell_type": "markdown",
   "id": "01a89945-d329-414a-9aff-d733a235e972",
   "metadata": {},
   "source": [
    "Para obtener la imagen pixelada, ahora hay que recorrer la imagen saltando de bloque en bloque y calculando la media de cada rectángulo. Eso es fácil con la variante `range(inicio, fin, paso)` de `range`. El paso será el `lado` de los cuadrados que queremos colapsar a un solo valor."
   ]
  },
  {
   "cell_type": "code",
   "execution_count": 30,
   "id": "f8270178-165b-4f24-bd4b-61a73e2ec31c",
   "metadata": {},
   "outputs": [],
   "source": [
    "def pixelar(img, lado=10):  # valor por defecto 10\n",
    "    \"\"\"Pixela una imagen\"\"\"\n",
    "    \n",
    "    # Alto y ancho de la imagen original\n",
    "    alto, ancho = orden(img)\n",
    "\n",
    "    return [[media(img, i, min(i + lado, alto),\n",
    "                        j, min(j + lado, ancho))\n",
    "             for j in range(0, ancho, lado)]\n",
    "            for i in range(0, alto, lado)]"
   ]
  },
  {
   "cell_type": "markdown",
   "id": "a1c2a66e-98b2-485a-8a07-d48689684726",
   "metadata": {},
   "source": [
    "La única dificultad es que las dimensiones de la matriz `img` no son necesariamente múltiplos de `lado`, así que algún cuadrado pudiera salirse parcialmente de la imagen. Una solución es truncar esos cuadrados extremos, tomando como límite superior del rectángulo el mínimo entre `j + lado` y el `ancho` de la matriz (lo mismo con `alto`)."
   ]
  },
  {
   "cell_type": "code",
   "execution_count": 31,
   "id": "63dd7b00-1722-4a70-a1a0-0a29367662c0",
   "metadata": {},
   "outputs": [
    {
     "data": {
      "text/plain": [
       "<matplotlib.image.AxesImage at 0x7f29f005dab0>"
      ]
     },
     "execution_count": 31,
     "metadata": {},
     "output_type": "execute_result"
    },
    {
     "data": {
      "image/png": "[encoded data removed]",
      "text/plain": [
       "<Figure size 640x480 with 1 Axes>"
      ]
     },
     "metadata": {},
     "output_type": "display_data"
    }
   ],
   "source": [
    "pixelada = pixelar(img)\n",
    "plt.imshow(pixelada, cmap='gray')"
   ]
  },
  {
   "cell_type": "markdown",
   "id": "414dcf59-6c39-49e2-afd9-495be1b098c4",
   "metadata": {
    "tags": []
   },
   "source": [
    "## [Extra] Iteradores (o lo que hay detrás del for)"
   ]
  },
  {
   "cell_type": "markdown",
   "id": "90e2c03d-039e-4905-95d6-24cc70337298",
   "metadata": {
    "img_width": ".5\\linewidth",
    "tags": []
   },
   "source": [
    "Un *iterador* es un cursor que permite recorrer secuencialmente una estructura o flujo de datos, avanzando paso a paso. Es una abstracción muy utilizada en los lenguajes de programación modernos, si bien se introdujo por primera vez en el lenguaje [CLU](https://es.wikipedia.org/wiki/CLU) en 1974. En Python, es un objeto opaco con una única operación `next` que permite obtener el valor al que apunta y pasar a apuntar al siguiente elemento.\n",
    "\n",
    "![](img/iterador.svg)\n",
    "\n",
    "Un objeto *iterable* es aquel que tiene definido un iterador. Son iterables las secuencias (tuplas, listas, cadenas), la función `range` y muchos otros tipos de datos en Python. Los objetos iterables devuelven un iterador con la función predefinida `iter`."
   ]
  },
  {
   "cell_type": "code",
   "execution_count": 32,
   "id": "2e57f0c7-cc76-47d5-843b-ce0343c0ce76",
   "metadata": {},
   "outputs": [
    {
     "data": {
      "text/plain": [
       "<list_iterator at 0x7fe1ad6120e0>"
      ]
     },
     "execution_count": 32,
     "metadata": {},
     "output_type": "execute_result"
    }
   ],
   "source": [
    "it = iter([1, 2])\n",
    "it"
   ]
  },
  {
   "cell_type": "markdown",
   "id": "e2eae30e-ec92-4c80-8c8e-b68cd2abf352",
   "metadata": {},
   "source": [
    "Por ejemplo, en una lista, el iterador devolverá los elementos de la lista uno a uno."
   ]
  },
  {
   "cell_type": "code",
   "execution_count": 33,
   "id": "753de0a1-f959-40b9-aa60-4a3d0be95fde",
   "metadata": {},
   "outputs": [
    {
     "data": {
      "text/plain": [
       "1"
      ]
     },
     "execution_count": 33,
     "metadata": {},
     "output_type": "execute_result"
    }
   ],
   "source": [
    "next(it)"
   ]
  },
  {
   "cell_type": "code",
   "execution_count": 34,
   "id": "e1a31224-08b4-4e99-aa9e-dbb3aeaaf3f9",
   "metadata": {},
   "outputs": [
    {
     "data": {
      "text/plain": [
       "2"
      ]
     },
     "execution_count": 34,
     "metadata": {},
     "output_type": "execute_result"
    }
   ],
   "source": [
    "next(it)"
   ]
  },
  {
   "cell_type": "code",
   "execution_count": 35,
   "id": "918f205c-40ca-4eae-8854-b023eb6c64f9",
   "metadata": {},
   "outputs": [
    {
     "ename": "StopIteration",
     "evalue": "",
     "output_type": "error",
     "traceback": [
      "\u001b[0;31m---------------------------------------------------------------------------\u001b[0m",
      "\u001b[0;31mStopIteration\u001b[0m                             Traceback (most recent call last)",
      "Cell \u001b[0;32mIn[35], line 1\u001b[0m\n\u001b[0;32m----> 1\u001b[0m \u001b[38;5;28;43mnext\u001b[39;49m\u001b[43m(\u001b[49m\u001b[43mit\u001b[49m\u001b[43m)\u001b[49m\n",
      "\u001b[0;31mStopIteration\u001b[0m: "
     ]
    }
   ],
   "source": [
    "next(it)"
   ]
  },
  {
   "cell_type": "markdown",
   "id": "1c390e3a-8287-4354-bb42-96f3972da64d",
   "metadata": {},
   "source": [
    "Si se aplica `next` al iterador cuando no quedan más elementos se produce un error. El bucle `for` captura ese error para saber cuando terminar. Alternativamente, se le puede pasar un argumento adicional a `next` como valor por defecto, que devolverá al final de la iteración en lugar de producir el error."
   ]
  },
  {
   "cell_type": "code",
   "execution_count": 36,
   "id": "96c89c69-5e67-40ef-ad7b-7f7fd912aefd",
   "metadata": {},
   "outputs": [
    {
     "data": {
      "text/plain": [
       "-1"
      ]
     },
     "execution_count": 36,
     "metadata": {},
     "output_type": "execute_result"
    }
   ],
   "source": [
    "next(it, -1)  # admite un valor por defecto"
   ]
  },
  {
   "cell_type": "markdown",
   "id": "3ef35516-78cd-4b66-9414-8957c458e878",
   "metadata": {},
   "source": [
    "Sin embargo, las funciones `iter` y `next` no se suelen utilizar explícitamente en la práctica, sino a través de instrucciones más abstractas como el bucle `for`, las listas intensionales y otras construcciones semejantes."
   ]
  },
  {
   "cell_type": "code",
   "execution_count": 37,
   "id": "2c63cb15-3b25-48cc-87ec-25b7d4128da6",
   "metadata": {},
   "outputs": [
    {
     "data": {
      "text/plain": [
       "11312"
      ]
     },
     "execution_count": 37,
     "metadata": {},
     "output_type": "execute_result"
    }
   ],
   "source": [
    "total = 0\n",
    "\n",
    "for n in (34, 42, 74, 54):\n",
    "    total += n * n\n",
    "    \n",
    "total"
   ]
  },
  {
   "cell_type": "markdown",
   "id": "9a722ccb-640d-4560-bde1-238c4b32f248",
   "metadata": {},
   "source": [
    "Internamente, el bucle (1) llama a `iter` sobre el resultado de la expresión a la derecha de `in` para obtener un iterador, (2) en cada iteración llama a `next` sobre el iterador para obtener el elemento que asigna a la variable del bucle, y (3) cuando `next` indica que no hay más elementos (`StopIteration`) termina. Lo mismo ocurre en las listas intensionales."
   ]
  },
  {
   "cell_type": "code",
   "execution_count": 38,
   "id": "3ead6c9c-511f-4676-bfe4-22b14a556255",
   "metadata": {},
   "outputs": [
    {
     "data": {
      "text/plain": [
       "[1156, 1764, 5476, 2916]"
      ]
     },
     "execution_count": 38,
     "metadata": {},
     "output_type": "execute_result"
    }
   ],
   "source": [
    "[n * n for n in (34, 42, 74, 54)]"
   ]
  },
  {
   "cell_type": "markdown",
   "id": "4febec5f-addc-4c93-851f-dc12cf16ef9e",
   "metadata": {},
   "source": [
    "La expresión que aparece entre corchetes en las listas intensionales tiene sentido propio y se denomina *expresión generadora*. Es un iterador que devuelve sucesivamente los elementos que aparecen en la lista anterior, sin crearla. La generación de los elementos es perezosa, no ocurre hasta que no se llama al `next` correspondiente."
   ]
  },
  {
   "cell_type": "code",
   "execution_count": 39,
   "id": "ef06abe1-6036-4d4c-8781-4ac5812e67c7",
   "metadata": {},
   "outputs": [
    {
     "data": {
      "text/plain": [
       "<generator object <genexpr> at 0x7fe1ad4fc5f0>"
      ]
     },
     "execution_count": 39,
     "metadata": {},
     "output_type": "execute_result"
    }
   ],
   "source": [
    "(n * n for n in (34, 42, 74, 54))"
   ]
  },
  {
   "cell_type": "markdown",
   "id": "620752f2-0dc8-4f6e-9339-34f42982d9e8",
   "metadata": {},
   "source": [
    "Por ejemplo, se puede producir una tupla en lugar de una lista a partir de ese iterador."
   ]
  },
  {
   "cell_type": "code",
   "execution_count": 40,
   "id": "74fc2b72-cdd0-44f7-9cc4-6297c6ac1429",
   "metadata": {},
   "outputs": [
    {
     "data": {
      "text/plain": [
       "(1156, 1764, 5476, 2916)"
      ]
     },
     "execution_count": 40,
     "metadata": {},
     "output_type": "execute_result"
    }
   ],
   "source": [
    "tuple(n * n for n in (34, 42, 74, 54))"
   ]
  },
  {
   "cell_type": "markdown",
   "id": "e3567004-8143-47d1-953c-84c62679aa92",
   "metadata": {},
   "source": [
    "O sumar directamente sus elementos sin almacenarlos en una estructura con la función predefinida `sum`."
   ]
  },
  {
   "cell_type": "code",
   "execution_count": 41,
   "id": "1363b0e0-c399-41d0-9771-b23c2178f019",
   "metadata": {},
   "outputs": [
    {
     "data": {
      "text/plain": [
       "11312"
      ]
     },
     "execution_count": 41,
     "metadata": {},
     "output_type": "execute_result"
    }
   ],
   "source": [
    "sum(n * n for n in (34, 42, 74, 54))  # suma"
   ]
  },
  {
   "cell_type": "markdown",
   "id": "5cfccca9-6861-4f39-9536-a158efa7b6f2",
   "metadata": {
    "tags": []
   },
   "source": [
    "*Observación 1*: habitualmente los iteradores son también objetos iterables con ellos mismos como sus propios iteradores. Esta propiedad resulta ventajosa, pues permite utilizador iteradores también en los bucles `for`."
   ]
  },
  {
   "cell_type": "code",
   "execution_count": 42,
   "id": "8a2aa8cd-d964-4a25-ac59-6335f558cdb8",
   "metadata": {},
   "outputs": [
    {
     "data": {
      "text/plain": [
       "True"
      ]
     },
     "execution_count": 42,
     "metadata": {},
     "output_type": "execute_result"
    }
   ],
   "source": [
    "it = iter([1, 2])\n",
    "iter(it) == it"
   ]
  },
  {
   "cell_type": "markdown",
   "id": "2c0460e8-479a-41ca-8f54-df92189a9e6c",
   "metadata": {},
   "source": [
    "En particular, las expresiones generadoras son a la vez iteradores e iterables."
   ]
  },
  {
   "cell_type": "code",
   "execution_count": 43,
   "id": "bc9fa26d-2a98-4616-8546-f2658ad93d63",
   "metadata": {},
   "outputs": [
    {
     "data": {
      "text/plain": [
       "True"
      ]
     },
     "execution_count": 43,
     "metadata": {},
     "output_type": "execute_result"
    }
   ],
   "source": [
    "gen = (n * n for n in (34, 42, 74, 54))\n",
    "iter(gen) == gen"
   ]
  },
  {
   "cell_type": "markdown",
   "id": "b2303ec0-2fa7-424b-ae9a-092122775266",
   "metadata": {
    "tags": []
   },
   "source": [
    "*Observación 2*: el funcionamiento de `tuple` y `sum` respecto al iterable es el mismo que el del bucle `for`, llamará a `iter` y luego sucesivamente a `next` para obtener los elementos. Esto y el carácter perezoso de las expresiones generadoras lo podemos ver con el siguiente ejemplo:"
   ]
  },
  {
   "cell_type": "code",
   "execution_count": 44,
   "id": "f983f5a4-9a54-4c79-9a84-5e59f293a643",
   "metadata": {},
   "outputs": [],
   "source": [
    "gen = (print(f'next por {n}-ésima vez') for n in range(3))"
   ]
  },
  {
   "cell_type": "markdown",
   "id": "e43a54aa-4531-4b95-8c82-2ad454345604",
   "metadata": {},
   "source": [
    "La expresión que define `gen` es una llamada a la función `print` que simplemente imprime un texto. Véase que la expresión no se ha evaluado porque no ha aparecido nada impreso."
   ]
  },
  {
   "cell_type": "code",
   "execution_count": 45,
   "id": "7c8565f8-6de5-4e68-9043-f59d492af95a",
   "metadata": {},
   "outputs": [
    {
     "name": "stdout",
     "output_type": "stream",
     "text": [
      "next por 0-ésima vez\n"
     ]
    }
   ],
   "source": [
    "next(gen)  # evalúa solo el primer elemento"
   ]
  },
  {
   "cell_type": "code",
   "execution_count": 46,
   "id": "b7a2a15f-f040-4454-b18b-91aa71d362f6",
   "metadata": {},
   "outputs": [
    {
     "name": "stdout",
     "output_type": "stream",
     "text": [
      "next por 1-ésima vez\n",
      "next por 2-ésima vez\n"
     ]
    },
    {
     "data": {
      "text/plain": [
       "(None, None)"
      ]
     },
     "execution_count": 46,
     "metadata": {},
     "output_type": "execute_result"
    }
   ],
   "source": [
    "tuple(gen)  # evalúa todos los elementos mientras construye la tupla"
   ]
  },
  {
   "cell_type": "markdown",
   "id": "dcb88a1b-7a07-4162-97b8-149c5fb76eac",
   "metadata": {},
   "source": [
    "*Observación 3*: existen otros métodos para que los usuarios de Python puedan definir sus propios iteradores y objetos iterables, que no veremos durante el curso."
   ]
  },
  {
   "cell_type": "markdown",
   "id": "c8aa2a02-6a0b-4188-8135-eab9650ec728",
   "metadata": {},
   "source": [
    "### Funciones predefinidas sobre iteradores\n",
    "\n",
    "Además de `sum`, Python proporciona otras funciones predefinidas que operan con iteradores. No es necesario conocerlas y lo importante en poderlas programar con las instrucciones básicas, pero se muestran a continuación algunas de ellas como referencia."
   ]
  },
  {
   "cell_type": "markdown",
   "id": "8ce6b8a1-be83-4e06-838d-f2ed522ba7c2",
   "metadata": {},
   "source": [
    "* Mínimo y máximo de los elementos de un iterable. Ha de haber un orden definido sobre ellos (números, cadenas, etc)."
   ]
  },
  {
   "cell_type": "code",
   "execution_count": 47,
   "id": "d50b1910-5aa5-4127-ad89-f8c73e862c14",
   "metadata": {},
   "outputs": [
    {
     "data": {
      "text/plain": [
       "34"
      ]
     },
     "execution_count": 47,
     "metadata": {},
     "output_type": "execute_result"
    }
   ],
   "source": [
    "min((34, 42, 74, 54))  # mínimo"
   ]
  },
  {
   "cell_type": "code",
   "execution_count": 48,
   "id": "4f57d2c6-1145-41ce-a011-6776083b84ca",
   "metadata": {},
   "outputs": [
    {
     "data": {
      "text/plain": [
       "74"
      ]
     },
     "execution_count": 48,
     "metadata": {},
     "output_type": "execute_result"
    }
   ],
   "source": [
    "max((34, 42, 74, 54))  # máximo"
   ]
  },
  {
   "cell_type": "markdown",
   "id": "1092caca-ae52-46fc-a087-2bdddbe2a1b5",
   "metadata": {},
   "source": [
    "* Conjunción y disyunción lógicas de los elementos de un iterador de booleanos o asimilables. En Python y en muchos otros lenguajes, todos los objetos se pueden interpretar como valores lógicos (los números son *ciertos* si no son nulos, las cadenas, listas y tuplas si no son vacías, `None` es siempre falso, etc)."
   ]
  },
  {
   "cell_type": "code",
   "execution_count": 49,
   "id": "45b67cab-cf84-48af-a87f-dd2fb350c2f8",
   "metadata": {
    "tags": []
   },
   "outputs": [
    {
     "data": {
      "text/plain": [
       "False"
      ]
     },
     "execution_count": 49,
     "metadata": {},
     "output_type": "execute_result"
    }
   ],
   "source": [
    "all([True, 2, False])  # conjunción (y lógica)"
   ]
  },
  {
   "cell_type": "code",
   "execution_count": 50,
   "id": "7e3b2c61-c763-4ad8-9aab-31baaeb17d0d",
   "metadata": {
    "tags": []
   },
   "outputs": [
    {
     "data": {
      "text/plain": [
       "True"
      ]
     },
     "execution_count": 50,
     "metadata": {},
     "output_type": "execute_result"
    }
   ],
   "source": [
    "any((True, 'dos', False))  # disyunción (o lógica)"
   ]
  },
  {
   "cell_type": "markdown",
   "id": "86647f68-ba42-4c31-91e7-51ce38a5f1b8",
   "metadata": {},
   "source": [
    "Mientras que las funciones anteriores calculaban un resultado escalar a partir de los elementos del iterador, hay otra clase de ellas que generan una secuencia nueva de elementos. Por ejemplo, `enumerate` itera sobre pares $(k, e)$ done $e$ es un elemento del iterador original y $k$ es su índice o número de orden consecutivo."
   ]
  },
  {
   "cell_type": "code",
   "execution_count": 51,
   "id": "5bebbf17-fe70-40c7-867e-5437d31ece03",
   "metadata": {},
   "outputs": [
    {
     "data": {
      "text/plain": [
       "<enumerate at 0x7fe1ad218a40>"
      ]
     },
     "execution_count": 51,
     "metadata": {},
     "output_type": "execute_result"
    }
   ],
   "source": [
    "enumerate('abcde')  # devuelve un iterador"
   ]
  },
  {
   "cell_type": "code",
   "execution_count": 52,
   "id": "03138905-caaf-4529-a449-0de900eb7c09",
   "metadata": {},
   "outputs": [
    {
     "data": {
      "text/plain": [
       "[(0, 'a'), (1, 'b'), (2, 'c'), (3, 'd'), (4, 'e')]"
      ]
     },
     "execution_count": 52,
     "metadata": {},
     "output_type": "execute_result"
    }
   ],
   "source": [
    "list(_)  # _ representa la salida de la celda anterior"
   ]
  },
  {
   "cell_type": "code",
   "execution_count": 53,
   "id": "5a050dc9-cf75-4699-bf83-35db566a74e8",
   "metadata": {
    "tags": []
   },
   "outputs": [
    {
     "data": {
      "text/plain": [
       "[1156, 1764, 5476, 2916]"
      ]
     },
     "execution_count": 53,
     "metadata": {},
     "output_type": "execute_result"
    }
   ],
   "source": [
    "# Eleva los elementos de la lista al cuadrado\n",
    "mi_lista = [34, 42, 74, 54]\n",
    "\n",
    "for k, v in enumerate(mi_lista):\n",
    "    mi_lista[k] = v * v  # se ahorra un poco de escritura\n",
    "\n",
    "mi_lista"
   ]
  },
  {
   "cell_type": "markdown",
   "id": "c9f66d59-866c-4d4a-bfcc-dafd7981708e",
   "metadata": {},
   "source": [
    "Otra función semejante es `reversed`: el iterador que devuelve suministra los elementos en el orden opuesto."
   ]
  },
  {
   "cell_type": "code",
   "execution_count": 54,
   "id": "3e4a314b-96e4-495c-8c19-d91cffdc2635",
   "metadata": {},
   "outputs": [
    {
     "data": {
      "text/plain": [
       "'rama'"
      ]
     },
     "execution_count": 54,
     "metadata": {},
     "output_type": "execute_result"
    }
   ],
   "source": [
    "''.join(reversed('amar'))"
   ]
  },
  {
   "cell_type": "markdown",
   "id": "6fc58cd4-5f9d-499b-975b-8598851d6e0a",
   "metadata": {},
   "source": [
    "Las siguientes funciones reciben una función además del iterador, bien para filtrar o bien para modificar los elementos."
   ]
  },
  {
   "cell_type": "code",
   "execution_count": 55,
   "id": "bed537c9-fb3e-43c7-83a9-ce5c4e94e447",
   "metadata": {
    "tags": []
   },
   "outputs": [],
   "source": [
    "def es_primo(n: int) -> bool:\n",
    "    for d in range(2, int(n ** 0.5) + 1):\n",
    "        if n % d == 0:\n",
    "            return False\n",
    "    return True"
   ]
  },
  {
   "cell_type": "markdown",
   "id": "6bca0cae-8d14-4dd7-b7e1-9a6e97d116d1",
   "metadata": {},
   "source": [
    "* `map` aplica una función a los elementos de un iterable. El resultado es un iterador sobre las imágenes de todos ellos."
   ]
  },
  {
   "cell_type": "code",
   "execution_count": 56,
   "id": "44667ac7-ceac-4934-add7-d12129179b09",
   "metadata": {
    "tags": []
   },
   "outputs": [
    {
     "data": {
      "text/plain": [
       "(True, True, False, True, False, True, False, False, False, True)"
      ]
     },
     "execution_count": 56,
     "metadata": {},
     "output_type": "execute_result"
    }
   ],
   "source": [
    "tuple(map(es_primo, range(2, 12)))"
   ]
  },
  {
   "cell_type": "markdown",
   "id": "80ce6425-a818-4b3c-a472-d612c3c97705",
   "metadata": {},
   "source": [
    "* `filter` devuelve un iterador sobre los elementos del iterador original que cumplen un predicado (*filtro*). Un predicado no es más que una función que toma valores booleanos o asimilables. Por ejemplo, el bucle siguiente recorre exclusivamente los números primos entre 2 y 29."
   ]
  },
  {
   "cell_type": "code",
   "execution_count": 57,
   "id": "9bac7743-7d68-4896-bd25-2b6ec08c8a1f",
   "metadata": {
    "tags": []
   },
   "outputs": [
    {
     "name": "stdout",
     "output_type": "stream",
     "text": [
      "2 3 5 7 11 13 17 19 23 29 "
     ]
    }
   ],
   "source": [
    "for p in filter(es_primo, range(2, 30)):\n",
    "    print(p, end=' ')"
   ]
  },
  {
   "cell_type": "markdown",
   "id": "aae91526-63d5-4acd-a307-3fb64cb7d565",
   "metadata": {},
   "source": [
    "* `zip` recibe cero o más iteradores como argumento y devuelve un iterador sobre las tuplas que combinan sus valores secuencialmente (como una *cremallera*). Es decir, el elemento $k$-ésimo de $\\mathrm{map}(z_1, \\ldots, z_n)$ es la tupla $(z_{1,k}, \\ldots, z_{n,k})$ donde $z_{j,k}$ es el elemento $k$-ésimo del iterador $z_j$. La secuencia se acaba cuando se acaba el primer iterador."
   ]
  },
  {
   "cell_type": "code",
   "execution_count": 58,
   "id": "b8563dec-e2b8-43d1-ab9b-3b6ca52082ba",
   "metadata": {
    "tags": []
   },
   "outputs": [
    {
     "name": "stdout",
     "output_type": "stream",
     "text": [
      "(1, 'uno') (2, 'dos') "
     ]
    }
   ],
   "source": [
    "for tupla in  zip((1, 2, 3), ('uno', 'dos')):\n",
    "    print(tupla, end=' ')"
   ]
  },
  {
   "cell_type": "markdown",
   "id": "fabe86e2-a1b4-4464-899a-fc93a7381e3b",
   "metadata": {
    "tags": []
   },
   "source": [
    "Además, el paquete estándar [`itertools`](https://docs.python.org/3/library/itertools.html?highlight=itertools#module-itertools) proporciona numerosas funciones para generar, transformar y operar con iteradores."
   ]
  },
  {
   "cell_type": "markdown",
   "id": "c2e4f53b",
   "metadata": {
    "notoc": true,
    "pretex": "\\small",
    "tags": []
   },
   "source": [
    "## Referencias\n",
    "\n",
    "* §5 «Structured Types and Mutability» del [libro de Guttag](https://ucm.on.worldcat.org/oclc/1347116367) (§5 en la [edición de 2013](https://ucm.on.worldcat.org/oclc/1025935018)).\n",
    "* [§5.1.3 «Compresión de listas»](https://docs.python.org/es/3/tutorial/datastructures.html#list-comprehensions), [§5.1.4 «Listas por comprensión anidadas»](https://docs.python.org/es/3/tutorial/datastructures.html#nested-list-comprehensions), [§9.8 «Iteradores»](https://docs.python.org/es/3/tutorial/classes.html#iterators) y [§9.10 «Expresiones generadoras»](https://docs.python.org/es/3/tutorial/classes.html#generator-expressions) del tutorial de Python."
   ]
  }
 ],
 "metadata": {
  "authors": [
   {
    "name": "Rubén Rubio"
   }
  ],
  "kernelspec": {
   "display_name": "Python 3 (ipykernel)",
   "language": "python",
   "name": "python3"
  },
  "language_info": {
   "codemirror_mode": {
    "name": "ipython",
    "version": 3
   },
   "file_extension": ".py",
   "mimetype": "text/x-python",
   "name": "python",
   "nbconvert_exporter": "python",
   "pygments_lexer": "ipython3",
   "version": "3.11.3"
  }
 },
 "nbformat": 4,
 "nbformat_minor": 5
}
