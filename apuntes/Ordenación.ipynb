{
 "cells": [
  {
   "cell_type": "markdown",
   "id": "3b551733-df7f-438d-b09c-f5f135064823",
   "metadata": {},
   "source": [
    "# Algoritmos de ordenación"
   ]
  },
  {
   "cell_type": "markdown",
   "id": "19c4d863-32cb-4672-a471-7e3d1d0ff9ac",
   "metadata": {},
   "source": [
    "Ordenar colecciones de datos es una tarea recurrente en la informática, pues facilita y hace más eficientes las búsquedas, comparaciones y el procesamiento de los datos."
   ]
  },
  {
   "cell_type": "code",
   "execution_count": 1,
   "id": "0acb87a5-2c97-4792-ad81-e9a11f61b89f",
   "metadata": {},
   "outputs": [
    {
     "data": {
      "text/plain": [
       "['Fernández',\n",
       " 'García',\n",
       " 'González',\n",
       " 'López',\n",
       " 'Martínez',\n",
       " 'Rodríguez',\n",
       " 'Sánchez']"
      ]
     },
     "execution_count": 1,
     "metadata": {},
     "output_type": "execute_result"
    }
   ],
   "source": [
    "sorted(['García', 'Rodríguez', 'González', 'Fernández', 'López', 'Martínez', 'Sánchez'])"
   ]
  },
  {
   "cell_type": "code",
   "execution_count": 2,
   "id": "255e230a-36e9-4e1d-a4ec-6c180370dd06",
   "metadata": {},
   "outputs": [
    {
     "name": "stdout",
     "output_type": "stream",
     "text": [
      "Help on built-in function sorted in module builtins:\n",
      "\n",
      "sorted(iterable, /, *, key=None, reverse=False)\n",
      "    Return a new list containing all items from the iterable in ascending order.\n",
      "    \n",
      "    A custom key function can be supplied to customize the sort order, and the\n",
      "    reverse flag can be set to request the result in descending order.\n",
      "\n"
     ]
    }
   ],
   "source": [
    "help(sorted)"
   ]
  },
  {
   "cell_type": "markdown",
   "id": "758f4462-5ead-4118-af44-b513c2598a6f",
   "metadata": {},
   "source": [
    "Python (como cualquier lenguaje de programación decente) incluye funciones predefinidas para ordenar secuencias, el método `list.sort` y la función `sorted` que hemos usado en temas anteriores. Sin embargo, es interesante conocer algunos algoritmos de ordenación y reflexionar superficialmente sobre su eficiencia. Los algoritmos que consideraremos son válidos para ordenar cualquier tipo de datos con un operador $<$ (`__lt__`) de orden total. El siguiente resultado sobre el número mínimo de comparaciones para ordenar una secuencia arbitraria es bien conocido."
   ]
  },
  {
   "cell_type": "markdown",
   "id": "b236a79c-a054-4e5a-89bf-8c4c268dfa6c",
   "metadata": {
    "pretex": "\\medskip\n",
    "tags": []
   },
   "source": [
    "**Teorema** (Teorema 8.1, [CLRS22](https://ucm.on.worldcat.org/oclc/1319462289)): cualquier algoritmo de ordenación basado en comparaciones necesita al menos $n \\cdot \\log(n)$ de ellas en el caso peor para ordenar una lista de tamaño $n$."
   ]
  },
  {
   "cell_type": "markdown",
   "id": "aeb8fb56-1fe7-4d3d-b0ec-14c45a200aac",
   "metadata": {},
   "source": [
    "## Ordenación de la burbuja\n",
    "\n",
    "La metáfora del algoritmo es que los elementos flotan según su *peso* hasta el lugar que les corresponde en la lista. Esto se consigue permutando elementos contiguos en múltiples pasadas a la lista hasta que no haya dos elementos contiguos desordenados. Es poco eficiente, pues requiere $n^2$ operaciones el caso peor."
   ]
  },
  {
   "cell_type": "code",
   "execution_count": 3,
   "id": "79613884-5c5a-4548-9c90-d82b47ef1a67",
   "metadata": {},
   "outputs": [],
   "source": [
    "def ordena_burbuja_peor(v: list):\n",
    "    cambiado = True\n",
    "    while cambiado:\n",
    "        cambiado = False\n",
    "        for k in range(1, len(v)):\n",
    "            if v[k-1] > v[k]:\n",
    "                v[k], v[k-1] = v[k-1], v[k]\n",
    "                cambiado = True\n",
    "    return v"
   ]
  },
  {
   "cell_type": "markdown",
   "id": "87c267b3-a5a8-4afd-8c23-873372ba7d1a",
   "metadata": {},
   "source": [
    "El `return v` tiene como única finalidad poder mostrar el resultado más fácilmente en las siguientes ejecuciones, pero el algoritmo modifica la lista argumento in situ."
   ]
  },
  {
   "cell_type": "code",
   "execution_count": 4,
   "id": "94b2e625-ae1e-44e7-a74b-9fcd8e7272e7",
   "metadata": {},
   "outputs": [
    {
     "data": {
      "text/plain": [
       "[1, 2, 3]"
      ]
     },
     "execution_count": 4,
     "metadata": {},
     "output_type": "execute_result"
    }
   ],
   "source": [
    "ordena_burbuja_peor([3, 2, 1])"
   ]
  },
  {
   "cell_type": "markdown",
   "id": "c8a07c55-0e5f-4c2f-982e-c8ecf7d405e7",
   "metadata": {},
   "source": [
    "Si observamos que el elemento mayor de todos los considerados en una ronda se coloca siempre en la posición que le corresponde al final del vector, podemos mejorar el algoritmo parando la ronda antes de tiempo."
   ]
  },
  {
   "cell_type": "code",
   "execution_count": 5,
   "id": "a161d334-fea9-4ca3-a1c1-149a6d10247d",
   "metadata": {},
   "outputs": [],
   "source": [
    "def ordena_burbuja(v: list):\n",
    "    for m in range(len(v)):\n",
    "        for k in range(1, len(v) - m):\n",
    "            if v[k-1] > v[k]:\n",
    "                v[k], v[k-1] = v[k-1], v[k]\n",
    "    return v"
   ]
  },
  {
   "cell_type": "code",
   "execution_count": 6,
   "id": "2c76cb38-27d2-4f64-b32f-e49cf74c0387",
   "metadata": {},
   "outputs": [
    {
     "data": {
      "text/plain": [
       "[1, 2, 3]"
      ]
     },
     "execution_count": 6,
     "metadata": {},
     "output_type": "execute_result"
    }
   ],
   "source": [
    "ordena_burbuja([3, 2, 1])"
   ]
  },
  {
   "cell_type": "markdown",
   "id": "2755286b-fe50-41e2-b50c-f5db2b4d98af",
   "metadata": {},
   "source": [
    "Esta optimización se puede llevar más lejos observando que la lista está ordenada desde la última permutación realizada en adelante, como se deduce de la condición del `if`."
   ]
  },
  {
   "cell_type": "code",
   "execution_count": 7,
   "id": "6a8d482a-6218-438d-bf90-6687c872f93a",
   "metadata": {},
   "outputs": [],
   "source": [
    "def ordena_burbuja_mejor(v: list):\n",
    "    # Índice a partir del cual el vector está terminado\n",
    "    terminado_desde = len(v)\n",
    "    \n",
    "    # Queremos que esté terminado desde cero o uno (es lo mismo)\n",
    "    while terminado_desde > 1:\n",
    "        última_permutación = 0\n",
    "        for k in range(1, terminado_desde):\n",
    "            if v[k-1] > v[k]:\n",
    "                # Permutamos los valores\n",
    "                v[k], v[k-1] = v[k-1], v[k]\n",
    "                # Posición de la última permutación\n",
    "                última_permutación = k\n",
    "        # El vector está ordenado desde la última permutación\n",
    "        terminado_desde = última_permutación\n",
    "    return v"
   ]
  },
  {
   "cell_type": "code",
   "execution_count": 8,
   "id": "b652f839-efc2-4bf8-bd0d-dd091639a5d9",
   "metadata": {},
   "outputs": [
    {
     "data": {
      "text/plain": [
       "[1, 2, 3]"
      ]
     },
     "execution_count": 8,
     "metadata": {},
     "output_type": "execute_result"
    }
   ],
   "source": [
    "ordena_burbuja_mejor([3, 2, 1])"
   ]
  },
  {
   "cell_type": "code",
   "execution_count": 9,
   "id": "2c366eeb-5e8e-4200-b384-ac8f931bf22a",
   "metadata": {},
   "outputs": [
    {
     "data": {
      "text/plain": [
       "['Fernández',\n",
       " 'García',\n",
       " 'González',\n",
       " 'López',\n",
       " 'Martínez',\n",
       " 'Rodríguez',\n",
       " 'Sánchez']"
      ]
     },
     "execution_count": 9,
     "metadata": {},
     "output_type": "execute_result"
    }
   ],
   "source": [
    "ordena_burbuja_mejor(['García', 'Rodríguez', 'González', 'Fernández', 'López', 'Martínez', 'Sánchez'])"
   ]
  },
  {
   "cell_type": "markdown",
   "id": "36185fb8-bc54-409c-99cf-63465ebb9479",
   "metadata": {},
   "source": [
    "## Ordenación por inserción"
   ]
  },
  {
   "cell_type": "markdown",
   "id": "1be5bcc3-4e6f-4130-8e99-dd03a44da6af",
   "metadata": {},
   "source": [
    "Como sugiere su nombre, el método de ordenación por inserción consiste en insertar sucesivamente en una nueva lista los elementos de la lista original, pero en la posición que les corresponde según el orden.\n",
    "\n",
    "La posición en el que ha de colocarse un elemento en una lista ordenada se puede averiguar con la búsqueda binaria vista en el tema de recursión. En lugar de copiar la función de allí usaremos la implementación incluida en el paquete `bisect` de la biblioteca estándar de Python."
   ]
  },
  {
   "cell_type": "code",
   "execution_count": 10,
   "id": "a0ae31ad-47bc-4849-832e-6b526e98febd",
   "metadata": {
    "tags": []
   },
   "outputs": [
    {
     "name": "stdout",
     "output_type": "stream",
     "text": [
      "Help on built-in function bisect_right in module _bisect:\n",
      "\n",
      "bisect_right(a, x, lo=0, hi=None, *, key=None)\n",
      "    Return the index where to insert item x in list a, assuming a is sorted.\n",
      "    \n",
      "    The return value i is such that all e in a[:i] have e <= x, and all e in\n",
      "    a[i:] have e > x.  So if x already appears in the list, a.insert(i, x) will\n",
      "    insert just after the rightmost x already there.\n",
      "    \n",
      "    Optional args lo (default 0) and hi (default len(a)) bound the\n",
      "    slice of a to be searched.\n",
      "\n"
     ]
    }
   ],
   "source": [
    "from bisect import bisect  # búsqueda binaria\n",
    "help(bisect)"
   ]
  },
  {
   "cell_type": "code",
   "execution_count": 11,
   "id": "2386192a-e4de-4034-9242-08e94e78d5f1",
   "metadata": {
    "tags": []
   },
   "outputs": [],
   "source": [
    "def ordena_inserción(v: list) -> list:\n",
    "    # Nueva lista siempre ordenada\n",
    "    ordenada = []\n",
    "    \n",
    "    # Insertamos cada elemento de v en la posición correcta de ordenada\n",
    "    for elem in v:\n",
    "        # Buscamos para saber la posición correcta\n",
    "        pos = bisect(ordenada, elem)\n",
    "\n",
    "        ordenada.insert(pos, elem)\n",
    "    \n",
    "    return ordenada"
   ]
  },
  {
   "cell_type": "code",
   "execution_count": 12,
   "id": "02d3e3b0-c35c-4d47-b770-86ea6b739439",
   "metadata": {
    "tags": []
   },
   "outputs": [
    {
     "data": {
      "text/plain": [
       "[1, 2, 3]"
      ]
     },
     "execution_count": 12,
     "metadata": {},
     "output_type": "execute_result"
    }
   ],
   "source": [
    "ordena_inserción([3, 2, 1])"
   ]
  },
  {
   "cell_type": "markdown",
   "id": "99f66e94-49f8-4b18-a799-6ca6c667b93e",
   "metadata": {},
   "source": [
    "Este algoritmo ejecuta del orden de $n^2$ operaciones en el caso peor, pues insertar en una posición obliga a desplazar todos los elementos a su derecha, potencialmente la lista entera."
   ]
  },
  {
   "cell_type": "markdown",
   "id": "5e8a5d2d-1253-4251-b5af-22811839fff4",
   "metadata": {},
   "source": [
    "## Ordenación por mezcla"
   ]
  },
  {
   "cell_type": "markdown",
   "id": "522dcbff-f45c-46a5-b2d0-c25a924d2110",
   "metadata": {},
   "source": [
    "Consiste en dividir la lista en mitades, ordenar estas mitades recursivamente y mezclar ambas listas ordenadas en una lista común."
   ]
  },
  {
   "cell_type": "code",
   "execution_count": 13,
   "id": "a68bf22f-4e14-4acf-be6b-794d76a78746",
   "metadata": {},
   "outputs": [],
   "source": [
    "def ordena_mezcla(v: list):\n",
    "    # La lista vacía o de un solo elemento está ordenada (caso base)\n",
    "    if len(v) <= 1:\n",
    "        return v\n",
    "\n",
    "    # Parte la lista por la mitad (caso recursivo)\n",
    "    mitad = len(v) // 2\n",
    "\n",
    "    # Ordena recursivamente cada mitad de la lista\n",
    "    izda = ordena_mezcla(v[:mitad])\n",
    "    dcha = ordena_mezcla(v[mitad:])\n",
    "\n",
    "    # Mezcla ambas listas\n",
    "    return mezcla(izda, dcha)"
   ]
  },
  {
   "cell_type": "markdown",
   "id": "3b39e52d-2f97-47ed-8efd-1d98d08db83d",
   "metadata": {},
   "source": [
    "La función `mezcla(v, w)` recorre las listas ordenadas `v` y `w` simultáneamente, añadiendo a la lista resultado el menor elemento de lo que queda de ambas listas. El resultado es también una lista ordenada."
   ]
  },
  {
   "cell_type": "code",
   "execution_count": 14,
   "id": "01e2c747-1a07-44c4-99ac-9239fdd44a77",
   "metadata": {},
   "outputs": [],
   "source": [
    "def mezcla(v: list, w: list):\n",
    "    \"\"\"Mezcla un par de listas ordenadas en otra lista ordenada\"\"\"\n",
    "    \n",
    "    # Lista nueva que contendrá la mezcla\n",
    "    mezcla_vw = []\n",
    "    \n",
    "    # Índices para recorrer ambas listas de entrada\n",
    "    i_v, i_w = 0, 0\n",
    "    \n",
    "    # Recorre las listas avanzando en la del elemento menor\n",
    "    while i_v < len(v) and i_w < len(w):\n",
    "        if v[i_v] <= w[i_w]:\n",
    "            mezcla_vw.append(v[i_v])\n",
    "            i_v += 1\n",
    "        else:\n",
    "            mezcla_vw.append(w[i_w])\n",
    "            i_w += 1\n",
    "    \n",
    "    # Añade los restos (solo una puede tener resto)\n",
    "    mezcla_vw += v[i_v:]\n",
    "    mezcla_vw += w[i_w:]\n",
    "    \n",
    "    return mezcla_vw"
   ]
  },
  {
   "cell_type": "code",
   "execution_count": 15,
   "id": "3c5cd9b3-6f13-4c9f-9166-5d07271df541",
   "metadata": {},
   "outputs": [
    {
     "data": {
      "text/plain": [
       "[1, 2, 3]"
      ]
     },
     "execution_count": 15,
     "metadata": {},
     "output_type": "execute_result"
    }
   ],
   "source": [
    "ordena_mezcla([3, 2, 1])"
   ]
  },
  {
   "cell_type": "markdown",
   "id": "139c54e4-aafe-4cdc-9f87-5dd2b00fc801",
   "metadata": {},
   "source": [
    "Este algoritmo hace $x_0 = x_1 = 1$ y $x_n = 2 \\cdot n + 2 \\cdot x_{n/2}$ operaciones, una cantidad que es del orden de $n \\cdot \\log n$."
   ]
  },
  {
   "cell_type": "markdown",
   "id": "f693f7d9-f2ab-461a-8a60-644a1c8acfef",
   "metadata": {
    "tags": []
   },
   "source": [
    "## Ordenación estúpida (anécdota)"
   ]
  },
  {
   "cell_type": "markdown",
   "id": "91fb2e66-17b9-43e9-8c54-4ea79f8fa8cb",
   "metadata": {},
   "source": [
    "Haciendo honor a su nombre, consiste en barajar aleatoriamente una lista y comprobar si está ordenada hasta que acabe estando ordenada. No es un *algoritmo* propiamente dicho porque no está asegurado que termine (aunque lo hace con probabilidad 1). Hay $n!$ ordenaciones posibles, así que no es probable que converja pronto."
   ]
  },
  {
   "cell_type": "code",
   "execution_count": 16,
   "id": "87ca83b2-5450-476b-9c28-582e524be141",
   "metadata": {
    "tags": []
   },
   "outputs": [],
   "source": [
    "import random  # para shuffle (barajar)"
   ]
  },
  {
   "cell_type": "code",
   "execution_count": 17,
   "id": "4eee7b2b-69da-43f2-bfcd-e1265d5164bb",
   "metadata": {
    "tags": []
   },
   "outputs": [
    {
     "name": "stdout",
     "output_type": "stream",
     "text": [
      "Help on method shuffle in module random:\n",
      "\n",
      "shuffle(x, random=None) method of random.Random instance\n",
      "    Shuffle list x in place, and return None.\n",
      "    \n",
      "    Optional argument random is a 0-argument function returning a\n",
      "    random float in [0.0, 1.0); if it is the default None, the\n",
      "    standard random.random will be used.\n",
      "\n"
     ]
    }
   ],
   "source": [
    "help(random.shuffle)"
   ]
  },
  {
   "cell_type": "code",
   "execution_count": 18,
   "id": "d91e7eb0-a4d9-4970-8dd4-f9224fe5d68f",
   "metadata": {
    "tags": []
   },
   "outputs": [],
   "source": [
    "def ordena_estúpida(v: list) -> list:\n",
    "    \n",
    "    while not ordenada(v):\n",
    "        random.shuffle(v)\n",
    "    \n",
    "    return v"
   ]
  },
  {
   "cell_type": "code",
   "execution_count": 19,
   "id": "81494f14-cff4-4f59-b610-9977e3ecbc82",
   "metadata": {},
   "outputs": [],
   "source": [
    "def ordenada(v: list) -> bool:\n",
    "    \"\"\"Comprueba si una lista está ordenada\"\"\"\n",
    "    \n",
    "    # o all(v[k-1] > v[k] for k in range(1, len(v)))\n",
    "    for k in range(1, len(v)):\n",
    "        if v[k-1] > v[k]:\n",
    "            return False\n",
    "    \n",
    "    return True"
   ]
  },
  {
   "cell_type": "code",
   "execution_count": 20,
   "id": "bb0894f1-4063-49f9-ad90-5ae1273970bf",
   "metadata": {},
   "outputs": [
    {
     "data": {
      "text/plain": [
       "[1, 2, 3]"
      ]
     },
     "execution_count": 20,
     "metadata": {},
     "output_type": "execute_result"
    }
   ],
   "source": [
    "ordena_estúpida([3, 2, 1])"
   ]
  },
  {
   "cell_type": "markdown",
   "id": "256b53d0-dd3c-4756-8d42-b7e8c1cd7214",
   "metadata": {},
   "source": [
    "## Breve comparativa"
   ]
  },
  {
   "cell_type": "markdown",
   "id": "fd18e03b-a461-4c78-9bae-67c48bfaab6b",
   "metadata": {},
   "source": [
    "Sin ser una comparativa empírica rigurosa de los algoritmos de ordenación, podemos calcular los tiempos de ejecución de los distintos algoritmos sobre un vector aleatorio fijo."
   ]
  },
  {
   "cell_type": "code",
   "execution_count": 21,
   "id": "929badde-c250-4155-b706-749a5ccd2bef",
   "metadata": {
    "tags": []
   },
   "outputs": [
    {
     "data": {
      "text/plain": [
       "[231, 281, 23, 485, 14, 68, 245, 222]"
      ]
     },
     "execution_count": 21,
     "metadata": {},
     "output_type": "execute_result"
    }
   ],
   "source": [
    "lista_aleatoria = random.choices(range(0, 500), k=500)\n",
    "lista_aleatoria[:8]"
   ]
  },
  {
   "cell_type": "markdown",
   "id": "3091dea5-69c1-40fa-8a1f-841859133ba6",
   "metadata": {},
   "source": [
    "Como los algoritmos modifican la lista que reciben como argumento, se hace una copia de `lista_aleatoria` antes de cada llamada. Usamos la versión de `%%timeit` con dos porcentajes para que la copia no forme parte del tiempo medido."
   ]
  },
  {
   "cell_type": "markdown",
   "id": "5ab6c5b0-123c-4fdc-b465-203fa28aa1ad",
   "metadata": {},
   "source": [
    "El método predefinido `list.sort` es bastante más rápido que nuestras funciones. Está implementado en el lenguaje C en lugar de en Python (que comparativamente no cuenta con la eficiencia entre sus numerosas virtudes)."
   ]
  },
  {
   "cell_type": "code",
   "execution_count": 22,
   "id": "81a3ecae-d457-45ac-a5f8-0e851747ac33",
   "metadata": {
    "tags": []
   },
   "outputs": [
    {
     "name": "stdout",
     "output_type": "stream",
     "text": [
      "27.1 µs ± 887 ns per loop (mean ± std. dev. of 7 runs, 100,000 loops each)\n"
     ]
    }
   ],
   "source": [
    "%%timeit\n",
    "tmp = lista_aleatoria.copy()\n",
    "tmp.sort()"
   ]
  },
  {
   "cell_type": "code",
   "execution_count": 23,
   "id": "2c88e9eb-7c66-4bd8-850b-b9f90a7ed9f4",
   "metadata": {
    "tags": []
   },
   "outputs": [
    {
     "name": "stdout",
     "output_type": "stream",
     "text": [
      "31.3 ms ± 10.9 ms per loop (mean ± std. dev. of 7 runs, 10 loops each)\n"
     ]
    }
   ],
   "source": [
    "%%timeit\n",
    "tmp = lista_aleatoria.copy()\n",
    "ordena_burbuja_peor(tmp)"
   ]
  },
  {
   "cell_type": "code",
   "execution_count": 24,
   "id": "fd533ab4-146d-4212-9670-5576a3024c04",
   "metadata": {},
   "outputs": [
    {
     "name": "stdout",
     "output_type": "stream",
     "text": [
      "16.8 ms ± 3.32 ms per loop (mean ± std. dev. of 7 runs, 100 loops each)\n"
     ]
    }
   ],
   "source": [
    "%%timeit\n",
    "tmp = lista_aleatoria.copy()\n",
    "ordena_burbuja_mejor(tmp)"
   ]
  },
  {
   "cell_type": "code",
   "execution_count": 25,
   "id": "229c17be-d524-45e1-bd45-87c4f39c11c7",
   "metadata": {},
   "outputs": [
    {
     "name": "stdout",
     "output_type": "stream",
     "text": [
      "125 µs ± 28.9 µs per loop (mean ± std. dev. of 7 runs, 1,000 loops each)\n"
     ]
    }
   ],
   "source": [
    "%%timeit\n",
    "tmp = lista_aleatoria.copy()\n",
    "ordena_inserción(tmp)"
   ]
  },
  {
   "cell_type": "code",
   "execution_count": 26,
   "id": "dff6fb1c-4779-43f4-a718-4c2d7c119433",
   "metadata": {},
   "outputs": [
    {
     "name": "stdout",
     "output_type": "stream",
     "text": [
      "1.24 ms ± 288 µs per loop (mean ± std. dev. of 7 runs, 1,000 loops each)\n"
     ]
    }
   ],
   "source": [
    "%%timeit\n",
    "tmp = lista_aleatoria.copy()\n",
    "ordena_mezcla(tmp)"
   ]
  },
  {
   "cell_type": "markdown",
   "id": "6c4e4d06-d0fb-4d19-9472-8fef2b1fb7d1",
   "metadata": {},
   "source": [
    "La implementación de `ordena_mezcla` utiliza la operación de tomar una sublista `v[n:m]` que genera una copia de la lista original. ¿Sería más eficiente generalizar `ordena_mezcla` con los límites de la sublista a ordenar para evitar esas copias?"
   ]
  },
  {
   "cell_type": "code",
   "execution_count": 27,
   "id": "74a9f959-ce0b-4dd0-9ce1-e7ddef6521e3",
   "metadata": {
    "tags": []
   },
   "outputs": [],
   "source": [
    "def ordena_mezcla_lims_aux(v: list, n: int, m: int):\n",
    "    # La lista vacía o de un solo elemento está ordenada (caso base)\n",
    "    if m - n <= 1:\n",
    "        return v[n:m]\n",
    "    \n",
    "    # Parte la lista por la mitad (caso recursivo)\n",
    "    mitad = (n + m) // 2\n",
    "    \n",
    "    # Ordena recursivamente cada mitad de la lista\n",
    "    izda = ordena_mezcla_lims_aux(v, n, mitad)\n",
    "    dcha = ordena_mezcla_lims_aux(v, mitad, m)\n",
    "    \n",
    "    # Mezcla ambas listas\n",
    "    return mezcla(izda, dcha)\n",
    "\n",
    "def ordena_mezcla_lims(v: list):\n",
    "    return ordena_mezcla_lims_aux(v, 0, len(v))"
   ]
  },
  {
   "cell_type": "code",
   "execution_count": 28,
   "id": "22be1d41-6dec-475a-888e-ddbe20940adb",
   "metadata": {
    "tags": []
   },
   "outputs": [
    {
     "name": "stdout",
     "output_type": "stream",
     "text": [
      "1.45 ms ± 483 µs per loop (mean ± std. dev. of 7 runs, 1,000 loops each)\n"
     ]
    }
   ],
   "source": [
    "%%timeit\n",
    "tmp = lista_aleatoria.copy()\n",
    "ordena_mezcla_lims(tmp)"
   ]
  },
  {
   "cell_type": "markdown",
   "id": "cacc5f63-fc55-4f59-9d94-7dfad473eb47",
   "metadata": {
    "tags": []
   },
   "source": [
    "## ¿Qué algoritmo usa Python?\n",
    "\n",
    "En la implementación oficial de Python, `sorted` y `sort` usan [Timsort](https://en.wikipedia.org/wiki/Timsort), una combinación de la ordenación por mezcla y la ordenación por inserción."
   ]
  },
  {
   "cell_type": "markdown",
   "id": "be36f46c-8118-4443-afbf-d79d6f0b1cb3",
   "metadata": {
    "notoc": true,
    "pretex": "\\small",
    "tags": []
   },
   "source": [
    "## Referencias\n",
    "\n",
    "* §12.2 «Sorting algorithms» del [libro de Guttag](https://ucm.on.worldcat.org/oclc/1347116367) (§10.2 en la [edición de 2013](https://ucm.on.worldcat.org/oclc/1025935018)).\n",
    "* §5.2 «Internal sorting» del libro [The Art of Computer Programming Vol. 3 «Sorting and Searching»](https://ucm.on.worldcat.org/oclc/1025547052) de Donald Knuth.\n",
    "* §2.1 «Insertion sort» y §8.1 «Lower bounds for sorting» del [libro de Cormen, Leiserson, Rivest y Stein](https://ucm.on.worldcat.org/oclc/1319462289).\n",
    "* «[*Sorting the slow way: an analysis of perversely awful randomized sorting algorithms*](https://doi.org/10.1007/978-3-540-72914-3_17)» de Gruber, Holzer y Ruepp en FUN 2007 (stupid sort)."
   ]
  }
 ],
 "metadata": {
  "authors": [
   {
    "name": "Rubén Rubio"
   }
  ],
  "kernelspec": {
   "display_name": "Python 3 (ipykernel)",
   "language": "python",
   "name": "python3"
  },
  "language_info": {
   "codemirror_mode": {
    "name": "ipython",
    "version": 3
   },
   "file_extension": ".py",
   "mimetype": "text/x-python",
   "name": "python",
   "nbconvert_exporter": "python",
   "pygments_lexer": "ipython3",
   "version": "3.11.3"
  }
 },
 "nbformat": 4,
 "nbformat_minor": 5
}
