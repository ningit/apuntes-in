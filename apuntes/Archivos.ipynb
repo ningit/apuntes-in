{
 "cells": [
  {
   "cell_type": "markdown",
   "id": "2da9bb9d-2474-44a7-ba63-9a74a5fc6586",
   "metadata": {
    "tags": []
   },
   "source": [
    "# Archivos"
   ]
  },
  {
   "cell_type": "markdown",
   "id": "70895367-73e5-4649-97a5-0e7761eaaeb1",
   "metadata": {},
   "source": [
    "Si queremos almacenar información y consultar información almacenada necesitamos escribir y leer archivos."
   ]
  },
  {
   "cell_type": "markdown",
   "id": "a996c580-18a6-4cbd-9de1-d469cb973fd1",
   "metadata": {
    "img_width": ".9\\linewidth",
    "tags": []
   },
   "source": [
    "![Ilustración de un archivo como una secuencia de caracteres](img/archivo.svg)"
   ]
  },
  {
   "cell_type": "markdown",
   "id": "f256b5f8-f77f-4381-ac40-043a7643e67b",
   "metadata": {},
   "source": [
    "## Lectura de archivos\n",
    "\n",
    "Para poder leer el contenido de un archivo, primero es necesario abrirlo con la función predefinida `open`, que recibe el nombre de dicho archivo. Este puede ser una ruta relativa (por ejemplo, `poema.txt` para leer el archivo con ese nombre en la carpeta actual u `otros/poema.txt` para leer el archivo homónimo en la subcarpeta `otros` de la actual) o absoluta (como `/home/usuario/Documentos/poema.txt` en Linux/macOS o `C:\\\\Users\\usuario\\Documents\\poema.txt` en Windows)."
   ]
  },
  {
   "cell_type": "code",
   "execution_count": 1,
   "id": "4d8cdeb7-6e47-4377-a86d-a78e15213517",
   "metadata": {},
   "outputs": [],
   "source": [
    "txt = open('poema.txt')"
   ]
  },
  {
   "cell_type": "markdown",
   "id": "20ad5a2c-5fc0-4375-a0a5-0fed32c2f696",
   "metadata": {},
   "source": [
    "El objeto `txt` ofrece diversos métodos para manipular el archivo que veremos enseguida. Cuando se haya terminado de utilizar, el archivo se ha de cerrar para liberar los recursos ocupados y evitar pérdidas de datos."
   ]
  },
  {
   "cell_type": "code",
   "execution_count": 2,
   "id": "7dea2242-3d3a-4bf5-b437-e8cf0f542d98",
   "metadata": {},
   "outputs": [],
   "source": [
    "txt.close()"
   ]
  },
  {
   "cell_type": "markdown",
   "id": "be149b78-6723-403e-9966-44937bb6005f",
   "metadata": {},
   "source": [
    "La importancia de cerrar los archivos es relativa, especialmente en programas cortos. Sin embargo, para evitar descuidos y complicaciones, Python incluye un muy recomendable bloque `with` que se encarga de cerrar el archivo cuando se sale de él."
   ]
  },
  {
   "cell_type": "code",
   "execution_count": 3,
   "id": "285ab59d-5907-4595-9711-0b2a58d3abb5",
   "metadata": {},
   "outputs": [],
   "source": [
    "with open('poema.txt') as txt:\n",
    "    pass # <operaciones sobre el archivo>"
   ]
  },
  {
   "cell_type": "markdown",
   "id": "8d5c9496-77d0-43ec-8888-f4059161db49",
   "metadata": {},
   "source": [
    "En este cuaderno de Jupyter no usaremos `with` para poder introducir texto entre las celdas de código."
   ]
  },
  {
   "cell_type": "code",
   "execution_count": 4,
   "id": "42f37ef4-4ae7-42d9-93d4-9805b55b526d",
   "metadata": {},
   "outputs": [],
   "source": [
    "txt = open('poema.txt')"
   ]
  },
  {
   "cell_type": "markdown",
   "id": "e0a11a5f-a216-45ce-8f2c-82ac6c8d7ba9",
   "metadata": {},
   "source": [
    "Hay diversas formas de leer el contenido de un archivo:\n",
    "* Leyendo el archivo entero como una cadena de texto con `read`."
   ]
  },
  {
   "cell_type": "code",
   "execution_count": 5,
   "id": "9fc608db-3806-4e60-a269-22acebead851",
   "metadata": {},
   "outputs": [
    {
     "data": {
      "text/plain": [
       "'Un soneto me manda hacer Violante,\\nque en mi vida me he visto en tal aprieto:\\nCatorce versos dicen que es soneto:\\nBurla burlando van los tres delante.\\n\\nYo pensé que no hallara consonante\\ny estoy a la mitad de otro cuarteto:\\nMas si me veo en el primer terceto\\nno hay cosa en los cuartetos que me espante.\\n\\nPor el primer terceto voy entrando\\ny parece que entré con pie derecho,\\npues fin con este verso le voy dando.\\n\\nYa estoy en el segundo, y aun sospecho\\nque estoy los trece versos acabando:\\ncontad si son catorce, y está hecho.'"
      ]
     },
     "execution_count": 5,
     "metadata": {},
     "output_type": "execute_result"
    }
   ],
   "source": [
    "txt.read()"
   ]
  },
  {
   "cell_type": "code",
   "execution_count": 6,
   "id": "2884c727-c1e4-427d-9ccd-b9b780460b31",
   "metadata": {},
   "outputs": [
    {
     "name": "stdout",
     "output_type": "stream",
     "text": [
      "Help on built-in function read:\n",
      "\n",
      "read(size=-1, /) method of _io.TextIOWrapper instance\n",
      "    Read at most n characters from stream.\n",
      "    \n",
      "    Read from underlying buffer until we have n characters or we hit EOF.\n",
      "    If n is negative or omitted, read until EOF.\n",
      "\n"
     ]
    }
   ],
   "source": [
    "help(txt.read) # EOF = end of file (fin del archivo)"
   ]
  },
  {
   "cell_type": "markdown",
   "id": "ff92da06-0082-4e74-994d-65cd99b968dc",
   "metadata": {},
   "source": [
    "Esto no siempre es conveniente, pues el tamaño del archivo podría exceder u ocupar innecesariamente la memoria disponible del ordenador al quedar almacenado en una cadena. Como dice la documentación de la función `read`, esta admite también un argumento `size` para limitar el número máximo de caracteres que se leerán.\n",
    "\n",
    "* Leyendo fragmentos del contenido con `read(n)`."
   ]
  },
  {
   "cell_type": "code",
   "execution_count": 7,
   "id": "ae918443-cd5b-44fd-a8b2-5c4252d7758c",
   "metadata": {},
   "outputs": [
    {
     "data": {
      "text/plain": [
       "''"
      ]
     },
     "execution_count": 7,
     "metadata": {},
     "output_type": "execute_result"
    }
   ],
   "source": [
    "txt.read(20)"
   ]
  },
  {
   "cell_type": "markdown",
   "id": "840e73a1-e40c-4d89-a933-6096f13c708b",
   "metadata": {},
   "source": [
    "El método `read` no ha leído nada porque el cursor de lectura de `txt` está al final del archivo tras la última lectura con `read()`. El objeto archivo `txt` tiene asociada una posición en el documento que se va desplazando con cada lectura. En un archivo regular, es posible moverse hasta una posición arbitraria, por ejemplo, rebobinar hasta el principio del archivo."
   ]
  },
  {
   "cell_type": "code",
   "execution_count": 8,
   "id": "b6477de1-fd5b-4fe6-ae06-44cef9d32a8a",
   "metadata": {},
   "outputs": [
    {
     "data": {
      "text/plain": [
       "0"
      ]
     },
     "execution_count": 8,
     "metadata": {},
     "output_type": "execute_result"
    }
   ],
   "source": [
    "txt.seek(0)"
   ]
  },
  {
   "cell_type": "code",
   "execution_count": 9,
   "id": "a508c614-2946-495b-8d34-2985b4bdcd8d",
   "metadata": {},
   "outputs": [
    {
     "data": {
      "text/plain": [
       "'Un soneto me manda h'"
      ]
     },
     "execution_count": 9,
     "metadata": {},
     "output_type": "execute_result"
    }
   ],
   "source": [
    "txt.read(20)"
   ]
  },
  {
   "cell_type": "code",
   "execution_count": 10,
   "id": "15e87d2b-0116-44cd-9cdd-de8c3981989a",
   "metadata": {},
   "outputs": [
    {
     "data": {
      "text/plain": [
       "'acer Violante,\\nque e'"
      ]
     },
     "execution_count": 10,
     "metadata": {},
     "output_type": "execute_result"
    }
   ],
   "source": [
    "txt.read(20)"
   ]
  },
  {
   "cell_type": "code",
   "execution_count": 11,
   "id": "d30e8d54-c533-4317-a162-756a9749c2d5",
   "metadata": {},
   "outputs": [
    {
     "data": {
      "text/plain": [
       "40"
      ]
     },
     "execution_count": 11,
     "metadata": {},
     "output_type": "execute_result"
    }
   ],
   "source": [
    "txt.tell()  # devuelve la posición actual (20 + 20)"
   ]
  },
  {
   "cell_type": "markdown",
   "id": "a725cfba-ebbb-4ff4-a007-1c70078c68ad",
   "metadata": {},
   "source": [
    "En muchos casos, como en el ejemplo anterior, leer un número fijo de caracteres no tiene demasiado sentido. Es más razonable leer línea a línea, ya que estas tienen sentido propio.\n",
    "\n",
    "* Leyendo línea a línea con `readline` o iterando sobre el archivo."
   ]
  },
  {
   "cell_type": "code",
   "execution_count": 12,
   "id": "52230d76-0b05-4014-b268-12e18b4d78cd",
   "metadata": {},
   "outputs": [
    {
     "data": {
      "text/plain": [
       "'n mi vida me he visto en tal aprieto:\\n'"
      ]
     },
     "execution_count": 12,
     "metadata": {},
     "output_type": "execute_result"
    }
   ],
   "source": [
    "txt.readline()"
   ]
  },
  {
   "cell_type": "code",
   "execution_count": 13,
   "id": "23ad35c6-8ca6-4c0f-9d43-7ffb77bbd467",
   "metadata": {},
   "outputs": [
    {
     "data": {
      "text/plain": [
       "'Catorce versos dicen que es soneto:\\n'"
      ]
     },
     "execution_count": 13,
     "metadata": {},
     "output_type": "execute_result"
    }
   ],
   "source": [
    "txt.readline()"
   ]
  },
  {
   "cell_type": "code",
   "execution_count": 14,
   "id": "1d4f97eb-f83c-472d-bab4-d148e18a561d",
   "metadata": {},
   "outputs": [
    {
     "name": "stdout",
     "output_type": "stream",
     "text": [
      "36 Burla burlando van los tres delante.\n",
      "0 \n",
      "34 Yo pensé que no hallara consonante\n",
      "36 y estoy a la mitad de otro cuarteto:\n",
      "34 Mas si me veo en el primer terceto\n",
      "44 no hay cosa en los cuartetos que me espante.\n",
      "0 \n",
      "34 Por el primer terceto voy entrando\n",
      "35 y parece que entré con pie derecho,\n",
      "37 pues fin con este verso le voy dando.\n",
      "0 \n",
      "38 Ya estoy en el segundo, y aun sospecho\n",
      "36 que estoy los trece versos acabando:\n",
      "36 contad si son catorce, y está hecho.\n"
     ]
    }
   ],
   "source": [
    "for línea in txt:\n",
    "    línea = línea.rstrip()\n",
    "    print(len(línea), línea)"
   ]
  },
  {
   "cell_type": "markdown",
   "id": "12c0cb71-21ac-4a0d-a31f-ff2d956d7941",
   "metadata": {},
   "source": [
    "El objeto `txt` es iterable y devuelve sucesivamente las líneas del archivo desde la posición actual. Estas cadenas incluyen el carácter `'\\n'` de salto de línea, que se puede descartar junto con el resto de espacio en blanco con el método `rstrip` (o simplemente `strip`) de `str`."
   ]
  },
  {
   "cell_type": "code",
   "execution_count": 15,
   "id": "c795bb79-15c3-431b-9d18-8bd385d81302",
   "metadata": {},
   "outputs": [],
   "source": [
    "txt.close()"
   ]
  },
  {
   "cell_type": "markdown",
   "id": "c1c5a19c-2d69-4a9c-9df0-21a1c49d8daf",
   "metadata": {},
   "source": [
    "**Ejemplo 1:** dado un archivo que contiene un poema, queremos obtener el número de versos de cada estrofa."
   ]
  },
  {
   "cell_type": "code",
   "execution_count": 16,
   "id": "985067cb-46b5-460a-90fb-0b06a6c189ff",
   "metadata": {},
   "outputs": [],
   "source": [
    "def estrofas(nombre: str) -> list[int]:\n",
    "    estrofas = []  # Versos en las estrofas anteriores\n",
    "    versos = 0  # Versos en la estrofa actual \n",
    "    \n",
    "    with open(nombre) as poema:\n",
    "        for línea in poema:\n",
    "            # Una línea vacía termina la estrofa\n",
    "            if línea == '\\n':\n",
    "                estrofas.append(versos)\n",
    "                versos = 0\n",
    "            else:\n",
    "                versos += 1\n",
    "    \n",
    "    # El final del archivo también termina una estrofa\n",
    "    estrofas.append(versos)\n",
    "    \n",
    "    return estrofas"
   ]
  },
  {
   "cell_type": "code",
   "execution_count": 17,
   "id": "4168d28a-6e51-41f5-8dea-039a573d90ed",
   "metadata": {},
   "outputs": [
    {
     "data": {
      "text/plain": [
       "[4, 4, 3, 3]"
      ]
     },
     "execution_count": 17,
     "metadata": {},
     "output_type": "execute_result"
    }
   ],
   "source": [
    "estrofas('poema.txt')"
   ]
  },
  {
   "cell_type": "markdown",
   "id": "7cfdb59a-abbb-4386-971c-ad6197721a55",
   "metadata": {},
   "source": [
    "## Escritura de archivos\n",
    "\n",
    "La escritura de archivos sigue un procedimiento muy semejante al de la lectura. El archivo se ha de abrir con la función `open`, pero en este caso usando un argumento adicional `'w'` (*write*) que indica que se escribirá en él."
   ]
  },
  {
   "cell_type": "code",
   "execution_count": 18,
   "id": "d4947e25-f89f-4f35-9192-384b4526647d",
   "metadata": {},
   "outputs": [],
   "source": [
    "txt = open('salida.txt', 'w')"
   ]
  },
  {
   "cell_type": "markdown",
   "id": "a4879b3a-45a2-4682-aa71-053c01a25669",
   "metadata": {},
   "source": [
    "Si el archivo ya existe, el modo `'w'` descarta el contenido anterior y empezará a escribir al principio del archivo. En cambio, el modo alternativo `'a'` (*append*) mantiene el contenido anterior y empezará a escribir justo después de él. El método más sencillo para escribir es `write`, que recibe una cadena de caracteres."
   ]
  },
  {
   "cell_type": "code",
   "execution_count": 19,
   "id": "832668d0-d6e8-4a1d-a0f9-128472b9b1b6",
   "metadata": {},
   "outputs": [
    {
     "data": {
      "text/plain": [
       "26"
      ]
     },
     "execution_count": 19,
     "metadata": {},
     "output_type": "execute_result"
    }
   ],
   "source": [
    "txt.write('Primera línea del archivo\\n')  # devuelve el número de caracteres escritos"
   ]
  },
  {
   "cell_type": "markdown",
   "id": "98b546bb-0771-457c-b64a-38093b46bbc5",
   "metadata": {},
   "source": [
    "Este método no admite otros tipos de datos, como enteros, que será necesario convertir."
   ]
  },
  {
   "cell_type": "code",
   "execution_count": 20,
   "id": "53cd9dcd-fd00-456d-92a0-ac56d95e2b2f",
   "metadata": {},
   "outputs": [
    {
     "ename": "TypeError",
     "evalue": "write() argument must be str, not int",
     "output_type": "error",
     "traceback": [
      "\u001b[0;31m---------------------------------------------------------------------------\u001b[0m",
      "\u001b[0;31mTypeError\u001b[0m                                 Traceback (most recent call last)",
      "Cell \u001b[0;32mIn[20], line 1\u001b[0m\n\u001b[0;32m----> 1\u001b[0m \u001b[43mtxt\u001b[49m\u001b[38;5;241;43m.\u001b[39;49m\u001b[43mwrite\u001b[49m\u001b[43m(\u001b[49m\u001b[38;5;241;43m33\u001b[39;49m\u001b[43m)\u001b[49m  \u001b[38;5;66;03m# mal\u001b[39;00m\n",
      "\u001b[0;31mTypeError\u001b[0m: write() argument must be str, not int"
     ]
    }
   ],
   "source": [
    "txt.write(33)  # mal"
   ]
  },
  {
   "cell_type": "code",
   "execution_count": 21,
   "id": "1996fe5d-1584-415f-b938-f81695919ad5",
   "metadata": {},
   "outputs": [
    {
     "data": {
      "text/plain": [
       "2"
      ]
     },
     "execution_count": 21,
     "metadata": {},
     "output_type": "execute_result"
    }
   ],
   "source": [
    "txt.write(str(33))  # bien"
   ]
  },
  {
   "cell_type": "markdown",
   "id": "9f165c29-11cb-41ce-b3c6-5e94a0a559d6",
   "metadata": {},
   "source": [
    "La función `print` que hemos utilizado para escribir texto por pantalla también se puede utilizar sobre un archivo, indicándolo con el parámetro `file`."
   ]
  },
  {
   "cell_type": "code",
   "execution_count": 22,
   "id": "39134402-ef62-4861-95e1-3c153d2e181d",
   "metadata": {},
   "outputs": [],
   "source": [
    "print('Segunda línea con', 33, file=txt)"
   ]
  },
  {
   "cell_type": "code",
   "execution_count": 23,
   "id": "7abc69fd-eca4-4257-a93f-7462f44fdbe5",
   "metadata": {},
   "outputs": [],
   "source": [
    "txt.close()"
   ]
  },
  {
   "cell_type": "markdown",
   "id": "1913fdb8-fea3-48bb-93d9-6c64b05eef2e",
   "metadata": {},
   "source": [
    "Tras las anteriores operaciones, el contenido de `salida.txt` es el siguiente:"
   ]
  },
  {
   "cell_type": "code",
   "execution_count": 24,
   "id": "bebbc303-26e1-4cce-b790-9b7fb4177dc3",
   "metadata": {},
   "outputs": [
    {
     "name": "stdout",
     "output_type": "stream",
     "text": [
      "Primera línea del archivo\n",
      "33Segunda línea con 33\n",
      "\n"
     ]
    }
   ],
   "source": [
    "def print_file(nombre: str):\n",
    "    with open(nombre) as txt:\n",
    "        print(txt.read())\n",
    "\n",
    "print_file('salida.txt')"
   ]
  },
  {
   "cell_type": "markdown",
   "id": "a97571fe-ca99-41f1-bd5d-ce01343865a9",
   "metadata": {},
   "source": [
    "**Ejemplo 2:** dado un archivo que contiene en cada línea una lista de números separados por espacios, queremos calcular las sumas de cada línea y guardarlas en un archivo."
   ]
  },
  {
   "cell_type": "code",
   "execution_count": 25,
   "id": "0db7b24c-1311-4d9b-8ec1-75b70cd29709",
   "metadata": {},
   "outputs": [],
   "source": [
    "def suma_líneas(nombre_origen: str, nombre_destino: str):\n",
    "    with open(nombre_origen) as origen, open(nombre_destino, 'w') as destino:\n",
    "        for línea in origen:\n",
    "            suma = sum(float(n) for n in línea.split())\n",
    "            print(suma, file=destino)"
   ]
  },
  {
   "cell_type": "code",
   "execution_count": 26,
   "id": "7a0394cb-4ad5-4bc4-974a-bc6aa7015f6d",
   "metadata": {},
   "outputs": [],
   "source": [
    "suma_líneas('números.txt', 'salida.txt')"
   ]
  },
  {
   "cell_type": "code",
   "execution_count": 27,
   "id": "7be1fdc2-4b12-4ad9-a06f-755fca65962b",
   "metadata": {},
   "outputs": [
    {
     "name": "stdout",
     "output_type": "stream",
     "text": [
      "507.63\n",
      "23.01\n",
      "376.0\n",
      "70.32\n",
      "209.17999999999998\n",
      "160.0\n",
      "477.74\n",
      "249.29\n",
      "338.8\n",
      "50.26\n",
      "452.47\n",
      "128.28\n",
      "\n"
     ]
    }
   ],
   "source": [
    "print_file('salida.txt')"
   ]
  },
  {
   "cell_type": "markdown",
   "id": "1d5c3a84-c30c-4335-a137-3e49575da82e",
   "metadata": {},
   "source": [
    "Como cualquier otro objeto, los archivos también se pueden pasar como argumentos a las funciones y esto puede resultar conveniente en diversas circunstancias."
   ]
  },
  {
   "cell_type": "code",
   "execution_count": 28,
   "id": "618cbd7d-3a2c-4905-a429-848b6ffb9af7",
   "metadata": {},
   "outputs": [],
   "source": [
    "def suma_líneas2(origen, destino):  # recibe dos archivos ya abiertos\n",
    "    for línea in origen:  # copiado del suma_líneas anterior\n",
    "        suma = sum(float(n) for n in línea.split())\n",
    "        print(suma, file=destino)"
   ]
  },
  {
   "cell_type": "code",
   "execution_count": 29,
   "id": "1582e9b0-ad8d-4b1f-aa90-65ff33379a03",
   "metadata": {},
   "outputs": [
    {
     "name": "stdout",
     "output_type": "stream",
     "text": [
      "507.63\n",
      "23.01\n",
      "376.0\n",
      "70.32\n",
      "209.17999999999998\n",
      "160.0\n",
      "477.74\n",
      "249.29\n",
      "338.8\n",
      "50.26\n",
      "452.47\n",
      "128.28\n"
     ]
    }
   ],
   "source": [
    "import sys  # módulo con parámetros y funciones del sistema\n",
    "\n",
    "with open('números.txt') as origen:\n",
    "    suma_líneas2(origen, sys.stdout)"
   ]
  },
  {
   "cell_type": "markdown",
   "id": "0227ca46-ea10-4a48-a13e-a817416ac970",
   "metadata": {},
   "source": [
    "La salida estándar es un archivo accesible en la variable `sys.stdout`. Pasándola como argumento hemos hecho que el resultado se imprima directamente en pantalla. La entrada estándar (de la que lee la función `input`) se corresponde con la variable `sys.stdin`."
   ]
  },
  {
   "cell_type": "markdown",
   "id": "3abc4331-a05c-4ab8-a5ba-4d7a55619dd7",
   "metadata": {},
   "source": [
    "## Errores comunes\n",
    "\n",
    "* Intentar abrir un archivo que no es de texto (imágenes, grabaciones, vídeos, etc)."
   ]
  },
  {
   "cell_type": "code",
   "execution_count": 30,
   "id": "32bc07c3-023a-4746-ac5b-722bd151c0d9",
   "metadata": {},
   "outputs": [
    {
     "ename": "UnicodeDecodeError",
     "evalue": "'utf-8' codec can't decode byte 0xe4 in position 10: invalid continuation byte",
     "output_type": "error",
     "traceback": [
      "\u001b[0;31m---------------------------------------------------------------------------\u001b[0m",
      "\u001b[0;31mUnicodeDecodeError\u001b[0m                        Traceback (most recent call last)",
      "Cell \u001b[0;32mIn[30], line 2\u001b[0m\n\u001b[1;32m      1\u001b[0m \u001b[38;5;28;01mwith\u001b[39;00m \u001b[38;5;28mopen\u001b[39m(\u001b[38;5;124m'\u001b[39m\u001b[38;5;124mpdf/Archivos.pdf\u001b[39m\u001b[38;5;124m'\u001b[39m) \u001b[38;5;28;01mas\u001b[39;00m pdf:\n\u001b[0;32m----> 2\u001b[0m     \u001b[38;5;28mprint\u001b[39m(\u001b[43mpdf\u001b[49m\u001b[38;5;241;43m.\u001b[39;49m\u001b[43mread\u001b[49m\u001b[43m(\u001b[49m\u001b[38;5;241;43m20\u001b[39;49m\u001b[43m)\u001b[49m)\n",
      "File \u001b[0;32m<frozen codecs>:322\u001b[0m, in \u001b[0;36mdecode\u001b[0;34m(self, input, final)\u001b[0m\n",
      "\u001b[0;31mUnicodeDecodeError\u001b[0m: 'utf-8' codec can't decode byte 0xe4 in position 10: invalid continuation byte"
     ]
    }
   ],
   "source": [
    "with open('pdf/Archivos.pdf') as pdf:\n",
    "    print(pdf.read(20))"
   ]
  },
  {
   "cell_type": "markdown",
   "id": "953197a5-9a6c-4c64-872d-033888d8e403",
   "metadata": {},
   "source": [
    "Los archivos *binarios* también se pueden abrir con `'rb'` (`'wb'` o `'ab'` para escritura) como segundo argumento de `open`, pero esto no lo veremos en la asignatura.\n",
    "\n",
    "* Intentar escribir en un archivo abierto para lectura."
   ]
  },
  {
   "cell_type": "code",
   "execution_count": 31,
   "id": "c5ad56ae-75b0-4edb-8806-8b4562c68e2c",
   "metadata": {
    "tags": []
   },
   "outputs": [
    {
     "ename": "UnsupportedOperation",
     "evalue": "not writable",
     "output_type": "error",
     "traceback": [
      "\u001b[0;31m---------------------------------------------------------------------------\u001b[0m",
      "\u001b[0;31mUnsupportedOperation\u001b[0m                      Traceback (most recent call last)",
      "Cell \u001b[0;32mIn[31], line 2\u001b[0m\n\u001b[1;32m      1\u001b[0m \u001b[38;5;28;01mwith\u001b[39;00m \u001b[38;5;28mopen\u001b[39m(\u001b[38;5;124m'\u001b[39m\u001b[38;5;124mpoema.txt\u001b[39m\u001b[38;5;124m'\u001b[39m) \u001b[38;5;28;01mas\u001b[39;00m txt:\n\u001b[0;32m----> 2\u001b[0m     \u001b[43mtxt\u001b[49m\u001b[38;5;241;43m.\u001b[39;49m\u001b[43mwrite\u001b[49m\u001b[43m(\u001b[49m\u001b[38;5;124;43m'\u001b[39;49m\u001b[38;5;124;43mEs la tierra de Soria árida y fría.\u001b[39;49m\u001b[38;5;130;43;01m\\n\u001b[39;49;00m\u001b[38;5;124;43m'\u001b[39;49m\u001b[43m)\u001b[49m\n",
      "\u001b[0;31mUnsupportedOperation\u001b[0m: not writable"
     ]
    }
   ],
   "source": [
    "with open('poema.txt') as txt:\n",
    "    txt.write('Es la tierra de Soria árida y fría.\\n')"
   ]
  },
  {
   "cell_type": "markdown",
   "id": "8dcfe90a-481e-49c8-bb78-4170a738d87e",
   "metadata": {
    "tags": []
   },
   "source": [
    "* Intentar abrir un archivo que no existe."
   ]
  },
  {
   "cell_type": "code",
   "execution_count": 32,
   "id": "44ea6580-e122-46ec-af28-8bcb168d98b9",
   "metadata": {},
   "outputs": [
    {
     "ename": "FileNotFoundError",
     "evalue": "[Errno 2] No such file or directory: 'archivo_inexistente.txt'",
     "output_type": "error",
     "traceback": [
      "\u001b[0;31m---------------------------------------------------------------------------\u001b[0m",
      "\u001b[0;31mFileNotFoundError\u001b[0m                         Traceback (most recent call last)",
      "Cell \u001b[0;32mIn[32], line 1\u001b[0m\n\u001b[0;32m----> 1\u001b[0m \u001b[38;5;28;01mwith\u001b[39;00m \u001b[38;5;28;43mopen\u001b[39;49m\u001b[43m(\u001b[49m\u001b[38;5;124;43m'\u001b[39;49m\u001b[38;5;124;43marchivo_inexistente.txt\u001b[39;49m\u001b[38;5;124;43m'\u001b[39;49m\u001b[43m)\u001b[49m \u001b[38;5;28;01mas\u001b[39;00m txt:\n\u001b[1;32m      2\u001b[0m     \u001b[38;5;28;01mpass\u001b[39;00m\n",
      "File \u001b[0;32m/usr/lib/python3.11/site-packages/IPython/core/interactiveshell.py:284\u001b[0m, in \u001b[0;36m_modified_open\u001b[0;34m(file, *args, **kwargs)\u001b[0m\n\u001b[1;32m    277\u001b[0m \u001b[38;5;28;01mif\u001b[39;00m file \u001b[38;5;129;01min\u001b[39;00m {\u001b[38;5;241m0\u001b[39m, \u001b[38;5;241m1\u001b[39m, \u001b[38;5;241m2\u001b[39m}:\n\u001b[1;32m    278\u001b[0m     \u001b[38;5;28;01mraise\u001b[39;00m \u001b[38;5;167;01mValueError\u001b[39;00m(\n\u001b[1;32m    279\u001b[0m         \u001b[38;5;124mf\u001b[39m\u001b[38;5;124m\"\u001b[39m\u001b[38;5;124mIPython won\u001b[39m\u001b[38;5;124m'\u001b[39m\u001b[38;5;124mt let you open fd=\u001b[39m\u001b[38;5;132;01m{\u001b[39;00mfile\u001b[38;5;132;01m}\u001b[39;00m\u001b[38;5;124m by default \u001b[39m\u001b[38;5;124m\"\u001b[39m\n\u001b[1;32m    280\u001b[0m         \u001b[38;5;124m\"\u001b[39m\u001b[38;5;124mas it is likely to crash IPython. If you know what you are doing, \u001b[39m\u001b[38;5;124m\"\u001b[39m\n\u001b[1;32m    281\u001b[0m         \u001b[38;5;124m\"\u001b[39m\u001b[38;5;124myou can use builtins\u001b[39m\u001b[38;5;124m'\u001b[39m\u001b[38;5;124m open.\u001b[39m\u001b[38;5;124m\"\u001b[39m\n\u001b[1;32m    282\u001b[0m     )\n\u001b[0;32m--> 284\u001b[0m \u001b[38;5;28;01mreturn\u001b[39;00m \u001b[43mio_open\u001b[49m\u001b[43m(\u001b[49m\u001b[43mfile\u001b[49m\u001b[43m,\u001b[49m\u001b[43m \u001b[49m\u001b[38;5;241;43m*\u001b[39;49m\u001b[43margs\u001b[49m\u001b[43m,\u001b[49m\u001b[43m \u001b[49m\u001b[38;5;241;43m*\u001b[39;49m\u001b[38;5;241;43m*\u001b[39;49m\u001b[43mkwargs\u001b[49m\u001b[43m)\u001b[49m\n",
      "\u001b[0;31mFileNotFoundError\u001b[0m: [Errno 2] No such file or directory: 'archivo_inexistente.txt'"
     ]
    }
   ],
   "source": [
    "with open('archivo_inexistente.txt') as txt:\n",
    "    pass"
   ]
  },
  {
   "cell_type": "markdown",
   "id": "d3ca2fbd-9635-4418-b3d8-86ac44e2cb8b",
   "metadata": {},
   "source": [
    "El programador puede capturar explícitamente estos *errores* para que no interrumpan el programa, como veremos de pasada en uno de los últimos temas (una referencia es el [tutorial de Python](https://docs.python.org/3/tutorial/errors.html)). Existen formas más familiares de comprobar que un archivo existe antes de abrirlo."
   ]
  },
  {
   "cell_type": "code",
   "execution_count": 33,
   "id": "e1e03f2a-1f9d-4ee9-86d3-9705206c4c98",
   "metadata": {},
   "outputs": [
    {
     "data": {
      "text/plain": [
       "False"
      ]
     },
     "execution_count": 33,
     "metadata": {},
     "output_type": "execute_result"
    }
   ],
   "source": [
    "import os  # funcionalidades del sistema operativo (archivos, procesos...)\n",
    "\n",
    "os.path.exists('archivo_inexistente.txt')"
   ]
  },
  {
   "cell_type": "code",
   "execution_count": 34,
   "id": "59e5e31e-dd9e-45d2-b9c1-d1b94cefd092",
   "metadata": {},
   "outputs": [
    {
     "data": {
      "text/plain": [
       "False"
      ]
     },
     "execution_count": 34,
     "metadata": {},
     "output_type": "execute_result"
    }
   ],
   "source": [
    "# comprueba además que sea un archivo y no un directorio\n",
    "os.path.isfile('pdf')"
   ]
  },
  {
   "cell_type": "markdown",
   "id": "4bfc87f3-4919-4a1d-8399-fd43b69eb239",
   "metadata": {},
   "source": [
    "El paquete [`os`](https://docs.python.org/3/library/os.html) proporciona cantidad de funciones para obtener información sobre archivos, directorios y otros aspectos del sistema. Lo más conveniente en consultar su documentación cuando se quiera hacer algo de eso. "
   ]
  },
  {
   "cell_type": "markdown",
   "id": "3630ec37-f77d-41f8-8e57-c246ee18be3c",
   "metadata": {},
   "source": [
    "## [Extra] Argumentos de la línea de comandos\n",
    "\n",
    "En algunos casos los programas trabajan con archivos fijos cuyo nombre se puede incluir directamente en el programa, pero es habitual que el nombre del archivo sea un parámetro en ejecución del programa. Por ejemplo, cuando uno quiere ejecutar un script de Python pasa el nombre del archivo como argumento a su comando, `python mi_script.py`. O cuando uno hace clic en un icono del explorador de archivos, este llama al programa configurado para manejarlo con el nombre del archivo como primer argumento.\n",
    "\n",
    "En Python, los argumentos de la línea de comandos se pueden consultar en la variable `argv` (*argument vector*) del paquete `sys`. El primer argumento es siempre el nombre del script de Python y los siguientes son los argumentos que se han pasado a continuación. "
   ]
  },
  {
   "cell_type": "code",
   "execution_count": 35,
   "id": "50e24ee8-8b45-4e5a-8fad-07a9589f815d",
   "metadata": {
    "tags": []
   },
   "outputs": [
    {
     "data": {
      "text/plain": [
       "['/usr/lib/python3.11/site-packages/ipykernel_launcher.py',\n",
       " '-f',\n",
       " '/tmp/tmpex3mtysv.json']"
      ]
     },
     "execution_count": 35,
     "metadata": {},
     "output_type": "execute_result"
    }
   ],
   "source": [
    "sys.argv"
   ]
  },
  {
   "cell_type": "markdown",
   "id": "cc1e079a-4de0-4614-98ac-34e9e5572abd",
   "metadata": {},
   "source": [
    "En este caso los valores son algo crípticos, porque estamos ejecutando el núcleo de un cuaderno de Jupyter. Sin embargo, si ejecutásemos en un terminal\n",
    "```console\n",
    "$ python mi_suma.py 1 2\n",
    "```\n",
    "el programa `mi_suma.py` dado por\n",
    "```python\n",
    "import sys\n",
    "\n",
    "print(int(sys.argv[1]) + int(sys.argv[2]))\n",
    "```\n",
    "imprimiría un `3` por pantalla. También se pueden invocar comandos directamente desde IPython (por ejemplo, desde la consola integrada en Spyder) empezando la línea con un signo de exclamación."
   ]
  },
  {
   "cell_type": "code",
   "execution_count": 36,
   "id": "174de436-be52-432a-a456-d458f063f439",
   "metadata": {
    "lang": "ipython",
    "tags": []
   },
   "outputs": [
    {
     "name": "stdout",
     "output_type": "stream",
     "text": [
      "5\r\n"
     ]
    }
   ],
   "source": [
    "!python mi_suma.py 2 3"
   ]
  },
  {
   "cell_type": "code",
   "execution_count": 37,
   "id": "f6fd93d2-4069-41bc-ad45-57b239ba72d8",
   "metadata": {
    "lang": "ipython",
    "tags": []
   },
   "outputs": [
    {
     "name": "stdout",
     "output_type": "stream",
     "text": [
      "Traceback (most recent call last):\r\n",
      "  File \"mi_suma.py\", line 3, in <module>\r\n",
      "    print(int(sys.argv[1]) + int(sys.argv[2]))\r\n",
      "                                 ~~~~~~~~^^^\r\n",
      "IndexError: list index out of range\r\n"
     ]
    }
   ],
   "source": [
    "!python mi_suma.py 2  # falta un argumento"
   ]
  },
  {
   "cell_type": "markdown",
   "id": "46061795-e1a1-4b52-9b01-13dacdb616b0",
   "metadata": {},
   "source": [
    "El usuario del programa se puede equivocar al introducir los argumentos, por lo que es conveniente comprobar al menos que el número de argumentos proporcionado se corresponde con el esperado (por ejemplo, que se han pasado realmente dos números en el programa anterior) usando `len(sys.argv)`. Además, el código que se quiere ejecutar cuando se invoca el programa como un comando es habitual colocarlo al final y bajo una condición como la siguiente.\n",
    "```python\n",
    "import sys\n",
    "\n",
    "def print_file(nombre: str):\n",
    "    # lo que está más arriba\n",
    "\n",
    "if __name__ == '__main__':  # código del comando\n",
    "    if len(sys.argv) != 2:\n",
    "        print('Se espera un nombre de archivo como argumento.')\n",
    "    else:\n",
    "        print_file(sys.argv[1])\n",
    "```\n",
    "Eso permite importar el archivo con `import` (si se quisiera reutilizar la función `print_file` en otro programa) sin ejecutar el código del comando.\n",
    "\n",
    "En la práctica, `sys.argv` no se usa directamente, sino a través de bibliotecas como [`argparse`](https://docs.python.org/es/3/library/argparse.html) que analizan automáticamente la lista de argumentos según unas instrucciones."
   ]
  },
  {
   "cell_type": "markdown",
   "id": "4b05da47-766f-4ed8-bab3-2d63bae26f94",
   "metadata": {
    "notoc": true,
    "pretex": "\\small",
    "tags": []
   },
   "source": [
    "## Referencias\n",
    "\n",
    "* [§7.2 «Leyendo y escribiendo archivos»](https://docs.python.org/es/3/tutorial/inputoutput.html#reading-and-writing-files) del tutorial de Python.\n",
    "* §7.3 «Files» del [libro de Guttag](https://ucm.on.worldcat.org/oclc/1347116367) (§4.6 en la [edición de 2013](https://ucm.on.worldcat.org/oclc/1025935018))."
   ]
  }
 ],
 "metadata": {
  "authors": [
   {
    "name": "Rubén Rubio"
   }
  ],
  "kernelspec": {
   "display_name": "Python 3 (ipykernel)",
   "language": "python",
   "name": "python3"
  },
  "language_info": {
   "codemirror_mode": {
    "name": "ipython",
    "version": 3
   },
   "file_extension": ".py",
   "mimetype": "text/x-python",
   "name": "python",
   "nbconvert_exporter": "python",
   "pygments_lexer": "ipython3",
   "version": "3.11.3"
  }
 },
 "nbformat": 4,
 "nbformat_minor": 5
}
