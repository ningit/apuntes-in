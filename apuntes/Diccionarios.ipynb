{
 "cells": [
  {
   "cell_type": "markdown",
   "id": "fba129f1-0791-4a31-9763-503d376f66c9",
   "metadata": {},
   "source": [
    "# Diccionarios"
   ]
  },
  {
   "cell_type": "markdown",
   "id": "cff34a1b-8c6b-4fa2-b379-af3103b04181",
   "metadata": {},
   "source": [
    "Supongamos que tenemos la lista de precios de la cafetería de la facultad como una lista de pares `(producto, precio)`\n",
    "\n",
    "|              |          |        |                |          |                |           |\n",
    "| ------------ | -------- | ------ | -------------- | -------- | -------------- | --------- |\n",
    "| **Producto** | Menú     | Café   | Sándwich mixto | Refresco | Bocadillo lomo | Croquetas |\n",
    "| **Precio**   | 6.10     | 1.10   | 1.80           | 1.20     | 2.15           | 3.50      |"
   ]
  },
  {
   "cell_type": "code",
   "execution_count": 1,
   "id": "f158f9b4-5f6b-4120-a326-a8a8c7f150d7",
   "metadata": {
    "tags": []
   },
   "outputs": [],
   "source": [
    "lista_precios_cafetería = [('menú', 6.10), ('café', 1.10),\n",
    "                           ('sándwich mixto', 1.80)]  # etc."
   ]
  },
  {
   "cell_type": "markdown",
   "id": "88f545e8-7ab1-49d6-ace4-235ed607ffe4",
   "metadata": {},
   "source": [
    "y queremos calcular el precio total de un determinado tique (es decir, una lista de los productos adquiridos con su número de unidades)."
   ]
  },
  {
   "cell_type": "code",
   "execution_count": 2,
   "id": "bec6e86b-9894-4cd6-8862-4108b1298634",
   "metadata": {
    "tags": []
   },
   "outputs": [],
   "source": [
    "tique = [('café', 2), ('sándwich mixto', 1)]  # (producto, cantidad)"
   ]
  },
  {
   "cell_type": "code",
   "execution_count": 3,
   "id": "34001e30-600b-42b1-8e8c-111ba2dc0199",
   "metadata": {},
   "outputs": [],
   "source": [
    "def precio_tique(tique):\n",
    "    \"\"\"Calcula el precio del tique\"\"\"\n",
    "    \n",
    "    total = 0.0\n",
    "    \n",
    "    for producto, cantidad in tique:\n",
    "        # Buscamos el producto en la lista de precios\n",
    "        for prod, precio in lista_precios_cafetería:\n",
    "            if producto == prod:\n",
    "                total += precio * cantidad\n",
    "                break\n",
    "    \n",
    "    return total"
   ]
  },
  {
   "cell_type": "code",
   "execution_count": 4,
   "id": "014f1661-bc2c-4d29-9592-0d56cee8a2eb",
   "metadata": {},
   "outputs": [
    {
     "data": {
      "text/plain": [
       "4.0"
      ]
     },
     "execution_count": 4,
     "metadata": {},
     "output_type": "execute_result"
    }
   ],
   "source": [
    "precio_tique(tique)"
   ]
  },
  {
   "cell_type": "markdown",
   "id": "724c2bed-1995-486b-8dff-39b7d87ecd37",
   "metadata": {},
   "source": [
    "La implementación de `precio_tique` consulta la tabla de precios recorriéndola hasta encontrar el producto buscado. Si bien la búsqueda se podría hacer más eficiente ordenando la lista y utilizando la búsqueda binaria, consultar una tabla de datos es una operación suficientemente común como para que el lenguaje proporcione un tipo de datos para hacerlo eficiente y cómodamente. Este tipo en Python se llama *diccionario* (`dict`) y sus literales se escriben así:"
   ]
  },
  {
   "cell_type": "code",
   "execution_count": 5,
   "id": "03df05d6-32d9-4591-bb53-08f9f130db05",
   "metadata": {
    "tags": []
   },
   "outputs": [],
   "source": [
    "precios_cafetería = {\n",
    "    'menú': 6.10,\n",
    "    'café': 1.10,\n",
    "    'sándwich mixto': 1.80,\n",
    "    'refresco': 1.20,\n",
    "    'bocadillo lomo': 2.15,\n",
    "    'croquetas': 3.50,\n",
    "}"
   ]
  },
  {
   "cell_type": "markdown",
   "id": "32d743c4-f87c-48d7-b60e-78306a639af1",
   "metadata": {
    "tags": []
   },
   "source": [
    "El acceso se realiza con el operador corchete `[]` como veremos, por ejemplo:"
   ]
  },
  {
   "cell_type": "code",
   "execution_count": 6,
   "id": "dba3e66f-e9e9-464e-9957-e988b95e91eb",
   "metadata": {
    "tags": []
   },
   "outputs": [
    {
     "data": {
      "text/plain": [
       "6.1"
      ]
     },
     "execution_count": 6,
     "metadata": {},
     "output_type": "execute_result"
    }
   ],
   "source": [
    "precios_cafetería['menú']"
   ]
  },
  {
   "cell_type": "markdown",
   "id": "aaaafe03-5572-4445-9d4d-d45fd9cbef44",
   "metadata": {},
   "source": [
    " Los objetos a la izquierda de los dos puntos se llaman *claves* y los objetos a la derecha se llaman *valores*. El nombre *diccionario* es apropiado, pues permite encontrar a partir de un término su definición, sea lo que sea lo que signifique término y definición en cada caso."
   ]
  },
  {
   "cell_type": "code",
   "execution_count": 7,
   "id": "607b06c1-497b-45a0-a654-31f9fdc953b2",
   "metadata": {},
   "outputs": [],
   "source": [
    "diccionario_rae = {\n",
    "    'a': 'Primera letra del abecedario español',\n",
    "    'abáa': 'Casa comunal',\n",
    "    'ababillarse': 'Dicho de un animal: enfermar de la babilla',\n",
    "    'ababol': 'amapola',  # etc.\n",
    "}"
   ]
  },
  {
   "cell_type": "markdown",
   "id": "b31b5172-11fa-4484-bf81-b39a11d3e243",
   "metadata": {},
   "source": [
    "Los valores también pueden ser objetos estructurados y así describir entidades más complejas. "
   ]
  },
  {
   "cell_type": "code",
   "execution_count": 8,
   "id": "48b4ca0e-4178-409c-ac39-572b85219f37",
   "metadata": {},
   "outputs": [],
   "source": [
    "ficha = {\n",
    "    'nombre': 'Anselmo',\n",
    "    'apellidos': ['García', 'López'],\n",
    "    'fecha_nacimiento': {'día': 1, 'mes': 1, 'año': 2000},\n",
    "    'activo': True,\n",
    "    'asignaturas_matriculadas': {2019: 6, 2020: 4, 2021: 5},\n",
    "}"
   ]
  },
  {
   "cell_type": "markdown",
   "id": "3999be2e-c079-4d69-a43d-ca74c0fb81f4",
   "metadata": {},
   "source": [
    "Cualquier objeto puede ser valor y cualquier objeto inmutable puede ser clave. Que las claves sean inmutables es razonable, puesto que es la dirección que permite encontrar el objeto y la implementación se basa en ella para organizar los datos de forma que el acceso sea eficiente.\n",
    "\n",
    "Los diccionarios son útiles para organizar información estructurada, como en el diccionario de ejemplo `ficha` o en las bases de datos documentales que se utilizan para el procesamiento de datos masivos. También son útiles como estructuras de datos auxiliares en aquellos algoritmos en los que resulte necesario acceder eficientemente a unos valores a través de unas claves, como veremos en un ejemplo. En otros lenguajes de programación también existen los diccionarios, aunque tal vez con otro nombre como *map*. La implementación en Python se corresponde con el `unordered_map` en C++, el `HashMap` en Java, etc."
   ]
  },
  {
   "cell_type": "markdown",
   "id": "e796f5c1-598d-4aff-8a03-0cbb4a0a2a5f",
   "metadata": {},
   "source": [
    "## Construcción de diccionarios\n",
    "\n",
    "Como se acaba de ver, los diccionarios se pueden construir explícitamente como la notación `{clave: valor, ...}`, siendo `{}` o `dict()` el diccionario vacío. También es posible construirlos a partir de una lista de pares."
   ]
  },
  {
   "cell_type": "code",
   "execution_count": 9,
   "id": "5290be59-205d-4695-adb0-23f599fb47e3",
   "metadata": {
    "tags": []
   },
   "outputs": [
    {
     "data": {
      "text/plain": [
       "{'menú': 6.1, 'café': 1.1, 'sándwich mixto': 1.8}"
      ]
     },
     "execution_count": 9,
     "metadata": {},
     "output_type": "execute_result"
    }
   ],
   "source": [
    "dict(lista_precios_cafetería)  # definida al principio"
   ]
  },
  {
   "cell_type": "markdown",
   "id": "5f6c599d-c35b-4c85-b968-d6eb8cb60a03",
   "metadata": {},
   "source": [
    "Al igual que hiciéramos para las listas, también se pueden definir diccionarios intensionalmente, con `{clave: valor for vars in dominio}`."
   ]
  },
  {
   "cell_type": "code",
   "execution_count": 10,
   "id": "d8705515-485b-41bb-8235-c88e79290f1e",
   "metadata": {},
   "outputs": [
    {
     "data": {
      "text/plain": [
       "{9: 3, 25: 5, 49: 7, 81: 9, 121: 11, 169: 13, 225: 15, 289: 17, 361: 19}"
      ]
     },
     "execution_count": 10,
     "metadata": {},
     "output_type": "execute_result"
    }
   ],
   "source": [
    "{k ** 2: k for k in range(3, 20) if k % 2 != 0}  # raíces cuadradas impares"
   ]
  },
  {
   "cell_type": "markdown",
   "id": "c0c3d515-4fad-4190-bc19-7beac01f71e6",
   "metadata": {},
   "source": [
    "Igualmente, se pueden mezclar diccionarios."
   ]
  },
  {
   "cell_type": "code",
   "execution_count": 11,
   "id": "3fc039a3-ec04-46a6-b31b-4380ab6de99c",
   "metadata": {},
   "outputs": [
    {
     "data": {
      "text/plain": [
       "{'menú': 6.1,\n",
       " 'café': 1.1,\n",
       " 'sándwich mixto': 1.8,\n",
       " 'refresco': 1.2,\n",
       " 'bocadillo lomo': 2.15,\n",
       " 'croquetas': 3.5,\n",
       " 'botella de agua': 1.0}"
      ]
     },
     "execution_count": 11,
     "metadata": {},
     "output_type": "execute_result"
    }
   ],
   "source": [
    "precios_cafetería | {'botella de agua': 1.0}"
   ]
  },
  {
   "cell_type": "markdown",
   "id": "4b8a1e5c-a370-472c-a6e8-74bebd1ddd71",
   "metadata": {},
   "source": [
    "Los diccionarios son objetos mutables, por lo que también es posible construirlos paso a paso asignando nuevas o antiguas claves a nuevos valores. Antes de volver a esto, veamos cómo se pueden consultar las entradas del diccionario."
   ]
  },
  {
   "cell_type": "markdown",
   "id": "db7234ab-285c-4590-919d-d568933321b5",
   "metadata": {},
   "source": [
    "## Operaciones de consulta"
   ]
  },
  {
   "cell_type": "markdown",
   "id": "73a3c795-f7ee-4aa3-b99d-0be04e6a6286",
   "metadata": {},
   "source": [
    "La consulta de la clave `k` en el diccionario `d` se escribe `d[k]`. La notación es la misma que en las listas, pero aquí la clave puede ser cualquier objeto inmutable, no solo un rango de índices consecutivos."
   ]
  },
  {
   "cell_type": "code",
   "execution_count": 12,
   "id": "77cabf9b-b902-4d8b-993a-3c4bb528822c",
   "metadata": {},
   "outputs": [
    {
     "data": {
      "text/plain": [
       "6.1"
      ]
     },
     "execution_count": 12,
     "metadata": {},
     "output_type": "execute_result"
    }
   ],
   "source": [
    "precios_cafetería['menú']"
   ]
  },
  {
   "cell_type": "markdown",
   "id": "019eb8a4-7396-4309-8f37-07868f1fe34c",
   "metadata": {},
   "source": [
    "Si se intenta acceder a un campo que no existe se producirá un error."
   ]
  },
  {
   "cell_type": "code",
   "execution_count": 13,
   "id": "516ede80-62ae-47f2-a49a-e394f9764e01",
   "metadata": {},
   "outputs": [
    {
     "ename": "KeyError",
     "evalue": "'turrón de chocolate'",
     "output_type": "error",
     "traceback": [
      "\u001b[0;31m---------------------------------------------------------------------------\u001b[0m",
      "\u001b[0;31mKeyError\u001b[0m                                  Traceback (most recent call last)",
      "Cell \u001b[0;32mIn[13], line 1\u001b[0m\n\u001b[0;32m----> 1\u001b[0m \u001b[43mprecios_cafetería\u001b[49m\u001b[43m[\u001b[49m\u001b[38;5;124;43m'\u001b[39;49m\u001b[38;5;124;43mturrón de chocolate\u001b[39;49m\u001b[38;5;124;43m'\u001b[39;49m\u001b[43m]\u001b[49m\n",
      "\u001b[0;31mKeyError\u001b[0m: 'turrón de chocolate'"
     ]
    }
   ],
   "source": [
    "precios_cafetería['turrón de chocolate']"
   ]
  },
  {
   "cell_type": "markdown",
   "id": "951d8142-e657-42b2-bf78-0469f6a66f33",
   "metadata": {
    "tags": []
   },
   "source": [
    "Es posible consultar si una clave está definida en un diccionario con el operador `in` que ya se ha visto para las secuencias."
   ]
  },
  {
   "cell_type": "code",
   "execution_count": 14,
   "id": "162ef955-484e-4ede-bead-0f9586e108ec",
   "metadata": {},
   "outputs": [
    {
     "data": {
      "text/plain": [
       "False"
      ]
     },
     "execution_count": 14,
     "metadata": {},
     "output_type": "execute_result"
    }
   ],
   "source": [
    "'turrón de chocolate' in precios_cafetería"
   ]
  },
  {
   "cell_type": "markdown",
   "id": "ea18251d-0f9d-4c66-b91c-0cda3adb48b5",
   "metadata": {},
   "source": [
    "En ocasiones, interesa considerar un valor por defecto para el caso de que no esté definida una clave. Para ello está el método `get(key, default=None)` que podríamos definir como sigue (si no estuviera definido ya)."
   ]
  },
  {
   "cell_type": "code",
   "execution_count": 15,
   "id": "ab09ad7d-df62-4001-98b6-fc914a0a474f",
   "metadata": {
    "tags": []
   },
   "outputs": [],
   "source": [
    "def dict_get(dicc, clave, default=None):\n",
    "    if clave in dicc:\n",
    "        return dicc[clave]\n",
    "    else:\n",
    "        return default"
   ]
  },
  {
   "cell_type": "code",
   "execution_count": 16,
   "id": "b4bb6f00-d40b-44c6-af72-8c1dcfbadb35",
   "metadata": {
    "tags": []
   },
   "outputs": [
    {
     "data": {
      "text/plain": [
       "'no hay'"
      ]
     },
     "execution_count": 16,
     "metadata": {},
     "output_type": "execute_result"
    }
   ],
   "source": [
    "dict_get(precios_cafetería, 'turrón de chocolate', 'no hay')"
   ]
  },
  {
   "cell_type": "code",
   "execution_count": 17,
   "id": "cb53b10e-7c3e-46e7-9e41-513dea40223e",
   "metadata": {},
   "outputs": [
    {
     "data": {
      "text/plain": [
       "6.1"
      ]
     },
     "execution_count": 17,
     "metadata": {},
     "output_type": "execute_result"
    }
   ],
   "source": [
    "precios_cafetería.get('menú')"
   ]
  },
  {
   "cell_type": "code",
   "execution_count": 18,
   "id": "7a193858-7e00-4b98-b6ca-30d2290a7292",
   "metadata": {},
   "outputs": [
    {
     "name": "stdout",
     "output_type": "stream",
     "text": [
      "None\n"
     ]
    }
   ],
   "source": [
    "print(precios_cafetería.get('turrón de chocolate'))"
   ]
  },
  {
   "cell_type": "markdown",
   "id": "0d53ac99-e22c-4643-aa90-45c4a812875d",
   "metadata": {},
   "source": [
    "**Ejemplo 1 bis:** rehacemos la función `precio_tique` con diccionarios."
   ]
  },
  {
   "cell_type": "code",
   "execution_count": 19,
   "id": "5037b4c3-7826-4a5f-9553-921cd3f75e88",
   "metadata": {},
   "outputs": [],
   "source": [
    "def precio_tique(tique):\n",
    "    \"\"\"Calcula el precio del tique\"\"\"\n",
    "    \n",
    "    total = 0.0\n",
    "    \n",
    "    for producto, cantidad in tique:\n",
    "        precio = precios_cafetería.get(producto, 0.0)\n",
    "        total += precio * cantidad\n",
    "    \n",
    "    return total"
   ]
  },
  {
   "cell_type": "code",
   "execution_count": 20,
   "id": "79a38317-caa9-4093-96df-3718dbe0061f",
   "metadata": {},
   "outputs": [
    {
     "data": {
      "text/plain": [
       "4.0"
      ]
     },
     "execution_count": 20,
     "metadata": {},
     "output_type": "execute_result"
    }
   ],
   "source": [
    "precio_tique(tique)"
   ]
  },
  {
   "cell_type": "markdown",
   "id": "5943b9cd-21bc-47f7-b7f5-4ce3ff57920a",
   "metadata": {},
   "source": [
    "Además de consultar claves individuales, existen diversas funciones para conocer el estado global del diccionario. Por ejemplo, podemos obtener las claves y los valores con los métodos `keys` y `values`, respectivamente."
   ]
  },
  {
   "cell_type": "code",
   "execution_count": 21,
   "id": "efc26313-9086-4e80-8174-47387fb6b6cd",
   "metadata": {},
   "outputs": [
    {
     "data": {
      "text/plain": [
       "dict_keys(['menú', 'café', 'sándwich mixto', 'refresco', 'bocadillo lomo', 'croquetas'])"
      ]
     },
     "execution_count": 21,
     "metadata": {},
     "output_type": "execute_result"
    }
   ],
   "source": [
    "precios_cafetería.keys()"
   ]
  },
  {
   "cell_type": "code",
   "execution_count": 22,
   "id": "523081de-f6db-44a5-816b-a1ac5f67f6fa",
   "metadata": {},
   "outputs": [
    {
     "data": {
      "text/plain": [
       "dict_values([6.1, 1.1, 1.8, 1.2, 2.15, 3.5])"
      ]
     },
     "execution_count": 22,
     "metadata": {},
     "output_type": "execute_result"
    }
   ],
   "source": [
    "precios_cafetería.values()"
   ]
  },
  {
   "cell_type": "markdown",
   "id": "eb7ce642-e491-4ff2-a18e-e4dc33b79c6f",
   "metadata": {},
   "source": [
    "Estos métodos devuelven objetos iterables que podemos utilizar como hemos visto en el primer tema del cuatrimestre (aunque aparezcan impresos como listas no lo son y no se puede acceder a ellos por índice con el corchete). Iterar sobre el diccionario (`for clave in dicc`) es equivalente a iterar sobre `keys`. Además existe otro método `items` que devuelve un iterador sobre los pares de la relación que define el diccionario."
   ]
  },
  {
   "cell_type": "code",
   "execution_count": 23,
   "id": "5dcc71ab-1770-4029-8829-33ceb6564d47",
   "metadata": {},
   "outputs": [
    {
     "data": {
      "text/plain": [
       "dict_items([('menú', 6.1), ('café', 1.1), ('sándwich mixto', 1.8), ('refresco', 1.2), ('bocadillo lomo', 2.15), ('croquetas', 3.5)])"
      ]
     },
     "execution_count": 23,
     "metadata": {},
     "output_type": "execute_result"
    }
   ],
   "source": [
    "precios_cafetería.items()"
   ]
  },
  {
   "cell_type": "markdown",
   "id": "1b798007-fa94-49ad-80f2-2104c7cba12a",
   "metadata": {},
   "source": [
    "Por ejemplo, podemos calcular los precios de la cafetería si se les aplicase una subida por el IPC."
   ]
  },
  {
   "cell_type": "code",
   "execution_count": 24,
   "id": "2c74f407-d283-4dd5-91eb-947440082f1b",
   "metadata": {},
   "outputs": [
    {
     "data": {
      "text/plain": [
       "{'menú': 6.4538,\n",
       " 'café': 1.1638000000000002,\n",
       " 'sándwich mixto': 1.9044,\n",
       " 'refresco': 1.2696,\n",
       " 'bocadillo lomo': 2.2747,\n",
       " 'croquetas': 3.7030000000000003}"
      ]
     },
     "execution_count": 24,
     "metadata": {},
     "output_type": "execute_result"
    }
   ],
   "source": [
    "{producto: precio * 1.058 \n",
    " for producto, precio in precios_cafetería.items()}"
   ]
  },
  {
   "cell_type": "markdown",
   "id": "c4191b7a-f3ae-40f2-900b-769f407e2074",
   "metadata": {},
   "source": [
    "O imprimir una tabla con los precios."
   ]
  },
  {
   "cell_type": "code",
   "execution_count": 25,
   "id": "2ebbb3fd-8237-4ecb-9e40-b003949dba7d",
   "metadata": {},
   "outputs": [
    {
     "name": "stdout",
     "output_type": "stream",
     "text": [
      "| menú            |    6.1 |\n",
      "| café            |    1.1 |\n",
      "| sándwich mixto  |    1.8 |\n",
      "| refresco        |    1.2 |\n",
      "| bocadillo lomo  |   2.15 |\n",
      "| croquetas       |    3.5 |\n"
     ]
    }
   ],
   "source": [
    "for clave, valor in precios_cafetería.items():\n",
    "    # los números en las f-cadenas indican la anchura\n",
    "    print(f'| {clave:15} | {valor:6} |')"
   ]
  },
  {
   "cell_type": "markdown",
   "id": "1bed4b02-9ff0-441a-8004-eb67bd1f6e97",
   "metadata": {},
   "source": [
    "**Inciso**: las cadenas con formato (*format string*) son cadenas normales precedidas de una letra `f` que reemplazan las expresiones entre llaves por sus valores. Para ajustar mejor el texto, es posible indicar una anchura del campo tras dos puntos y el espacio sobrante se rellenará con espacios. Hay muchas otras opciones de formato, que se pueden consultar [aquí](https://docs.python.org/3/library/string.html#format-string-syntax)."
   ]
  },
  {
   "cell_type": "code",
   "execution_count": 26,
   "id": "f7cc3e2b-9147-47a1-881f-f8a03081ec17",
   "metadata": {},
   "outputs": [
    {
     "data": {
      "text/plain": [
       "'4 * 5 =    20'"
      ]
     },
     "execution_count": 26,
     "metadata": {},
     "output_type": "execute_result"
    }
   ],
   "source": [
    "f'4 * 5 = {4 * 5:5}'"
   ]
  },
  {
   "cell_type": "markdown",
   "id": "f55f7c5d-274f-41d5-8916-97c9e289f836",
   "metadata": {},
   "source": [
    "Finalmente, es posible conocer el número de entradas del diccionario con `len`."
   ]
  },
  {
   "cell_type": "code",
   "execution_count": 27,
   "id": "044da26b-493d-4ae1-95a3-13b6487fece0",
   "metadata": {},
   "outputs": [
    {
     "data": {
      "text/plain": [
       "6"
      ]
     },
     "execution_count": 27,
     "metadata": {},
     "output_type": "execute_result"
    }
   ],
   "source": [
    "len(precios_cafetería)"
   ]
  },
  {
   "cell_type": "markdown",
   "id": "7e7e9ee9-f53e-404a-8c5d-4ee77f96c6a7",
   "metadata": {},
   "source": [
    "## Operaciones de modificación"
   ]
  },
  {
   "cell_type": "markdown",
   "id": "a87513e1-6b69-4184-be4f-46d429fb6275",
   "metadata": {},
   "source": [
    "Como se ha dicho anteriormente, los diccionarios son estructuras de datos mutables, en las que se pueden añadir nuevas asignaciones o eliminar otras ya existentes."
   ]
  },
  {
   "cell_type": "code",
   "execution_count": 28,
   "id": "4ab25c8d-2639-42a9-ae51-b352583723e3",
   "metadata": {},
   "outputs": [],
   "source": [
    "precios_cafetería['bollo'] = 2.40  # añade una nueva entrada"
   ]
  },
  {
   "cell_type": "code",
   "execution_count": 29,
   "id": "3d32b07b-6caa-46a5-a631-1fc93d419302",
   "metadata": {
    "tags": []
   },
   "outputs": [],
   "source": [
    "precios_cafetería['bollo'] = 2.39  # modifica la existente"
   ]
  },
  {
   "cell_type": "code",
   "execution_count": 30,
   "id": "6ca4fac5-6082-4438-9067-213b53b67181",
   "metadata": {},
   "outputs": [
    {
     "data": {
      "text/plain": [
       "2.15"
      ]
     },
     "execution_count": 30,
     "metadata": {},
     "output_type": "execute_result"
    }
   ],
   "source": [
    "precios_cafetería.pop('bocadillo lomo')  # elimina y devuelve lo eliminado"
   ]
  },
  {
   "cell_type": "code",
   "execution_count": 31,
   "id": "40fc0cf6-b5c4-4bc2-848c-99a1941ec86b",
   "metadata": {},
   "outputs": [],
   "source": [
    "del precios_cafetería['refresco']  # elimina sin más"
   ]
  },
  {
   "cell_type": "code",
   "execution_count": 32,
   "id": "b204e219-dc86-4f19-8035-e29147767b16",
   "metadata": {},
   "outputs": [
    {
     "data": {
      "text/plain": [
       "{'menú': 6.1,\n",
       " 'café': 1.1,\n",
       " 'sándwich mixto': 1.8,\n",
       " 'croquetas': 3.5,\n",
       " 'bollo': 2.39}"
      ]
     },
     "execution_count": 32,
     "metadata": {},
     "output_type": "execute_result"
    }
   ],
   "source": [
    "precios_cafetería"
   ]
  },
  {
   "cell_type": "markdown",
   "id": "563a90b8-7808-4c04-86b2-ea18a2f7fbe1",
   "metadata": {},
   "source": [
    "**Ejemplo 2 (recuento de frecuencias)**: usando un diccionario, vamos a escribir una función que calcula la frecuencia de cada objeto en una colección."
   ]
  },
  {
   "cell_type": "code",
   "execution_count": 33,
   "id": "f2e58900-48e6-47ae-9622-16ef4ed0c77f",
   "metadata": {},
   "outputs": [],
   "source": [
    "def frecuencias(colección) -> dict:\n",
    "    \"\"\"Número de apariciones de cada objeto en la colección\"\"\"\n",
    "    \n",
    "    fqs = {}\n",
    "    \n",
    "    for elem in colección:\n",
    "        fqs[elem] = fqs.get(elem, 0) + 1\n",
    "    \n",
    "    return fqs"
   ]
  },
  {
   "cell_type": "code",
   "execution_count": 34,
   "id": "8a90f8fc-dba0-4d7d-89cc-89c0561a9c36",
   "metadata": {},
   "outputs": [],
   "source": [
    "# Mi gato (Rosario Flores)\n",
    "letra = '''Algo hay que me empuja a saltar\n",
    "A vivir en libertad\n",
    "En los tejados de esta gran ciudad, ay, ay, ay\n",
    "Uy, uy, uy, mi gato hace uy, uy, uy\n",
    "Uy, uy, uy, mi gato hace ay, ay, ay, ay\n",
    "Uy, uy, uy, mi gato hace uy, uy, uy\n",
    "Uy, uy, uy, mi gato hace ay, ay, ay, ay\n",
    "Ay, ay, ay, ay, ay'''.replace(',', '').lower().split()"
   ]
  },
  {
   "cell_type": "code",
   "execution_count": 35,
   "id": "49b589de-10de-43a3-85b4-6de5cfa3900d",
   "metadata": {},
   "outputs": [
    {
     "data": {
      "text/plain": [
       "{'algo': 1,\n",
       " 'hay': 1,\n",
       " 'que': 1,\n",
       " 'me': 1,\n",
       " 'empuja': 1,\n",
       " 'a': 2,\n",
       " 'saltar': 1,\n",
       " 'vivir': 1,\n",
       " 'en': 2,\n",
       " 'libertad': 1,\n",
       " 'los': 1,\n",
       " 'tejados': 1,\n",
       " 'de': 1,\n",
       " 'esta': 1,\n",
       " 'gran': 1,\n",
       " 'ciudad': 1,\n",
       " 'ay': 16,\n",
       " 'uy': 18,\n",
       " 'mi': 4,\n",
       " 'gato': 4,\n",
       " 'hace': 4}"
      ]
     },
     "execution_count": 35,
     "metadata": {},
     "output_type": "execute_result"
    }
   ],
   "source": [
    "frecuencias(letra)"
   ]
  },
  {
   "cell_type": "markdown",
   "id": "a1656964-189a-4102-9166-7d08a6a97fb6",
   "metadata": {
    "tags": []
   },
   "source": [
    "**Ejercicio** (7 de la hoja)**:** obtener el ranking de las palabras más repetidas. <bigskip/>"
   ]
  },
  {
   "cell_type": "markdown",
   "id": "8a5d4cfd-1624-4445-8536-f185784da5e1",
   "metadata": {},
   "source": [
    "**Recapitulación**: esto es un resumen de las operaciones sobre diccionarios:\n",
    "\n",
    "* `{}` o `dict()` es el diccionario vacío.\n",
    "* `dict(xs)` es el diccionario dado por una lista de pares `xs`.\n",
    "* `d[k]` accede al diccionario `d` con la clave `k`.\n",
    "* `d.get(k, default=None)` hace lo mismo que `d[k]` pero devuelve un valor por defecto en caso de que no exista la entrada\n",
    "* `k in d` comprueba si la clave `k` está definida.\n",
    "* `d[k] = v` asigna el valor `v` a la clave `k`, reemplazando el valor anterior si lo hubiera.\n",
    "* `del d[k]` o `d.pop(k)` elimina la asignación a `k` en el diccionario.\n",
    "* `d.keys()` es un iterador sobre las claves del diccionario. \n",
    "* `d.values()` es un iterador sobre los valores del diccionario.\n",
    "* `d.items()` es un iterador sobre los pares clave/valor del diccionario."
   ]
  },
  {
   "cell_type": "markdown",
   "id": "397cf743-97ae-4d4f-934c-af82c8b12a75",
   "metadata": {},
   "source": [
    "## Conjuntos"
   ]
  },
  {
   "cell_type": "markdown",
   "id": "dc121138-29e8-4960-884c-1f78c641202d",
   "metadata": {},
   "source": [
    "Un diccionario se puede utilizar rudimentariamente como un conjunto, con el operador `in` y la mezcla de diccionarios como unión."
   ]
  },
  {
   "cell_type": "code",
   "execution_count": 36,
   "id": "a3af10a8-9fe8-4e44-afac-044666a97a90",
   "metadata": {
    "tags": []
   },
   "outputs": [
    {
     "data": {
      "text/plain": [
       "({1: None, 4: None, 11: None, 8: None, 3: None}, False, True)"
      ]
     },
     "execution_count": 36,
     "metadata": {},
     "output_type": "execute_result"
    }
   ],
   "source": [
    "A = {1: None, 4: None}\n",
    "B = {11: None, 8: None, 3: None}\n",
    "\n",
    "A | B, 11 in A, 11 in B"
   ]
  },
  {
   "cell_type": "markdown",
   "id": "e6df0837-885b-4799-a48f-01e7729b4e4f",
   "metadata": {},
   "source": [
    "Sin embargo, no resulta cómodo y faltan operaciones importantes como la intersección o la diferencia. El repertorio de tipos predefinidos de Python incluye también un tipo conjunto `set`. El conjunto vacío se escribe `set()` (no `{}`, que sería un diccionario) y un conjunto no vacío se puede definir extensionalmente enumerando sus elementos separados por comas y entre llaves (`{}`)."
   ]
  },
  {
   "cell_type": "code",
   "execution_count": 37,
   "id": "e9dac650-907e-4f06-8ae8-d6bf3bebdea5",
   "metadata": {},
   "outputs": [
    {
     "data": {
      "text/plain": [
       "{1, 2, 3}"
      ]
     },
     "execution_count": 37,
     "metadata": {},
     "output_type": "execute_result"
    }
   ],
   "source": [
    "{1, 2, 2, 3, 1}"
   ]
  },
  {
   "cell_type": "markdown",
   "id": "6077270c-cddb-40fe-b81e-5d868d4787e2",
   "metadata": {},
   "source": [
    "Los conjuntos también se pueden describir intensionalmente, como las listas pero con llaves en lugar de corchetes."
   ]
  },
  {
   "cell_type": "code",
   "execution_count": 38,
   "id": "8c616407-c028-4e7c-90e6-5701a80fd0c1",
   "metadata": {},
   "outputs": [
    {
     "data": {
      "text/plain": [
       "{0, 3, 6, 9, 12, 15, 18, 21, 24, 27, 30}"
      ]
     },
     "execution_count": 38,
     "metadata": {},
     "output_type": "execute_result"
    }
   ],
   "source": [
    "{3 * k for k in range(11)}"
   ]
  },
  {
   "cell_type": "markdown",
   "id": "958ff5bb-2543-4baf-9756-5d0b6732938b",
   "metadata": {},
   "source": [
    "Y se puede generar un diccionario a partir de cualquier objeto iterable."
   ]
  },
  {
   "cell_type": "code",
   "execution_count": 39,
   "id": "773344f4-3c0a-4f3f-bf20-31902666f783",
   "metadata": {},
   "outputs": [
    {
     "data": {
      "text/plain": [
       "{0, 1, 2, 3, 4, 5, 6, 7, 8, 9}"
      ]
     },
     "execution_count": 39,
     "metadata": {},
     "output_type": "execute_result"
    }
   ],
   "source": [
    "set(range(0, 10))"
   ]
  },
  {
   "cell_type": "markdown",
   "id": "11c4f354-7438-4751-97e6-a166f3444d2c",
   "metadata": {},
   "source": [
    "Además están definidas las siguientes operaciones:\n",
    "\n",
    "|            |            |            |                 |                 |                  |               |\n",
    "| ---------- | ---------- | ---------- | --------------- | --------------- | ---------------- |-------------- |\n",
    "| $\\emptyset$| $A \\cup B$ | $A \\cap B$ | $A \\setminus B$ | $A \\subseteq B$ | $A \\subsetneq B$ | $A \\oplus B$  |\n",
    "| `set()`    | `A \\| B`    | `A & B`    | `A - B`         | `A <= B`        | `A < B`          | `A ^ B`       |\n",
    "\n",
    "    \n",
    "* `add` para añadir un elemento.\n",
    "* `discard` para eliminar un elemento dado (`remove` hace lo mismo, pero produciendo un error si no está en el conjunto).\n",
    "* `pop` para obtener un elemento cualquiera del conjunto, eliminándolo.\n",
    "* `len` para obtener el cardinal del conjunto.\n",
    "* `issubset` e `issuperset` (o los operadores `<=` y `>=`) para comprobar si un conjunto es subconjunto o superconjunto de otro.\n",
    "* `union` (o el operador `|`) para obtener la unión de dos conjuntos.\n",
    "* `difference` (o el operador `-`) para obtener la diferencia entre dos conjuntos.\n",
    "* `intersection` (o el operador `&`) para calcular la intersección de dos conjuntos.\n",
    "* `symmetric_difference` (o el operador `^`) para calcular la diferencia simétrica.\n",
    "\n",
    "Los cuatro últimos métodos devuelven un conjunto nuevo sin modificar los originales, aunque existen versiones de cada operador terminadas en `update` (o el operador precedido de `=`) en los que se modifica el primer conjunto. Además es un objeto iterable."
   ]
  },
  {
   "cell_type": "markdown",
   "id": "d1573d78-02aa-4883-b938-526f81a02f09",
   "metadata": {
    "notoc": true,
    "pretex": "\\small",
    "tags": []
   },
   "source": [
    "## Referencias\n",
    "\n",
    "* [§5.5 «Diccionarios»](https://docs.python.org/es/3/tutorial/datastructures.html#dictionaries) y [§5.4 «Conjuntos»](https://docs.python.org/es/3/tutorial/datastructures.html#sets) del tutorial de Python.\n",
    "* §5.7 «Dictionaries» del [libro de Guttag](https://ucm.on.worldcat.org/oclc/1347116367) (§5.5 en la [edición de 2013](https://ucm.on.worldcat.org/oclc/1025935018))."
   ]
  }
 ],
 "metadata": {
  "authors": [
   {
    "name": "Rubén Rubio"
   }
  ],
  "kernelspec": {
   "display_name": "Python 3 (ipykernel)",
   "language": "python",
   "name": "python3"
  },
  "language_info": {
   "codemirror_mode": {
    "name": "ipython",
    "version": 3
   },
   "file_extension": ".py",
   "mimetype": "text/x-python",
   "name": "python",
   "nbconvert_exporter": "python",
   "pygments_lexer": "ipython3",
   "version": "3.11.3"
  }
 },
 "nbformat": 4,
 "nbformat_minor": 5
}
